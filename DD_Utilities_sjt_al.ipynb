{
 "cells": [
  {
   "cell_type": "markdown",
   "id": "P8_qLIJNb6cv",
   "metadata": {
    "id": "P8_qLIJNb6cv"
   },
   "source": [
    "## DD Utilities"
   ]
  },
  {
   "cell_type": "code",
   "execution_count": null,
   "id": "uIQwpYTchMvn",
   "metadata": {
    "id": "uIQwpYTchMvn"
   },
   "outputs": [],
   "source": [
    "import numpy as np"
   ]
  },
  {
   "cell_type": "code",
   "execution_count": null,
   "id": "n_6S9zuRbqvy",
   "metadata": {
    "id": "n_6S9zuRbqvy"
   },
   "outputs": [],
   "source": [
    "def Linear_system(n,sread,swrite,iparam):\n",
    "    if sread == False:\n",
    "        M = n*np.identity(n) + np.random.rand(n,n) #uses uniform dist on [0,1)\n",
    "        y= np.random.rand(n,1)\n",
    "    else:\n",
    "        from pandas import read_csv\n",
    "        df = read_csv('iparam'+str(iparam)+'.csv',header=None)\n",
    "        print(\"didn't fully read\")\n",
    "#         from pandas import read_csv\n",
    "#         df = read_csv('M.csv',header=None)\n",
    "#         M = df.values\n",
    "#         df = read_csv('y.csv',header=None)\n",
    "#         y = df.values\n",
    "        pass\n",
    "    \n",
    "    x= np.linalg.solve(M,y)\n",
    "    xstore= x\n",
    "    \n",
    "    return M, x, y, xstore"
   ]
  },
  {
   "cell_type": "code",
   "execution_count": null,
   "id": "f642d607",
   "metadata": {},
   "outputs": [],
   "source": [
    "def save_to_csv(n,p,K,nb,nn,ne,M,y,svpert,iparam):\n",
    "    import csv\n",
    "    f = open('iparam'+str(iparam)+'.csv', 'w')\n",
    "    writer = csv.writer(f)\n",
    "    writer.writerow([n])\n",
    "    writer.writerow([p])\n",
    "    writer.writerow([K])\n",
    "    writer.writerow(nb)\n",
    "    writer.writerow(nn)\n",
    "    writer.writerow(ne)\n",
    "    writer.writerows(M)\n",
    "    writer.writerow(y[:,0])\n",
    "    f.close()\n",
    "    \n",
    "    file = open('svpert'+str(iparam)+'.csv', 'w')\n",
    "    writer = csv.writer(file)\n",
    "    writer.writerows(svpert)\n",
    "    file.close()"
   ]
  },
  {
   "cell_type": "code",
   "execution_count": null,
   "id": "IzAWBCzdx5Zd",
   "metadata": {
    "id": "IzAWBCzdx5Zd"
   },
   "outputs": [],
   "source": [
    "def set_parameters(n,p,b,e):\n",
    "    #checks for inconsistent input, throws errors\n",
    "    #establishes p, b, and e if needed\n",
    "    import math\n",
    "    pgiven=p!=-1\n",
    "    bgiven=b!=[-1]\n",
    "    egiven=e!=[-1]\n",
    "    overlapmode=type(e)==int # I didn't do any typechecking, so it won't throw an error for a float\n",
    "  \n",
    "    if n<2 or n>100:\n",
    "         raise ValueError(\"error n should be between 2 and 100\")\n",
    "        \n",
    "    if pgiven and (p<2 or p>50):\n",
    "        raise ValueError(\"error p should be between 2 and 50\")\n",
    "    \n",
    "    if bgiven:\n",
    "        if p != len(b):#b must be a list\n",
    "            if not pgiven: \n",
    "                p = len(b)\n",
    "            else:\n",
    "                raise ValueError(\"error inconsistent input of b and p\")\n",
    "\n",
    "        if egiven:\n",
    "            if overlapmode:\n",
    "                if e<1:\n",
    "                    raise ValueError(\"error overlap (integer given for e) should not be less than 1\")\n",
    "            else:\n",
    "                if len(e) != len(b): # already verified that p is len b\n",
    "                    raise ValueError(\"error inconsistent input of b and e\")\n",
    "        \n",
    "        if (not egiven) or overlapmode:\n",
    "            o=2\n",
    "            if overlapmode:\n",
    "                o=e\n",
    "\n",
    "#             o=3\n",
    "            e=[]\n",
    "            for i in range(len(b)-1):\n",
    "                e+=[b[i+1]+o-1]\n",
    "                if e[-1]>n: #will reset any of them to be <= n\n",
    "                    e[-1]=n\n",
    "            e+=[n] #because the last end must be n\n",
    "        if not verify_domains1(b,e,n):\n",
    "            raise ValueError(\"error: set of subdomains does not give full coverage of the domain\")\n",
    "\n",
    "#         if not verify_domains2(b,e,n):\n",
    "#             raise ValueError(\"error: Domains do not overlap sufficiently. If we represent the subdomains that overlap as a graph, there must only be once connected component. Now, there are more than 1.\")\n",
    "\n",
    "\n",
    "      # construct e\n",
    "    else:\n",
    "        o=3\n",
    "        if egiven:\n",
    "            if overlapmode:\n",
    "                if e<1:\n",
    "                    raise ValueError(\"error overlap (integer given for e) should not be less than 1\")\n",
    "                o=e\n",
    "            else:\n",
    "                raise ValueError(\"error please give b if you give a set of ends as e\")\n",
    "        if not pgiven:\n",
    "            p=4 #since nothing was given\n",
    "            \n",
    "        # construct b and e since neither was given as a list\n",
    "        inc=(n-1)/p\n",
    "        val=1\n",
    "        b=[0]*p\n",
    "        for i in range(p):\n",
    "            b[i]=math.ceil(val)\n",
    "            val+=inc\n",
    "        e=[]\n",
    "        for i in range(len(b)-1):\n",
    "            e+=[b[i+1]+o-1]\n",
    "            if e[-1]>n: #will reset any of them to be <= n\n",
    "                e[-1]=n\n",
    "      #assert(b[i+1]+o-1<=n)#will fail if o>n-1\n",
    "        e+=[n]\n",
    "    \n",
    "    return p,b,e"
   ]
  },
  {
   "cell_type": "code",
   "execution_count": null,
   "id": "W1X2pLLTbosH",
   "metadata": {
    "id": "W1X2pLLTbosH"
   },
   "outputs": [],
   "source": [
    "def fix_domains(n, p, b, e, iprint):\n",
    "    #creates nn, ne, nb, and index which are needed later\n",
    "    \n",
    "    import math\n",
    "    \n",
    "    #these should only fail if fix_domains failed\n",
    "#     assert(verify_domains1(b,e,n)) \n",
    "#     assert(verify_domains2(b,e,n)) #should fail if o<1\n",
    "\n",
    "    nb=np.array(b)\n",
    "    ne=np.array(e)\n",
    "    nn=ne-nb+1\n",
    "    nnmax=np.max(nn)\n",
    "\n",
    "    index=np.zeros((p,nnmax))\n",
    "#     index[0,0:nn[0]]=np.linspace(nb[0],ne[0],nn[0])\n",
    "#     index[1,0:nn[1]]=np.linspace(nb[1],ne[1],nn[1])\n",
    "#     index[2,0:nn[2]]=np.linspace(nb[2],ne[2],nn[2])\n",
    "#     index[3,0:nn[3]]=np.linspace(nb[3],ne[3],nn[3])\n",
    "    for i in range(p):\n",
    "        index[i,0:nn[i]]=np.linspace(nb[i],ne[i],nn[i])\n",
    "\n",
    "    return nn, nb, ne, index"
   ]
  },
  {
   "cell_type": "code",
   "execution_count": null,
   "id": "fRPe7nkkGYc_",
   "metadata": {
    "id": "fRPe7nkkGYc_"
   },
   "outputs": [],
   "source": [
    "def verify_domains1(b,e,n):\n",
    "    # Determines whether the set of subdomains gives full coverage of the domain.\n",
    "    # verify_domains1 is unnecessary because passing verify_domains2 implies that a set of domains \n",
    "    # passes verify_domains1.\n",
    "    vec=[0]*n\n",
    "    p=len(b)\n",
    "    for i in range(p):\n",
    "        if b[i]>e[i]:\n",
    "            return False\n",
    "    for i in range(p):\n",
    "        for j in range(b[i],e[i]+1):\n",
    "            vec[j-1]=1\n",
    "    for s in vec:\n",
    "        if s==0:\n",
    "            return False\n",
    "    return True"
   ]
  },
  {
   "cell_type": "code",
   "execution_count": null,
   "id": "uxNp83-PGYR3",
   "metadata": {
    "id": "uxNp83-PGYR3"
   },
   "outputs": [],
   "source": [
    "def verify_domains2(b,e,n,verbose=False):\n",
    "    # The subomains should overlap sufficiently. There should not be subgroups of subdomains that overlap, \n",
    "    # but do not overlap the other group.  If we represent the subdomains as vertices in a graph where an \n",
    "    # edge represents overlap, there must only be once connected component.\n",
    "    \n",
    "    p=len(b)\n",
    "    M=np.zeros((n,n))\n",
    "    vec=np.zeros((n,1))\n",
    "    vec[-1]=1\n",
    "    for i in range(p):\n",
    "        for j in range(b[i],e[i]+1):\n",
    "            for l in range(b[i],e[i]+1):\n",
    "                M[j-1,l-1]=1\n",
    "    if verbose:\n",
    "        print(M)\n",
    "        print(vec)\n",
    "    M=np.linalg.matrix_power(M,n)#probably more efficient to associate from the right side\n",
    "    vec=M@vec\n",
    "    if verbose:\n",
    "        print(M)\n",
    "        print(vec)\n",
    "    for s in vec:\n",
    "        if s==0:\n",
    "            return False\n",
    "    return True"
   ]
  },
  {
   "cell_type": "code",
   "execution_count": null,
   "id": "Sc6yrJ4Mbmk6",
   "metadata": {
    "id": "Sc6yrJ4Mbmk6"
   },
   "outputs": [],
   "source": [
    "def Rmatrices(n,p,nn,index,iprint):\n",
    "    nnmax=np.max(nn)\n",
    "    R=np.zeros((p,nnmax,n))\n",
    "    \n",
    "    for i in range(0,p):\n",
    "        for j in range(0,nn[i]):\n",
    "            R[i,j,int(index[i,j] - 1)] = 1 \n",
    "    \n",
    "    return R"
   ]
  },
  {
   "cell_type": "code",
   "execution_count": null,
   "id": "EkcBR7PzbkVM",
   "metadata": {
    "id": "EkcBR7PzbkVM"
   },
   "outputs": [],
   "source": [
    "def Amatrices(M,R,n,p,nn,iprint):\n",
    "    nnmax=np.max(nn)\n",
    "    A=np.zeros((p,nnmax,nnmax))\n",
    "    RR=np.zeros((nnmax,n))\n",
    "    AA=np.zeros((nnmax,nnmax))\n",
    "    \n",
    "    for i in range(0,p):\n",
    "        RR=R[i] \n",
    "        AA=RR@M@RR.T\n",
    "        A[i]=AA\n",
    "        \n",
    "    return A"
   ]
  },
  {
   "cell_type": "code",
   "execution_count": null,
   "id": "0m00sqGqbiYg",
   "metadata": {
    "id": "0m00sqGqbiYg"
   },
   "outputs": [],
   "source": [
    "def Bmatrices(A, R, n, p, nn, iprint):\n",
    "    nnmax= max(nn)\n",
    "\n",
    "    B= np.zeros((p,n,n))\n",
    "    RR= np.zeros((nnmax,n))\n",
    "    AA= np.zeros((nnmax,nnmax))\n",
    "    \n",
    "    for i in range(0,p):\n",
    "        RR=R[i]\n",
    "        AA=A[i]\n",
    "        B[i]=RR[0:nn[i],:].T@np.linalg.inv(AA[0:nn[i],0:nn[i]])@RR[0:nn[i],:]\n",
    "    \n",
    "    if iprint >=6:\n",
    "        print('Print B matrices')\n",
    "        for i in range(p):\n",
    "              tmp= np.zeros((n,n))\n",
    "              print('i=',i)\n",
    "              tmp[0:n,0:n]= B[i,0:n,0:n]\n",
    "              tmp[1:n,1:n]\n",
    "        \n",
    "    return B"
   ]
  },
  {
   "cell_type": "code",
   "execution_count": null,
   "id": "h1Pm2XytbgKd",
   "metadata": {
    "id": "h1Pm2XytbgKd"
   },
   "outputs": [],
   "source": [
    "def Cmatrices(M,B,n,p,iprint):\n",
    "    C= np.zeros((p,n,n))\n",
    "    CC= np.zeros((n,n))\n",
    "    BB= np.zeros((n,n))\n",
    "    for i in range(p):\n",
    "        BB= B[i]\n",
    "        CC= BB@M\n",
    "        C[i]= CC\n",
    "\n",
    "    if iprint >= 6:\n",
    "        print('Print C matrices ')\n",
    "        for i in range(p):\n",
    "            tmp= np.zeros((n,n))\n",
    "            print('Subdomain',i)\n",
    "            tmp[1:n,1:n]= C[i,1:n,1:n]\n",
    "            print(tmp[1:n,1:n])\n",
    "\n",
    "    return C"
   ]
  },
  {
   "cell_type": "code",
   "execution_count": null,
   "id": "r0MwZMYWCay4",
   "metadata": {
    "id": "r0MwZMYWCay4"
   },
   "outputs": [],
   "source": [
    "def fvector(B,y,n,p,iprint):\n",
    "    # Construct f vector for either additive or multiplicative Schwarz\n",
    "    \n",
    "    f=np.zeros((p,n))\n",
    "    BB=np.zeros((n,n))\n",
    "    \n",
    "    for i in range(p):\n",
    "        BB=B[i]\n",
    "        f[i]=BB@y[0:n,0]\n",
    "    if iprint >= 4:\n",
    "        print(\"Print f vector \")\n",
    "        for i in range (p):\n",
    "            tmp = np.zeros((n,1))\n",
    "            print(\"i=\",i)\n",
    "            tmp[0:n,0] = f[i,0:n]\n",
    "            print(tmp[0:n,0])\n",
    "            \n",
    "    return f"
   ]
  },
  {
   "cell_type": "code",
   "execution_count": null,
   "id": "Eqgp492vfFR_",
   "metadata": {
    "id": "Eqgp492vfFR_"
   },
   "outputs": [],
   "source": [
    "def solution_compare(xstore,vstore,wstore,zstore,iprint):\n",
    "\n",
    "    nx= len(xstore)\n",
    "    nv= len(vstore)\n",
    "\n",
    "    print(f'norm(exact - iterative) solutions    = {np.linalg.norm(xstore[0:nx,0]-vstore[nv-nx:nv,0]):13.6e}' ) \n",
    "\n",
    "    if iprint >= 2:\n",
    "        print(f'Difference between vstore and wstore = {np.linalg.norm(vstore-wstore):13.6e}')\n",
    "        print(f'Difference between wstore and zstore = {np.linalg.norm(wstore-zstore):13.6e}')\n",
    "        print(f'Difference between vstore and zstore = {np.linalg.norm(vstore-zstore):13.6e}')\n",
    "\n",
    "    if iprint >=6:\n",
    "        print(xstore[0:nx,0]-vstore[nv-nx:nv,0])\n",
    "        print(vstore-wstore)\n",
    "        print(wstore-zstore)\n",
    "        print(vstore-zstore)"
   ]
  }
 ],
 "metadata": {
  "colab": {
   "collapsed_sections": [],
   "name": "DDUtilities.ipynb",
   "provenance": []
  },
  "kernelspec": {
   "display_name": "Python 3",
   "language": "python",
   "name": "python3"
  },
  "language_info": {
   "codemirror_mode": {
    "name": "ipython",
    "version": 3
   },
   "file_extension": ".py",
   "mimetype": "text/x-python",
   "name": "python",
   "nbconvert_exporter": "python",
   "pygments_lexer": "ipython3",
   "version": "3.8.8"
  }
 },
 "nbformat": 4,
 "nbformat_minor": 5
}
