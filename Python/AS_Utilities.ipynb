{
 "cells": [
  {
   "cell_type": "markdown",
   "id": "74e1a9d3",
   "metadata": {
    "id": "jxzyQwB-cDTl"
   },
   "source": [
    "## Multiplicative Utilities"
   ]
  },
  {
   "cell_type": "code",
   "execution_count": 2,
   "id": "d57e746d",
   "metadata": {},
   "outputs": [],
   "source": [
    "import numpy as np"
   ]
  },
  {
   "cell_type": "code",
   "execution_count": null,
   "id": "dee43445",
   "metadata": {},
   "outputs": [],
   "source": [
    "def Make_svpert_add(n,p,sread,iparam):\n",
    "    if sread == False:\n",
    "        svpert=np.random.randn(n*p,1)\n",
    "    else:\n",
    "        print(\"didn't fully read\")\n",
    "#         from pandas import read_csv\n",
    "#         df = read_csv('M.csv',header=None)\n",
    "#         M = df.values\n",
    "#         df = read_csv('y.csv',header=None)\n",
    "#         y = df.values\n",
    "        pass\n",
    "    \n",
    "    return svpert"
   ]
  },
  {
   "cell_type": "code",
   "execution_count": null,
   "id": "hGmCdY0jVieP",
   "metadata": {
    "executionInfo": {
     "elapsed": 13,
     "status": "ok",
     "timestamp": 1638917625607,
     "user": {
      "displayName": "Andre Leautaud",
      "photoUrl": "https://lh3.googleusercontent.com/a/default-user=s64",
      "userId": "00179671138191466499"
     },
     "user_tz": 420
    },
    "id": "hGmCdY0jVieP"
   },
   "outputs": [],
   "source": [
    "def Citeration_additive_adjoint(D,f,n,p,K,iprint):\n",
    "    \n",
    "    vstore=np.zeros((n*p*K,1))\n",
    "    v=np.zeros((n,1))\n",
    "    ff=np.zeros((1,n))\n",
    "\n",
    "    for k in range(K):\n",
    "        for i in range (p):\n",
    "            DD=D[i]\n",
    "            ff=f[i,range(n)]\n",
    "            ff=ff[np.newaxis]\n",
    "            v=DD@v+ff.T\n",
    "            vstore[k*n*p + i*n : k*n*p+(i+1)*n]=v[range(n)] \n",
    "    \n",
    "            if iprint>=4:\n",
    "                print('Outer iteration k, Inner iteration i',k,i) \n",
    "                print(v.T)\n",
    "        \n",
    "        if iprint>=2:\n",
    "            print('Outer iteration' , k)\n",
    "            print(v.T)\n",
    "        \n",
    "    return vstore"
   ]
  },
  {
   "cell_type": "code",
   "execution_count": null,
   "id": "b518981b",
   "metadata": {
    "executionInfo": {
     "elapsed": 13,
     "status": "ok",
     "timestamp": 1638917625607,
     "user": {
      "displayName": "Andre Leautaud",
      "photoUrl": "https://lh3.googleusercontent.com/a/default-user=s64",
      "userId": "00179671138191466499"
     },
     "user_tz": 420
    },
    "id": "hGmCdY0jVieP"
   },
   "outputs": [],
   "source": [
    "def Citeration_additive_approx(D,f,n,p,K,iprint):\n",
    "    \n",
    "    vstore=np.zeros((n*p*K,1))\n",
    "    v=np.zeros((n,1))\n",
    "    ff=np.zeros((1,n))\n",
    "\n",
    "    for k in range(K):\n",
    "        for i in range (p):\n",
    "            DD=D[i]\n",
    "            ff=f[i,range(n)]\n",
    "            ff=ff[np.newaxis]\n",
    "            v=DD@v+ff.T\n",
    "            vstore[k*n*p + i*n : k*n*p+(i+1)*n]=v[range(n)] \n",
    "    \n",
    "            if iprint>=4:\n",
    "                print('Outer iteration k, Inner iteration i',k,i) \n",
    "                print(v.T)\n",
    "        \n",
    "        if iprint>=2:\n",
    "            print('Outer iteration' , k)\n",
    "            print(v.T)\n",
    "        \n",
    "    return vstore"
   ]
  },
  {
   "cell_type": "code",
   "execution_count": null,
   "id": "c7d2c080",
   "metadata": {},
   "outputs": [],
   "source": [
    "def Cmatrices_additive(M,B,n,p,iprint = 0): \n",
    "    # Construct C matrices for additive Schwarz\n",
    "    \n",
    "    C = np.zeros((p,n,n))\n",
    "    CC = np.zeros((n,n))\n",
    "    BB = np.zeros((n,n))\n",
    "    for i in np.arange(1,p+1).reshape(-1):\n",
    "        BB[np.arange[1,n+1],np.arange[1,n+1]] = B(i,np.arange(1,n+1),np.arange(1,n+1))\n",
    "        CC[np.arange[1,n+1],np.arange[1,n+1]] = BB(np.arange(1,n+1),np.arange(1,n+1)) * M(np.arange(1,n+1),np.arange(1,n+1))\n",
    "        C[i,np.arange[1,n+1],np.arange[1,n+1]] = CC(np.arange(1,n+1),np.arange(1,n+1))\n",
    "    \n",
    "    if iprint >= 2:\n",
    "        print('Print C matrices \\n' % ())\n",
    "        for i in np.arange(1,p+1).reshape(-1):\n",
    "            tmp = np.zeros((n,n))\n",
    "            print('Subdomain %3i \\n' % (i))\n",
    "            tmp[np.arange[1,n+1],np.arange[1,n+1]] = C(i,np.arange(1,n+1),np.arange(1,n+1))\n",
    "            tmp(np.arange(1,n+1),np.arange(1,n+1))\n",
    "    \n",
    "    return C"
   ]
  },
  {
   "cell_type": "code",
   "execution_count": null,
   "id": "4fef9a69",
   "metadata": {},
   "outputs": [],
   "source": [
    "import numpy as np\n",
    "    \n",
    "def Citeration_additive(C = None,f = None,alpha = None,n = None,p = None,K = None,iprint = None): \n",
    "    #  ***   [vstore] = Citeration_additive(C,f,alpha,n,p,K,iprint)   ***\n",
    "    \n",
    "    \n",
    "    # Perform the basic additive Schwarz iteration\n",
    "# Compute contribution from each subdomain independently\n",
    "# Store solutions from K iterations in a one-dimensional vector\n",
    "    \n",
    "    vstore = np.zeros((n * K,1))\n",
    "    v = np.zeros((n,1))\n",
    "    for k in np.arange(1,K+1).reshape(-1):\n",
    "        dv = np.zeros((n,p))\n",
    "        # Calculate and store subdomain contributions (independently)\n",
    "        for i in np.arange(1,p+1).reshape(-1):\n",
    "            CC = C(i,np.arange(1,n+1),np.arange(1,n+1))\n",
    "            ff = f(i,np.arange(1,n+1))\n",
    "            dv[:,i] = ff - CC * v(np.arange(1,n+1),1)\n",
    "            if iprint >= 4:\n",
    "                print('Outer iteration %3i, Inner iteration %3i \\n' % (k,i))\n",
    "                print(np.transpose(dv))\n",
    "        # Perform update by summing weighted subdomain contributions\n",
    "        for i in np.arange(1,p+1).reshape(-1):\n",
    "            v[np.arange[1,n+1],1] = v(np.arange(1,n+1),1) + alpha * dv(np.arange(1,n+1),i)\n",
    "        if iprint >= 2:\n",
    "            print('Outer iteration %3i \\n' % (k))\n",
    "            print(np.transpose(v))\n",
    "        # Store iterates in a 1D vector\n",
    "        vstore[np.arange[[k - 1] * n + 1,k * n+1],1] = v(np.arange(1,n+1),1)\n",
    "    \n",
    "    return vstore"
   ]
  },
  {
   "cell_type": "code",
   "execution_count": 2,
   "id": "eb92a1cd",
   "metadata": {},
   "outputs": [],
   "source": [
    "def Dmatrix_additive(C,alpha,n,p,iprint):\n",
    "    pass"
   ]
  },
  {
   "cell_type": "code",
   "execution_count": null,
   "id": "cIoJVhBFbtRz",
   "metadata": {
    "executionInfo": {
     "elapsed": 13,
     "status": "ok",
     "timestamp": 1638917625610,
     "user": {
      "displayName": "Andre Leautaud",
      "photoUrl": "https://lh3.googleusercontent.com/a/default-user=s64",
      "userId": "00179671138191466499"
     },
     "user_tz": 420
    },
    "id": "cIoJVhBFbtRz"
   },
   "outputs": [],
   "source": [
    "def Umatrix_additive(S,T,n,p,K,iprint):\n",
    "# Construct U matrix for mutliplicative Schwarz\n",
    "\n",
    "    U=np.zeros((K*n*p,K*n*p))\n",
    "    for i in range(K):\n",
    "        U[i*n*p:(i+1)*n*p, i*n*p:(i+1)*n*p] = S[0:n*p,0:n*p]\n",
    "\n",
    "    for i in range (K-1):\n",
    "        U[(i+1)*n*p:(i+2)*n*p, i*n*p:(i+1)*n*p] = T[0:n*p,0:n*p]\n",
    "\n",
    "    if iprint >= 6:\n",
    "        print(U)\n",
    "  \n",
    "    return U"
   ]
  },
  {
   "cell_type": "code",
   "execution_count": null,
   "id": "c86adbfb",
   "metadata": {},
   "outputs": [],
   "source": [
    "def gvector_additive(f,alpha,n,p,iprint):\n",
    "# Construct g vetor for multiplicative Schwarz\n",
    "\n",
    "    g= np.zeros((n*p,1))\n",
    "    for i in range(p):\n",
    "        g[(i)*n:(i+1)*(n),0]=f[i,0:n];\n",
    "\n",
    "    if iprint >= 4:\n",
    "        print('Print g vector')\n",
    "        print(g)\n",
    "    return g"
   ]
  },
  {
   "cell_type": "code",
   "execution_count": null,
   "id": "8VHTSoP9dIQX",
   "metadata": {
    "executionInfo": {
     "elapsed": 13,
     "status": "ok",
     "timestamp": 1638917625611,
     "user": {
      "displayName": "Andre Leautaud",
      "photoUrl": "https://lh3.googleusercontent.com/a/default-user=s64",
      "userId": "00179671138191466499"
     },
     "user_tz": 420
    },
    "id": "8VHTSoP9dIQX"
   },
   "outputs": [],
   "source": [
    "def hvector_multiplicative(g,n,p,K,iprint):\n",
    "# Construct h vector for multiplicative Schwarz\n",
    "\n",
    "    h=np.zeros((K*n*p,1))\n",
    "    for i in range(K):\n",
    "        h[i*n*p:(i+1)*n*p,0]=g[0:n*p,0]\n",
    "\n",
    "    if iprint >= 4:\n",
    "        print('h vector')\n",
    "        print(h)\n",
    "  \n",
    "    return h"
   ]
  },
  {
   "cell_type": "code",
   "execution_count": null,
   "id": "c4e480f3",
   "metadata": {},
   "outputs": [],
   "source": [
    "def Uhsolve_additive():\n",
    "    pass"
   ]
  },
  {
   "cell_type": "code",
   "execution_count": null,
   "id": "a312bbec",
   "metadata": {
    "executionInfo": {
     "elapsed": 138,
     "status": "ok",
     "timestamp": 1638917625739,
     "user": {
      "displayName": "Andre Leautaud",
      "photoUrl": "https://lh3.googleusercontent.com/a/default-user=s64",
      "userId": "00179671138191466499"
     },
     "user_tz": 420
    },
    "id": "SRSPZ3d-7jyh"
   },
   "outputs": [],
   "source": [
    "def Diteration_additive(D,psi,n,p,K,iprint):\n",
    "\n",
    "    # Perform multiplicative Schwarz iteration\n",
    "    # Compute contribution from each subdomain independently\n",
    "    # Introduce random error in each subdomain computation\n",
    "    #\n",
    "    # Store exact solutions from K iterations in a one-dimensional vector\n",
    "    # Store approximate solutions from K iterations in a one-dimensional vector\n",
    "    # Store residuals from K iterations in a one-dimensional vector\n",
    "\n",
    "\n",
    "    DD= np.zeros((n,n))\n",
    "    phi= np.zeros((n,1))\n",
    "    phi_store= np.zeros((n*p*K,1))\n",
    "\n",
    "    phi[0:n,0]= psi.reshape(n)\n",
    "    phi_store[n*p*(K-1)+n*(p-1):n*p*K,0]= psi.reshape(n) #there is proabaly a cleaner way\n",
    "\n",
    "    for k in range(K,0,-1):\n",
    "          \n",
    "        for i in range(p,0,-1):\n",
    "                                \n",
    "            id1= n*p*(k-1) + (i-1)*n      \n",
    "            id2= n*p*(k-1) + i*n\n",
    "                  \n",
    "            ip1= id1 + n \n",
    "            ip2= id2 + n \n",
    "    \n",
    "                \n",
    "            # Compute the contributions from each subdomain\n",
    "            pindex= i\n",
    "            if i == p:\n",
    "                pindex= 0\n",
    "                                \n",
    "            DD[0:n,0:n]= D[pindex,0:n,0:n]\n",
    "          \n",
    "            if iprint >= 2:\n",
    "                print(\"k, i, pindex, id1, id2:\",k, i, pindex, id1, id2)\n",
    "          \n",
    "            if k==K and i==p:\n",
    "                if iprint >= 2:\n",
    "                    print('Diteration_adjoint: special case \\n')\n",
    "            else:                \n",
    "                phi[0:n,0]= DD.T@phi[0:n,0]    \n",
    "                phi_store[id1:id2]= phi[0:n,0].reshape(n,1)\n",
    "                if iprint >= 4:\n",
    "                    print(phi_store)\n",
    "\n",
    "    return phi_store"
   ]
  },
  {
   "cell_type": "code",
   "execution_count": null,
   "id": "xcfc6tWfAsaf",
   "metadata": {
    "executionInfo": {
     "elapsed": 3,
     "status": "ok",
     "timestamp": 1638917625739,
     "user": {
      "displayName": "Andre Leautaud",
      "photoUrl": "https://lh3.googleusercontent.com/a/default-user=s64",
      "userId": "00179671138191466499"
     },
     "user_tz": 420
    },
    "id": "xcfc6tWfAsaf"
   },
   "outputs": [],
   "source": [
    "def Uhsolve_additive_approx(U,h,n,p,K,iprint,sread):\n",
    "    \n",
    "    #  Perform multiplicative Schwarz iterations\n",
    "    #  K iterations performed by single matrix solve\n",
    "    #  Introduce random error\n",
    "    #  Store solutions from K iterations in a one-dimensional vector\n",
    "    # \n",
    "    #  Store exact solutions from K iterations in a one-dimensional vector\n",
    "    #  Store approximate solutions from K iterations in a one-dimensional vector\n",
    "    #  Store residuals from K iterations in a one-dimensional vector\n",
    "    \n",
    "\n",
    "    zexact=np.linalg.solve(U,h)\n",
    "    zerr=1E-02\n",
    "    \n",
    "    if sread:\n",
    "        from pandas import read_csv\n",
    "        df = read_csv('svpert_multiplicative.csv',header=None)\n",
    "        rand_matrix = df.values\n",
    "    else:\n",
    "        rand_matrix=np.random.randn(n*p*K,1)\n",
    "    \n",
    "    zapprox= zexact+zerr*rand_matrix\n",
    "    \n",
    "    resid= h-U@zapprox\n",
    "    \n",
    "    if iprint >= 4:\n",
    "        zz=np.zeros((n*p,K))\n",
    "        for k in range(K):\n",
    "            zz[0:n*p,k]=zexact[(k)*n*p:(k+1)*n*p,0]\n",
    "            print(zz[0:n*p,k])\n",
    "\n",
    "    return zexact,zapprox,resid"
   ]
  }
 ],
 "metadata": {
  "colab": {
   "collapsed_sections": [
    "jxzyQwB-cDTl"
   ],
   "name": "MultiplicativeUtilities.ipynb",
   "provenance": []
  },
  "kernelspec": {
   "display_name": "Python 3",
   "language": "python",
   "name": "python3"
  },
  "language_info": {
   "codemirror_mode": {
    "name": "ipython",
    "version": 3
   },
   "file_extension": ".py",
   "mimetype": "text/x-python",
   "name": "python",
   "nbconvert_exporter": "python",
   "pygments_lexer": "ipython3",
   "version": "3.8.8"
  }
 },
 "nbformat": 4,
 "nbformat_minor": 5
}
