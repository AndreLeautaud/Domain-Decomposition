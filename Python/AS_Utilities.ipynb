{
 "cells": [
  {
   "cell_type": "markdown",
   "id": "74e1a9d3",
   "metadata": {
    "id": "jxzyQwB-cDTl"
   },
   "source": [
    "## Additive Utilities"
   ]
  },
  {
   "cell_type": "code",
   "execution_count": 2,
   "id": "d57e746d",
   "metadata": {},
   "outputs": [],
   "source": [
    "import numpy as np"
   ]
  },
  {
   "cell_type": "code",
   "execution_count": null,
   "id": "4fef9a69",
   "metadata": {},
   "outputs": [],
   "source": [
    "def Citeration_additive(C,f,alpha,n,p,K,iprint):\n",
    "    vstore= np.zeros((n*K,1))\n",
    "    v= np.zeros((n,1))\n",
    "\n",
    "    for k in range(0,K):\n",
    "        dv= np.zeros((n,p))\n",
    "        # Calculate and store subdomain contributions (independently)\n",
    "        for i in range(0,p):\n",
    "            CC= C[i,0:n,0:n]\n",
    "            ff= f[i,0:n]\n",
    "#             print(\"top\",np.shape(ff))\n",
    "            ff=ff[np.newaxis]\n",
    "#             print(np.shape(ff))\n",
    "#             print(np.shape(CC))\n",
    "            dv[0:n,i]= ff - CC @ v[0:n,0]\n",
    "            if iprint >= 6:\n",
    "                print(f'Citeration_additive: dv on subdomain {i:3d} at iteration {k:3d}')\n",
    "                print(dv.T)\n",
    "\n",
    "        # Perform update by summing weighted subdomain contributions\n",
    "        for i in range(p):\n",
    "            v[0:n,0]= v[0:n,0] + alpha * dv[0:n,i]\n",
    "\n",
    "        if iprint >= 2:\n",
    "            print('Outer iteration', k)\n",
    "            print(v.T)\n",
    "    \n",
    "        # Store iterates in a 1D vector\n",
    "        vstore[k*n:(k + 1) * (n)]= v[range(n)]\n",
    "\n",
    "    return vstore"
   ]
  },
  {
   "cell_type": "code",
   "execution_count": 2,
   "id": "eb92a1cd",
   "metadata": {},
   "outputs": [],
   "source": [
    "def Dmatrix_additive(C,alpha,n,p,iprint):\n",
    "    D= np.zeros((n,n))\n",
    "    for i in range(p):\n",
    "        CC= C[i,0:n,0:n]\n",
    "        D= D + CC\n",
    "\n",
    "    D= np.identity(n) - alpha * D\n",
    "    if iprint >= 4:\n",
    "        print('dmatrix_additive:  matrix')\n",
    "        print(np.round(D,4))\n",
    "    return D"
   ]
  },
  {
   "cell_type": "code",
   "execution_count": 1,
   "id": "c86adbfb",
   "metadata": {},
   "outputs": [],
   "source": [
    "def gvector_additive(f,alpha,n,p,iprint):\n",
    "    # Construct g vector for additive Schwarz\n",
    "\n",
    "    g= np.zeros((n,1))\n",
    "    for i in range(p):\n",
    "        ff= f[i]\n",
    "        ff= ff.reshape((n,1))\n",
    "        g= g + ff\n",
    "    g[0:n,0]= alpha * g[0:n,0]\n",
    "\n",
    "    if iprint >= 4:\n",
    "        print('Print g vector')\n",
    "        print(g)\n",
    "    return g"
   ]
  },
  {
   "cell_type": "code",
   "execution_count": 13,
   "id": "a312bbec",
   "metadata": {
    "executionInfo": {
     "elapsed": 138,
     "status": "ok",
     "timestamp": 1638917625739,
     "user": {
      "displayName": "Andre Leautaud",
      "photoUrl": "https://lh3.googleusercontent.com/a/default-user=s64",
      "userId": "00179671138191466499"
     },
     "user_tz": 420
    },
    "id": "SRSPZ3d-7jyh"
   },
   "outputs": [],
   "source": [
    "def Diteration_additive(D,g,n,p,K,iprint):\n",
    "    wstore= np.zeros((n*K,1))\n",
    "    rng= np.random.default_rng((n,1))\n",
    "    w= rng.random((n,1))\n",
    "\n",
    "    # Perform K iterations\n",
    "    for k in range(K):\n",
    "        w= D @ w + g\n",
    "        wstore[k*n:(k+1) * n]= w[range(n)]\n",
    "        if iprint >= 4:\n",
    "            print('Diteration_additive: w at iteration ', k)\n",
    "            print(w)\n",
    "    print(f'norm(D)= {np.linalg.norm(D):13.6e}')\n",
    "    print(f'Asymptotic solution: z= inv(I-D)@g')\n",
    "    z= np.linalg.inv(np.eye(n) - D) @ g\n",
    "    print(f'K= {K:5d}, norm(w-z)= {np.linalg.norm(w - z):13.6e}')\n",
    "\n",
    "    return wstore"
   ]
  },
  {
   "cell_type": "code",
   "execution_count": null,
   "id": "cIoJVhBFbtRz",
   "metadata": {
    "executionInfo": {
     "elapsed": 13,
     "status": "ok",
     "timestamp": 1638917625610,
     "user": {
      "displayName": "Andre Leautaud",
      "photoUrl": "https://lh3.googleusercontent.com/a/default-user=s64",
      "userId": "00179671138191466499"
     },
     "user_tz": 420
    },
    "id": "cIoJVhBFbtRz"
   },
   "outputs": [],
   "source": [
    "def Umatrix_additive(D,n,K,iprint):\n",
    "    # Construct U matrix for additive Schwarz\n",
    "\n",
    "    U= np.identity(K*n)\n",
    "\n",
    "    for i in range(K-1):\n",
    "        U[(i+1) * n:(i+2) * n, i * n:(i+1) * n]= -D\n",
    "\n",
    "    if iprint >= 4:\n",
    "        print('U matrix')\n",
    "        print(np.round(U,1))\n",
    "    return U"
   ]
  },
  {
   "cell_type": "code",
   "execution_count": null,
   "id": "8VHTSoP9dIQX",
   "metadata": {
    "executionInfo": {
     "elapsed": 13,
     "status": "ok",
     "timestamp": 1638917625611,
     "user": {
      "displayName": "Andre Leautaud",
      "photoUrl": "https://lh3.googleusercontent.com/a/default-user=s64",
      "userId": "00179671138191466499"
     },
     "user_tz": 420
    },
    "id": "8VHTSoP9dIQX"
   },
   "outputs": [],
   "source": [
    "def hvector_additive(g,n,K,iprint):\n",
    "    #Construct h vector for additive Schwarz\n",
    "\n",
    "    h= np.zeros((K*n,1))\n",
    "    for i in range(K):\n",
    "        h[i * n:(i+1) * n,0:1]= g  ##should apply the 0:1 to other functions with same problem\n",
    "    if iprint >= 4:\n",
    "        print('h vector')\n",
    "        print(h)\n",
    "    return h"
   ]
  },
  {
   "cell_type": "code",
   "execution_count": 1,
   "id": "c4e480f3",
   "metadata": {},
   "outputs": [],
   "source": [
    "def Uhsolve_additive(U,h,n,K,iprint):\n",
    "    # Perform additive Schwarz iterations\n",
    "    # K iterations performed by single matrix solve\n",
    "    # Store solutions from K iterations in a one-dimensional vector\n",
    "\n",
    "    z= np.linalg.solve(U,h)\n",
    "    zz=np.zeros((n,K))\n",
    "    if iprint > 0:\n",
    "        for k in range(K):\n",
    "            print('Uhsolve_additive: z at iteration', k)\n",
    "            zz[0:n,k]= z[k * n:(k+1) * n, 0]\n",
    "            print(zz[0:n,k])\n",
    "    return z"
   ]
  },
  {
   "cell_type": "code",
   "execution_count": 2,
   "id": "b518981b",
   "metadata": {
    "executionInfo": {
     "elapsed": 13,
     "status": "ok",
     "timestamp": 1638917625607,
     "user": {
      "displayName": "Andre Leautaud",
      "photoUrl": "https://lh3.googleusercontent.com/a/default-user=s64",
      "userId": "00179671138191466499"
     },
     "user_tz": 420
    },
    "id": "hGmCdY0jVieP"
   },
   "outputs": [],
   "source": [
    "def Citeration_additive_approx(C,f,alpha,n,p,K,mpert,wpert,iprint):\n",
    "    # Perform additive Schwarz iteration\n",
    "    # Compute contribution from each subdomain independently\n",
    "    # Introduce random error in each subdomain computation\n",
    "  \n",
    "    # Store exact solutions from K iterations in a one-dimensional vector\n",
    "    # Store approximate solutions from K iterations in a one-dimensional vector\n",
    "    # Store residuals from K iterations in a one-dimensional vector\n",
    "\n",
    "    CC= np.zeros((n,n))\n",
    "\n",
    "    v= np.zeros((n,p))\n",
    "    va= np.zeros((n,p))\n",
    "    r= np.zeros((n,p))\n",
    "\n",
    "    vglobal= np.zeros((n,1))\n",
    "    vaglobal= np.zeros((n,1))\n",
    "    rglobal_store= np.zeros((K*n,1))\n",
    "\n",
    "    vglobal_store=np.zeros((n*K,1))\n",
    "    vexact_store= np.zeros((n*(K+1),1))\n",
    "    vaglobal_store= np.zeros((n*(K+1),1))\n",
    "\n",
    "    for k in range(K):\n",
    "        if iprint >= 2:\n",
    "            print('Citeration_additive_approx: Outer iteration', k)\n",
    "\n",
    "        for i in range(p):\n",
    "            # Compute the contributions from each subdomain\n",
    "            CC[0:n,0:n]= C[i]\n",
    "            ff= f[i].reshape(n,1)\n",
    "            v[0:n,i:i+1]= ff - CC @ vglobal[0:n,0:1]\n",
    "            index= k*p*n + i*n\n",
    "            va[0:n,i:i+1]= ff - CC @ vaglobal[0:n,0:1] + mpert * wpert[index: index + n]\n",
    "\n",
    "        # Perform update of global solution\n",
    "        for i in range(p):\n",
    "            vglobal[0:n,0:1]= vglobal[0:n,0:1] + alpha*v[0:n,i:i+1]\n",
    "            vaglobal[0:n,0:1]= vaglobal[0:n,0:1] + alpha*va[0:n,i:i+1]\n",
    "\n",
    "        vglobal_store[k * n:(k+1) * n,0:1]= vglobal\n",
    "        vaglobal_store[(k+1) * n:(k+2) * n,0:1]= vaglobal\n",
    "\n",
    "        diff= vglobal - vaglobal\n",
    "        if iprint >= 2:\n",
    "            print(f'Difference = {np.linalg.norm(diff):10.4e}')\n",
    "\n",
    "        D= Dmatrix_additive(C,alpha,n,p,iprint)\n",
    "        g= gvector_additive(f,alpha,n,p,iprint)\n",
    "        rglobal= g + D @ vaglobal_store[k * n:(k+1) * n,0:1] - vaglobal[0:n,0:1]\n",
    "        rglobal_store[k * n:(k+1) * n,0]= rglobal[0:n,0]\n",
    "  \n",
    "    return vglobal_store,vaglobal_store,rglobal_store"
   ]
  },
  {
   "cell_type": "code",
   "execution_count": 1,
   "id": "b0f73ed5",
   "metadata": {},
   "outputs": [],
   "source": [
    "def Citeration_additive_adjoint(C,psi,alpha,n,p,K,iprint):\n",
    "#\n",
    "# Perform additive Schwarz iteration\n",
    "# Compute contribution from each subdomain independently\n",
    "# Introduce random error in each subdomain computation\n",
    "#\n",
    "# Store exact solutions from K iterations in a one-dimensional vector\n",
    "# Store approximate solutions from K iterations in a one-dimensional vector\n",
    "# Store residuals from K iterations in a one-dimensional vector\n",
    "#\n",
    "\n",
    "    CC= np.zeros((n,n))\n",
    "    phi= np.zeros((n,1))\n",
    "\n",
    "    phiglobal= np.zeros((n,1))\n",
    "    phiglobal_store= np.zeros((K * n,1))\n",
    "\n",
    "    phiglobal= np.copy(psi)\n",
    "    phiglobal_store[(K-1) * n:K * n,0]= phiglobal[0:n,0]\n",
    "    \n",
    "    phi= np.zeros((n,p))\n",
    "    print(n,p,K)\n",
    "    for k in range(K-1,0,-1):\n",
    "\n",
    "        for i in range(p-1,-1,-1):\n",
    "            # Compute the contributions from each subdomain\n",
    "            CC=C[i,:,:]\n",
    "            phi[:,i]= (CC.T @ phiglobal).reshape(-1) #make it 1 dimenstional\n",
    "\n",
    "            if iprint >= 4:\n",
    "                print(f'Citeration_additive_adjoint: k= {k:1d}, i= {i:1d}')\n",
    "                tmp= phi[:,i]\n",
    "                print(tmp.T)\n",
    "\n",
    "        # Perform update\n",
    "        sum_phi= np.zeros((n,1))\n",
    "        for i in range(p):\n",
    "            sum_phi= sum_phi + (phi[:,i]).reshape(-1,1)\n",
    "\n",
    "        phiglobal= phiglobal - alpha * sum_phi\n",
    "        phiglobal_store[(k-1) * n : k * n, 0]= phiglobal.reshape(-1)\n",
    "    return phiglobal_store"
   ]
  },
  {
   "cell_type": "code",
   "execution_count": 24,
   "id": "142426cc",
   "metadata": {},
   "outputs": [],
   "source": [
    "def Diteration_additive_approx(D,g,alpha,n,p,K,wpert,mpert,iprint):\n",
    "    #\n",
    "    # Perform additive Schwarz iteration\n",
    "    # Compute contribution from each subdomain independently\n",
    "    # Introduce random error in each subdomain computation\n",
    "    #\n",
    "    # Store exact solutions from K iterations in a one-dimensional vector\n",
    "    # Store approximate solutions from K iterations in a one-dimensional vector\n",
    "    # Store residuals from K iterations in a one-dimensional vector\n",
    "    #\n",
    "\n",
    "    w= np.zeros((n,1))\n",
    "    wa= np.zeros((n,1))\n",
    "    wr= np.zeros((n,1))\n",
    "\n",
    "    w_store= np.zeros((n*K,1))\n",
    "    wa_store= np.zeros((n*(K+1),1))\n",
    "    wr_store= np.zeros((n*K,1))\n",
    "\n",
    "    kvpert= np.zeros((n*K,1))\n",
    "\n",
    "\n",
    "    for i in range(0,K):\n",
    "        i1= i * n\n",
    "        i2= (i + 1)*n\n",
    "        for j in range(p):\n",
    "            j1= i*n*p + (j) * n\n",
    "            j2= i*n*p + (j+1) * n\n",
    "            kvpert[i1:i2]= kvpert[i1:i2] + alpha*wpert[j1:j2]\n",
    "            #print('i= %4i, j= %4i, i1= %4i, i2= %4i, j1= %4i, j1= %4i \\n', i, j, i1, i2, j1,j2)\n",
    "            #print('mean(wpert(j1:j2)) = %13.6e \\n', mean(wpert(j1:j2)))\n",
    "\n",
    "        w= D @ w + g\n",
    "        wa= D @ wa + g + mpert * kvpert[i1:i2]\n",
    "        wr= (g.reshape(-1) + D @ wa_store[i*n:(i+1)*n,0]) - wa[0:n,0]\n",
    "\n",
    "        w_store [i*n:(i+1)*n,0]= w.reshape(-1)\n",
    "        wa_store[(i+1)*n:(i+2)*n,0]= wa.reshape(-1)\n",
    "        wr_store[i*n:(i+1)*n,0]= wr.reshape(-1)\n",
    "    return w_store,wa_store,wr_store"
   ]
  },
  {
   "cell_type": "code",
   "execution_count": 2,
   "id": "xcfc6tWfAsaf",
   "metadata": {
    "executionInfo": {
     "elapsed": 3,
     "status": "ok",
     "timestamp": 1638917625739,
     "user": {
      "displayName": "Andre Leautaud",
      "photoUrl": "https://lh3.googleusercontent.com/a/default-user=s64",
      "userId": "00179671138191466499"
     },
     "user_tz": 420
    },
    "id": "xcfc6tWfAsaf"
   },
   "outputs": [],
   "source": [
    "def Uhsolve_additive_approx(U,h,n,p,K,alpha,wpert,mpert,iprint):\n",
    "    \n",
    "    #  Perform multiplicative Schwarz iterations\n",
    "    #  K iterations performed by single matrix solve\n",
    "    #  Introduce random error\n",
    "    #  Store solutions from K iterations in a one-dimensional vector\n",
    "    # \n",
    "    #  Store exact solutions from K iterations in a one-dimensional vector\n",
    "    #  Store approximate solutions from K iterations in a one-dimensional vector\n",
    "    #  Store residuals from K iterations in a one-dimensional vector\n",
    "    \n",
    "    zexact=np.linalg.solve(U,h)\n",
    "    zpert=np.zeros((n*K,1))\n",
    "    \n",
    "    for i in range(K):\n",
    "        i1= i * n\n",
    "        i2= (i+1) * n\n",
    "        for j in range(p):\n",
    "            j1= i*n*p + j * n\n",
    "            j2= i*n*p + (j+1)*n\n",
    "            zpert[i1:i2]= zpert[i1:i2] + alpha*mpert*wpert[j1:j2]\n",
    "            \n",
    "    zapprox= zexact + zpert\n",
    "    \n",
    "    zresid= h - U @ zapprox\n",
    "    \n",
    "    return zexact,zapprox,zresid"
   ]
  }
 ],
 "metadata": {
  "colab": {
   "collapsed_sections": [
    "jxzyQwB-cDTl"
   ],
   "name": "MultiplicativeUtilities.ipynb",
   "provenance": []
  },
  "kernelspec": {
   "display_name": "Python 3",
   "language": "python",
   "name": "python3"
  },
  "language_info": {
   "codemirror_mode": {
    "name": "ipython",
    "version": 3
   },
   "file_extension": ".py",
   "mimetype": "text/x-python",
   "name": "python",
   "nbconvert_exporter": "python",
   "pygments_lexer": "ipython3",
   "version": "3.6.13"
  }
 },
 "nbformat": 4,
 "nbformat_minor": 5
}
