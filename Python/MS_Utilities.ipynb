{
 "cells": [
  {
   "cell_type": "markdown",
   "id": "74e1a9d3",
   "metadata": {
    "id": "jxzyQwB-cDTl"
   },
   "source": [
    "## Multiplicative Utilities"
   ]
  },
  {
   "cell_type": "code",
   "execution_count": 1,
   "id": "d57e746d",
   "metadata": {},
   "outputs": [],
   "source": [
    "import numpy as np"
   ]
  },
  {
   "cell_type": "code",
   "execution_count": 2,
   "id": "XEydVVmgbd26",
   "metadata": {
    "executionInfo": {
     "elapsed": 10,
     "status": "ok",
     "timestamp": 1638917625482,
     "user": {
      "displayName": "Andre Leautaud",
      "photoUrl": "https://lh3.googleusercontent.com/a/default-user=s64",
      "userId": "00179671138191466499"
     },
     "user_tz": 420
    },
    "id": "XEydVVmgbd26"
   },
   "outputs": [],
   "source": [
    "def Dmatrices_multiplicative(C,n,p,iprint):\n",
    "    \n",
    "    D= np.zeros((p,n,n))\n",
    "    for i in range(p):\n",
    "        CC= C[i]\n",
    "        DD= np.identity(n) - CC\n",
    "        D[i]= DD\n",
    "    \n",
    "    if iprint >= 4:\n",
    "        print('Print DD matrix ')\n",
    "        print(D)\n",
    "    \n",
    "    return D"
   ]
  },
  {
   "cell_type": "code",
   "execution_count": 3,
   "id": "hGmCdY0jVieP",
   "metadata": {
    "executionInfo": {
     "elapsed": 13,
     "status": "ok",
     "timestamp": 1638917625607,
     "user": {
      "displayName": "Andre Leautaud",
      "photoUrl": "https://lh3.googleusercontent.com/a/default-user=s64",
      "userId": "00179671138191466499"
     },
     "user_tz": 420
    },
    "id": "hGmCdY0jVieP"
   },
   "outputs": [],
   "source": [
    "def Diteration_multiplicative(D,f,n,p,K,iprint):\n",
    "    \n",
    "    vstore=np.zeros((n*p*K,1))\n",
    "    v=np.zeros((n,1))\n",
    "    ff=np.zeros((1,n))\n",
    "\n",
    "    for k in range(K):\n",
    "        for i in range (p):\n",
    "            DD= D[i]\n",
    "            ff= f[i,range(n)]\n",
    "            ff= ff[np.newaxis]\n",
    "            v= DD@v+ff.T\n",
    "            vstore[k*n*p + i*n : k*n*p + (i+1)*n]= v[range(n)] \n",
    "    \n",
    "            if iprint >= 4:\n",
    "                print('Outer iteration k, Inner iteration i',k,i) \n",
    "                print(v.T)\n",
    "        \n",
    "        if iprint >= 2:\n",
    "            print('Outer iteration ',k)\n",
    "            print(v.T)\n",
    "        \n",
    "    return vstore"
   ]
  },
  {
   "cell_type": "markdown",
   "id": "p384sqSucH9m",
   "metadata": {
    "id": "p384sqSucH9m"
   },
   "source": [
    "### ST Iteration Multiplicative"
   ]
  },
  {
   "cell_type": "code",
   "execution_count": 4,
   "id": "NIk-grhnVd3p",
   "metadata": {
    "executionInfo": {
     "elapsed": 12,
     "status": "ok",
     "timestamp": 1638917625607,
     "user": {
      "displayName": "Andre Leautaud",
      "photoUrl": "https://lh3.googleusercontent.com/a/default-user=s64",
      "userId": "00179671138191466499"
     },
     "user_tz": 420
    },
    "id": "NIk-grhnVd3p"
   },
   "outputs": [],
   "source": [
    "def Smatrix_multiplicative(D,n,p,iprint):\n",
    "    # Construct S matrix for multiplicative Schwarz\n",
    "\n",
    "    S= np.zeros((n*p,n*p))\n",
    "    for i in range(0,p):\n",
    "        # print((i)*n,(i+1)*n, (i)*n,(i+1)*n)\n",
    "        S[(i)*n:(i+1)*n, (i)*n:(i+1)*n]= np.identity(n)\n",
    "\n",
    "    for i in range(1,p):\n",
    "        DD= D[i]\n",
    "        # print((i)*n+1,(i+1)*n, (i-1)*n+1,(i)*n)\n",
    "        S[(i)*n:(i+1)*n, (i-1)*n:(i)*n]= -DD[0:n,0:n]\n",
    "\n",
    "    if iprint >= 4:\n",
    "        print('Print S matrix')\n",
    "        print(S)\n",
    "    \n",
    "    return S"
   ]
  },
  {
   "cell_type": "code",
   "execution_count": 5,
   "id": "8RkZVK-4cQ6l",
   "metadata": {
    "executionInfo": {
     "elapsed": 13,
     "status": "ok",
     "timestamp": 1638917625608,
     "user": {
      "displayName": "Andre Leautaud",
      "photoUrl": "https://lh3.googleusercontent.com/a/default-user=s64",
      "userId": "00179671138191466499"
     },
     "user_tz": 420
    },
    "id": "8RkZVK-4cQ6l"
   },
   "outputs": [],
   "source": [
    "def Tmatrix_multiplicative(D,n,p,iprint):\n",
    "    # Construct T matrix for multiplicative Schwarz\n",
    "\n",
    "    T= np.zeros((n*p,n*p))\n",
    "    DD= D[0]\n",
    "    T[0:n,(p-1)*n:p*n]= -DD\n",
    "\n",
    "    if iprint >= 4:\n",
    "        print('Print T matrix')\n",
    "        print(T)\n",
    "    \n",
    "    return T"
   ]
  },
  {
   "cell_type": "code",
   "execution_count": 6,
   "id": "8uZMt00kXRyt",
   "metadata": {
    "executionInfo": {
     "elapsed": 13,
     "status": "ok",
     "timestamp": 1638917625609,
     "user": {
      "displayName": "Andre Leautaud",
      "photoUrl": "https://lh3.googleusercontent.com/a/default-user=s64",
      "userId": "00179671138191466499"
     },
     "user_tz": 420
    },
    "id": "8uZMt00kXRyt"
   },
   "outputs": [],
   "source": [
    "def gvector_multiplicative(f,n,p,iprint):\n",
    "    # Construct g vetor for multiplicative Schwarz\n",
    "\n",
    "    g= np.zeros((n*p,1))\n",
    "    for i in range(p):\n",
    "        g[(i)*n:(i+1)*(n),0]= f[i,0:n]\n",
    "\n",
    "    if iprint >= 4:\n",
    "        print('Print g vector')\n",
    "        print(g)\n",
    "    return g"
   ]
  },
  {
   "cell_type": "code",
   "execution_count": 7,
   "id": "2sbnqRTqZALe",
   "metadata": {
    "executionInfo": {
     "elapsed": 12,
     "status": "ok",
     "timestamp": 1638917625609,
     "user": {
      "displayName": "Andre Leautaud",
      "photoUrl": "https://lh3.googleusercontent.com/a/default-user=s64",
      "userId": "00179671138191466499"
     },
     "user_tz": 420
    },
    "id": "2sbnqRTqZALe"
   },
   "outputs": [],
   "source": [
    "def STiteration(S,T,g,n,p,K,iprint):\n",
    "    # Perform multiplicative additive Schwarz iteration using S and T matrices\n",
    "    # Store solutions from K iterations in a one-dimensional vector\n",
    "\n",
    "    wstore= np.zeros((n*p*K,1))\n",
    "\n",
    "    w= np.zeros((n*p))\n",
    "    w= np.linalg.solve(S,g)\n",
    "    wstore[0:n*p,0]=w.reshape(n*p)\n",
    "\n",
    "    for k in range(1,K):\n",
    "        w= np.linalg.solve(S,(g - T@w))  \n",
    "        wstore[k*n*p:(k+1)*n*p, 0]= w [0:n*p, 0]\n",
    "    \n",
    "        if iprint >= 4:\n",
    "            print(f'ST iteration # {k:3d}')\n",
    "  \n",
    "    return wstore"
   ]
  },
  {
   "cell_type": "markdown",
   "id": "5maDvWnGbq_U",
   "metadata": {
    "id": "5maDvWnGbq_U"
   },
   "source": [
    "### U Iteration"
   ]
  },
  {
   "cell_type": "code",
   "execution_count": 8,
   "id": "cIoJVhBFbtRz",
   "metadata": {
    "executionInfo": {
     "elapsed": 13,
     "status": "ok",
     "timestamp": 1638917625610,
     "user": {
      "displayName": "Andre Leautaud",
      "photoUrl": "https://lh3.googleusercontent.com/a/default-user=s64",
      "userId": "00179671138191466499"
     },
     "user_tz": 420
    },
    "id": "cIoJVhBFbtRz"
   },
   "outputs": [],
   "source": [
    "def Umatrix_multiplicative(S,T,n,p,K,iprint):\n",
    "    # Construct U matrix for mutliplicative Schwarz\n",
    "\n",
    "    U=np.zeros((K*n*p,K*n*p))\n",
    "    for i in range(K):\n",
    "        U[i*n*p:(i+1)*n*p, i*n*p:(i+1)*n*p]= S[0:n*p,0:n*p]\n",
    "\n",
    "    for i in range (K-1):\n",
    "        U[(i+1)*n*p:(i+2)*n*p, i*n*p:(i+1)*n*p]= T[0:n*p,0:n*p]\n",
    "\n",
    "    if iprint >= 6:\n",
    "        print(U)\n",
    "  \n",
    "    return U"
   ]
  },
  {
   "cell_type": "code",
   "execution_count": 9,
   "id": "8VHTSoP9dIQX",
   "metadata": {
    "executionInfo": {
     "elapsed": 13,
     "status": "ok",
     "timestamp": 1638917625611,
     "user": {
      "displayName": "Andre Leautaud",
      "photoUrl": "https://lh3.googleusercontent.com/a/default-user=s64",
      "userId": "00179671138191466499"
     },
     "user_tz": 420
    },
    "id": "8VHTSoP9dIQX"
   },
   "outputs": [],
   "source": [
    "def hvector_multiplicative(g,n,p,K,iprint):\n",
    "    # Construct h vector for multiplicative Schwarz\n",
    "\n",
    "    h= np.zeros((K*n*p,1))\n",
    "    for i in range(K):\n",
    "        h[i*n*p:(i+1)*n*p,0]= g[0:n*p,0]\n",
    "\n",
    "    if iprint >= 4:\n",
    "        print('h vector')\n",
    "        print(h)\n",
    "  \n",
    "    return h"
   ]
  },
  {
   "cell_type": "code",
   "execution_count": 10,
   "id": "lmZmSTked9WH",
   "metadata": {
    "executionInfo": {
     "elapsed": 12,
     "status": "ok",
     "timestamp": 1638917625612,
     "user": {
      "displayName": "Andre Leautaud",
      "photoUrl": "https://lh3.googleusercontent.com/a/default-user=s64",
      "userId": "00179671138191466499"
     },
     "user_tz": 420
    },
    "id": "lmZmSTked9WH"
   },
   "outputs": [],
   "source": [
    "def Uhsolve_multiplicative(U,h,n,p,K,iprint):\n",
    "# Perform overlapping multiplicative Schwarz iterations\n",
    "# K iterations performed by single matrix solve\n",
    "# Store solutions from K iterations in a one-dimensional vector\n",
    "\n",
    "    z= np.linalg.solve(U,h)\n",
    "\n",
    "    if iprint >= 4:\n",
    "        zz=np.zeros((n*p,K))\n",
    "        for k in range(K):\n",
    "            zz[0:n*p,k]=z[(k)*n*p:(k+1)*n*p,0]\n",
    " \n",
    "    return z"
   ]
  },
  {
   "cell_type": "markdown",
   "id": "R_asHpZcob70",
   "metadata": {
    "id": "R_asHpZcob70"
   },
   "source": [
    "### Adjoint Solve"
   ]
  },
  {
   "cell_type": "code",
   "execution_count": 11,
   "id": "LxnVdMYjoqMG",
   "metadata": {
    "executionInfo": {
     "elapsed": 13,
     "status": "ok",
     "timestamp": 1638917625613,
     "user": {
      "displayName": "Andre Leautaud",
      "photoUrl": "https://lh3.googleusercontent.com/a/default-user=s64",
      "userId": "00179671138191466499"
     },
     "user_tz": 420
    },
    "id": "LxnVdMYjoqMG"
   },
   "outputs": [],
   "source": [
    "def Diteration_approx(D,f,n,p,K,iprint,mpert,wpert):\n",
    "  \n",
    "    # Perform multiplicative Schwarz iteration\n",
    "    # Compute contribution from each subdomain independently\n",
    "    # Introduce random error in each subdomain computation\n",
    "    #\n",
    "    # Store exact solutions from K iterations in a one-dimensional vector\n",
    "    # Store approximate solutions from K iterations in a one-dimensional vector\n",
    "    # Store residuals from K iterations in a one-dimensional vector\n",
    "\n",
    "\n",
    "    veps=mpert\n",
    "\n",
    "    DD= np.zeros((n,n))\n",
    "    ff= np.zeros((n,1))\n",
    "\n",
    "    v= np.zeros((n,1))\n",
    "    va= np.zeros((n,1))\n",
    "    r= np.zeros((n,1))\n",
    "\n",
    "    # Remember the initial trivial solution\n",
    "    v_store= np.zeros((n*p*(K+1),1))\n",
    "    va_store= np.zeros((n*p*(K+1),1))\n",
    "    r_store= np.zeros((n*p*K,1))\n",
    "    \n",
    "#     rand_matrix=np.random.randn(n*p*K,1)\n",
    "\n",
    "#     if sread:\n",
    "#         from pandas import read_csv\n",
    "#         df = read_csv('wpert_multiplicative.csv',header=None)\n",
    "#         rand_matrix = df.values\n",
    "\n",
    "#     if swrite:\n",
    "#         import csv\n",
    "#         file = open('wpert_multiplicative'+str(iparam)+'.csv', 'w')\n",
    "#         writer = csv.writer(file)\n",
    "#         writer.writerows(rand_matrix)\n",
    "#         file.close()\n",
    "#     rand_store=np.zeros((n*p*K,1))\n",
    "#     randout=np.random.randn(n*p*K,1)\n",
    "#     np.savetxt(\"rand_out.csv\", randout, delimiter=\",\")#this line is temporary\n",
    "#     assert(False)\n",
    "    for k in range(K):\n",
    "        if iprint >= 2:\n",
    "            print('Outer iteration ', k)\n",
    "      \n",
    "        for i in range (p):\n",
    "          \n",
    "            id1= (k+1)*n*p + i*n\n",
    "            id2= (k+1)*n*p + (i+1)*n\n",
    "\n",
    "            im1= id1-n\n",
    "            im2= id2-n\n",
    "          \n",
    "            ir1= k*n*p+i*n\n",
    "            ir2= k*n*p+(i+1)*n\n",
    "          \n",
    "            # Compute the contributions from each subdomain\n",
    "            DD[0:n,0:n]= D[i,0:n,0:n]\n",
    "            ff[0:n,0]= f[i,0:n]\n",
    "          \n",
    "            v[0:n,0]= ff.T + DD @ v[0:n,0]\n",
    "            v_store[id1:id2,0]= v[0:n,0]\n",
    "\n",
    "            vpert= veps*wpert[k*p*n + i*n: k*p*n + i*n + n]\n",
    "            \n",
    "            va[0:n,0]= ff.T + DD@va[0:n,0] + vpert.T\n",
    "            va_store[id1:id2,0]= va[0:n,0]\n",
    "            \n",
    "            r= ff + DD @ va_store[im1:im2] - va[0:n,0:1]\n",
    "            r_store[ir1:ir2,0]= r[0:n,0]\n",
    "          \n",
    "            if iprint >= 4:\n",
    "                print(f'Outer iteration {k:3d}, Inner iteration {i:3d}')\n",
    "                print(va_store)\n",
    "                \n",
    "\n",
    "    return v_store,va_store,r_store"
   ]
  },
  {
   "cell_type": "code",
   "execution_count": 12,
   "id": "a312bbec",
   "metadata": {
    "executionInfo": {
     "elapsed": 138,
     "status": "ok",
     "timestamp": 1638917625739,
     "user": {
      "displayName": "Andre Leautaud",
      "photoUrl": "https://lh3.googleusercontent.com/a/default-user=s64",
      "userId": "00179671138191466499"
     },
     "user_tz": 420
    },
    "id": "SRSPZ3d-7jyh"
   },
   "outputs": [],
   "source": [
    "def Diteration_adjoint(D,psi,n,p,K,iprint):\n",
    "\n",
    "    # Perform multiplicative Schwarz iteration\n",
    "    # Compute contribution from each subdomain independently\n",
    "    # Introduce random error in each subdomain computation\n",
    "    #\n",
    "    # Store exact solutions from K iterations in a one-dimensional vector\n",
    "    # Store approximate solutions from K iterations in a one-dimensional vector\n",
    "    # Store residuals from K iterations in a one-dimensional vector\n",
    "\n",
    "    DD= np.zeros((n,n))\n",
    "    phi= np.zeros((n,1))\n",
    "    phi_store= np.zeros((n*p*K,1))\n",
    "\n",
    "    phi[0:n,0]= psi.reshape(n)\n",
    "    phi_store[n*p*(K-1)+n*(p-1):n*p*K,0]= psi.reshape(n) #there is proabaly a cleaner way\n",
    "\n",
    "    for k in range(K,0,-1):\n",
    "          \n",
    "        for i in range(p,0,-1):\n",
    "                                \n",
    "            id1= n*p*(k-1) + (i-1)*n      \n",
    "            id2= n*p*(k-1) + i*n\n",
    "                  \n",
    "            ip1= id1 + n \n",
    "            ip2= id2 + n \n",
    "    \n",
    "                \n",
    "            # Compute the contributions from each subdomain\n",
    "            pindex= i\n",
    "            if i == p:\n",
    "                pindex= 0\n",
    "                                \n",
    "            DD[0:n,0:n]= D[pindex,0:n,0:n]\n",
    "          \n",
    "            if iprint >= 2:\n",
    "                print(\"k, i, pindex, id1, id2:\", k, i, pindex, id1, id2)\n",
    "          \n",
    "            if k == K and i == p:\n",
    "                if iprint >= 2:\n",
    "                    print('Diteration_adjoint: special case \\n')\n",
    "            else:                \n",
    "                phi[0:n,0]= DD.T@phi[0:n,0]    \n",
    "                phi_store[id1:id2]= phi[0:n,0].reshape(n,1)\n",
    "                if iprint >= 4:\n",
    "                    print(phi_store)\n",
    "\n",
    "    return phi_store"
   ]
  },
  {
   "cell_type": "code",
   "execution_count": 13,
   "id": "xcfc6tWfAsaf",
   "metadata": {
    "executionInfo": {
     "elapsed": 3,
     "status": "ok",
     "timestamp": 1638917625739,
     "user": {
      "displayName": "Andre Leautaud",
      "photoUrl": "https://lh3.googleusercontent.com/a/default-user=s64",
      "userId": "00179671138191466499"
     },
     "user_tz": 420
    },
    "id": "xcfc6tWfAsaf"
   },
   "outputs": [],
   "source": [
    "def Uhsolve_multiplicative_approx(U,h,n,p,K,iprint,mpert,wpert):\n",
    "    \n",
    "    #  Perform multiplicative Schwarz iterations\n",
    "    #  K iterations performed by single matrix solve\n",
    "    #  Introduce random error\n",
    "    #  Store solutions from K iterations in a one-dimensional vector\n",
    "    # \n",
    "    #  Store exact solutions from K iterations in a one-dimensional vector\n",
    "    #  Store approximate solutions from K iterations in a one-dimensional vector\n",
    "    #  Store residuals from K iterations in a one-dimensional vector\n",
    "    \n",
    "\n",
    "    zexact= np.linalg.solve(U,h)\n",
    "    zerr= mpert\n",
    "    \n",
    "    zapprox= zexact + zerr*wpert\n",
    "    \n",
    "    resid= h-U@zapprox\n",
    "    \n",
    "    if iprint >= 4:\n",
    "        zz=np.zeros((n * p, K))\n",
    "        for k in range(K):\n",
    "            zz[0:n*p, k]= zexact[k*n*p:(k+1)*n*p,0]\n",
    "            print(zz[0:n*p,k])\n",
    "\n",
    "    return zexact,zapprox,resid"
   ]
  }
 ],
 "metadata": {
  "colab": {
   "collapsed_sections": [
    "jxzyQwB-cDTl"
   ],
   "name": "MultiplicativeUtilities.ipynb",
   "provenance": []
  },
  "kernelspec": {
   "display_name": "Python 3",
   "language": "python",
   "name": "python3"
  },
  "language_info": {
   "codemirror_mode": {
    "name": "ipython",
    "version": 3
   },
   "file_extension": ".py",
   "mimetype": "text/x-python",
   "name": "python",
   "nbconvert_exporter": "python",
   "pygments_lexer": "ipython3",
   "version": "3.6.13"
  }
 },
 "nbformat": 4,
 "nbformat_minor": 5
}
