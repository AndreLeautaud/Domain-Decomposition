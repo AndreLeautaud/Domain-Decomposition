{
 "cells": [
  {
   "cell_type": "markdown",
   "id": "9JxW5FUSiPQi",
   "metadata": {
    "id": "9JxW5FUSiPQi"
   },
   "source": [
    "# <span style=\"color:darkred\">Multiplicative Schwarz  using multiple strategies</span>."
   ]
  },
  {
   "cell_type": "markdown",
   "id": "82a2f340",
   "metadata": {},
   "source": [
    "<img align=\"left\" src=\"Schwarz.jpg\" width=120 height=120 />"
   ]
  },
  {
   "cell_type": "markdown",
   "id": "10452e1e",
   "metadata": {},
   "source": [
    "### [Simon Tavener](https://www.math.colostate.edu/~tavener/) and Andre Leautaud"
   ]
  },
  {
   "cell_type": "markdown",
   "id": "37c3d377",
   "metadata": {},
   "source": [
    "#### Full text for this notebook can be found at the following [link](https://www.math.colostate.edu/~tavener/andre/DD_multiphysics.pdf)"
   ]
  },
  {
   "cell_type": "markdown",
   "id": "7a6624a4",
   "metadata": {},
   "source": [
    "#### Set path and parameters"
   ]
  },
  {
   "cell_type": "code",
   "execution_count": 170,
   "id": "c02b328d",
   "metadata": {
    "id": "5d2478a0"
   },
   "outputs": [],
   "source": [
    "import numpy as np\n",
    "import math\n",
    "%run DD_Utilities.ipynb\n",
    "%run MS_Utilities.ipynb\n",
    "iprint= 4"
   ]
  },
  {
   "cell_type": "code",
   "execution_count": 171,
   "id": "faa67a46",
   "metadata": {},
   "outputs": [],
   "source": [
    "iparam= 5"
   ]
  },
  {
   "cell_type": "code",
   "execution_count": 172,
   "id": "cf53e536",
   "metadata": {},
   "outputs": [],
   "source": [
    "if iparam == 5:\n",
    "    n= 12\n",
    "    p= 4 \n",
    "    b= [1,2,5,9]\n",
    "    e= [3,7,10,12] #List of ends (inclusive) or integer representing overlap\n",
    "    K= 3\n",
    "    alpha= 0.5\n",
    "    if K > 500:\n",
    "        raise ValueError(\"K is too large\")"
   ]
  },
  {
   "cell_type": "code",
   "execution_count": 173,
   "id": "5e020539",
   "metadata": {
    "id": "5d2478a0"
   },
   "outputs": [],
   "source": [
    "if iparam == 0:\n",
    "    n= 10\n",
    "    p= 4 \n",
    "    b= [1,2,4,7]\n",
    "    e= [3,4,8,10] #List of ends (inclusive) or integer representing overlap\n",
    "    K= 3\n",
    "    if K > 500:\n",
    "        raise ValueError(\"K is too large\")"
   ]
  },
  {
   "cell_type": "code",
   "execution_count": 174,
   "id": "e4e16466",
   "metadata": {
    "id": "5d2478a0"
   },
   "outputs": [],
   "source": [
    "# This example shows how to create domains that each overlap by 1 column\n",
    "#small system\n",
    "if iparam == 1:\n",
    "    n= 8\n",
    "    p= 3 \n",
    "    b= [1,3,5]\n",
    "    e= 1\n",
    "    K= 3\n",
    "    if K > 500:\n",
    "        raise ValueError(\"K is too large\")"
   ]
  },
  {
   "cell_type": "code",
   "execution_count": 175,
   "id": "df23bd89",
   "metadata": {
    "id": "5d2478a0"
   },
   "outputs": [],
   "source": [
    "# This example shows the optional parameters for set_parameters\n",
    "if iparam == 2:\n",
    "    n= 12\n",
    "    p= -1 #p should be a positive integer or -1\n",
    "    b= [-1] # an evenly dispersed set of domains will be chosen\n",
    "    e= [-1] #List of ends or integer representing overlap or [-1] to automaically choose overlap\n",
    "    K= 6\n",
    "    if K > 500:\n",
    "        raise ValueError(\"K is too large\")"
   ]
  },
  {
   "cell_type": "code",
   "execution_count": 176,
   "id": "f150c634",
   "metadata": {
    "id": "5d2478a0"
   },
   "outputs": [],
   "source": [
    "#subdomains contained in others\n",
    "if iparam == 3:\n",
    "    n= 10\n",
    "    p= 5 #p should be a positive integer or -1\n",
    "    b= [1,1,5,5,7]\n",
    "    e= [2,4,6,8,10] \n",
    "    K= 6\n",
    "    if K > 500:\n",
    "        raise ValueError(\"K is too large\")"
   ]
  },
  {
   "cell_type": "code",
   "execution_count": 177,
   "id": "a50de85e",
   "metadata": {
    "id": "5d2478a0"
   },
   "outputs": [],
   "source": [
    "#overlap does not connect all subdomains\n",
    "if iparam == 4:\n",
    "    n= 9\n",
    "    p= 4 \n",
    "    b= [1,3,6,8]\n",
    "    e= [2,5,7,9]\n",
    "    K= 3\n",
    "    if K > 500:\n",
    "        raise ValueError(\"K is too large\")"
   ]
  },
  {
   "cell_type": "code",
   "execution_count": 178,
   "id": "8f6978fe",
   "metadata": {
    "id": "5d2478a0"
   },
   "outputs": [
    {
     "name": "stdout",
     "output_type": "stream",
     "text": [
      "4 [1, 2, 5, 9] [3, 7, 10, 12]\n"
     ]
    }
   ],
   "source": [
    "print(p,b,e)\n",
    "nn,nb,ne,index= fix_domains(n,p,b,e,iprint)"
   ]
  },
  {
   "cell_type": "markdown",
   "id": "ca6d11cd",
   "metadata": {},
   "source": [
    "#### Establish and solve forward system "
   ]
  },
  {
   "cell_type": "code",
   "execution_count": 179,
   "id": "b3c84d28",
   "metadata": {
    "id": "5d2478a0"
   },
   "outputs": [
    {
     "name": "stdout",
     "output_type": "stream",
     "text": [
      "[[1.24170220e+01 7.20324493e-01 1.14374817e-04 3.02332573e-01\n",
      "  1.46755891e-01 9.23385948e-02 1.86260211e-01 3.45560727e-01\n",
      "  3.96767474e-01 5.38816734e-01 4.19194514e-01 6.85219500e-01]\n",
      " [2.04452250e-01 1.28781174e+01 2.73875932e-02 6.70467510e-01\n",
      "  4.17304802e-01 5.58689828e-01 1.40386939e-01 1.98101489e-01\n",
      "  8.00744569e-01 9.68261576e-01 3.13424178e-01 6.92322616e-01]\n",
      " [8.76389152e-01 8.94606664e-01 1.20850442e+01 3.90547832e-02\n",
      "  1.69830420e-01 8.78142503e-01 9.83468338e-02 4.21107625e-01\n",
      "  9.57889530e-01 5.33165285e-01 6.91877114e-01 3.15515631e-01]\n",
      " [6.86500928e-01 8.34625672e-01 1.82882773e-02 1.27501443e+01\n",
      "  9.88861089e-01 7.48165654e-01 2.80443992e-01 7.89279328e-01\n",
      "  1.03226007e-01 4.47893526e-01 9.08595503e-01 2.93614148e-01]\n",
      " [2.87775339e-01 1.30028572e-01 1.93669579e-02 6.78835533e-01\n",
      "  1.22116281e+01 2.65546659e-01 4.91573159e-01 5.33625451e-02\n",
      "  5.74117605e-01 1.46728575e-01 5.89305537e-01 6.99758360e-01]\n",
      " [1.02334429e-01 4.14055988e-01 6.94400158e-01 4.14179270e-01\n",
      "  4.99534589e-02 1.25358964e+01 6.63794645e-01 5.14889112e-01\n",
      "  9.44594756e-01 5.86555041e-01 9.03401915e-01 1.37474704e-01]\n",
      " [1.39276347e-01 8.07391289e-01 3.97676837e-01 1.65354197e-01\n",
      "  9.27508580e-01 3.47765860e-01 1.27508121e+01 7.25997985e-01\n",
      "  8.83306091e-01 6.23672207e-01 7.50942434e-01 3.48898342e-01]\n",
      " [2.69927892e-01 8.95886218e-01 4.28091190e-01 9.64840047e-01\n",
      "  6.63441498e-01 6.21695720e-01 1.14745973e-01 1.29494893e+01\n",
      "  4.49912133e-01 5.78389614e-01 4.08136803e-01 2.37026980e-01]\n",
      " [9.03379521e-01 5.73679487e-01 2.87032703e-03 6.17144914e-01\n",
      "  3.26644902e-01 5.27058102e-01 8.85942099e-01 3.57269760e-01\n",
      "  1.29085352e+01 6.23360116e-01 1.58212428e-02 9.29437234e-01]\n",
      " [6.90896918e-01 9.97322850e-01 1.72340508e-01 1.37135750e-01\n",
      "  9.32595463e-01 6.96818161e-01 6.60001727e-02 7.55463053e-01\n",
      "  7.53876188e-01 1.29230245e+01 7.11524759e-01 1.24270962e-01]\n",
      " [1.98801338e-02 2.62109869e-02 2.83064880e-02 2.46211068e-01\n",
      "  8.60027949e-01 5.38831064e-01 5.52821979e-01 8.42030892e-01\n",
      "  1.24173315e-01 2.79183679e-01 1.25857593e+01 9.69595748e-01]\n",
      " [5.61030219e-01 1.86472894e-02 8.00632673e-01 2.32974274e-01\n",
      "  8.07105196e-01 3.87860644e-01 8.63541855e-01 7.47121643e-01\n",
      "  5.56240234e-01 1.36455226e-01 5.99176895e-02 1.21213435e+01]]\n",
      "y\n",
      "[[0.04455188]\n",
      " [0.10749413]\n",
      " [0.22570934]\n",
      " [0.71298898]\n",
      " [0.55971698]\n",
      " [0.01255598]\n",
      " [0.07197428]\n",
      " [0.96727633]\n",
      " [0.56810046]\n",
      " [0.20329323]\n",
      " [0.25232574]\n",
      " [0.74382585]]\n",
      "x\n",
      "[[-0.00419824]\n",
      " [-0.00164157]\n",
      " [ 0.01175758]\n",
      " [ 0.0474485 ]\n",
      " [ 0.03827986]\n",
      " [-0.00784711]\n",
      " [-0.00625574]\n",
      " [ 0.06670807]\n",
      " [ 0.03597758]\n",
      " [ 0.00616714]\n",
      " [ 0.00812658]\n",
      " [ 0.05214885]]\n"
     ]
    }
   ],
   "source": [
    "sread= True    #Read system of equations from iparam[iparam].csv\n",
    "swrite= False  #Write system to iparam[iparam].csv\n",
    "mpert= 0.02\n",
    "\n",
    "M,x,y,xstore= Linear_system(n,sread,iparam)\n",
    "wpert= Make_wpert(n,p,K,sread,iparam)\n",
    "if iprint >= 4:\n",
    "    print(M)\n",
    "    print('y')\n",
    "    print(y)        \n",
    "    print('x')\n",
    "    print(x)\n",
    "\n",
    "if swrite:\n",
    "    save_to_csv(n,p,K,0,nb,nn,ne,M,y,mpert,wpert,iparam)"
   ]
  },
  {
   "cell_type": "markdown",
   "id": "35f360eb",
   "metadata": {},
   "source": [
    "### Iterative strategy\n",
    "$u^{\\{k\\}}= u^{\\{k-1\\}} + Br = u^{\\{k-1\\}} + B(f-Au^{\\{k-1\\}})$, $\\quad k=1, \\dots, K,$ where $B$ is an approximation to $A^{-1}$\n",
    "\n",
    "<ins>Multiplicative<ins>\n",
    "$A_i= R_i A R_i^\\top \\in \\mathbb{R}^{m_i \\times m_i}, \\\\\n",
    "B_i= R_i^\\top A_i^{-1} R_i  = R_i^\\top ( R_i A R_i^\\top)^{-1} R_i  \\in \\mathbb{R}^{n \\times n}, \\\\\n",
    "C_i= B_i A   \\in \\mathbb{R}^{n \\times n},  \\\\\n",
    "D_i= (I-C_i) \\in \\mathbb{R}^{n \\times n},  \\\\\n",
    "f_i= B_i f   \\in \\mathbb{R}^{n}, \\; i=1,\\dots,p.\n",
    "$"
   ]
  },
  {
   "cell_type": "code",
   "execution_count": null,
   "id": "5ed38fc1",
   "metadata": {
    "id": "5d2478a0"
   },
   "outputs": [],
   "source": [
    "#Construct domains, R,A,B,C and f\n",
    "R= Rmatrices(n,p,nn,index,iprint)\n",
    "A= Amatrices(M,R,n,p,nn,iprint)\n",
    "B= Bmatrices(A,R,n,p,nn,iprint)\n",
    "C= Cmatrices(M,B,n,p,iprint) \n",
    "D= Dmatrices_multiplicative(C,n,p,iprint)\n",
    "f= fvector(B,y,n,p,iprint)"
   ]
  },
  {
   "cell_type": "markdown",
   "id": "a3fe8765",
   "metadata": {},
   "source": [
    "#### Perform $K$  iterations computing subdomain contributions independently\n",
    "$\n",
    "u^{\\{k+i/p\\}} = u^{\\{k+(i-1)/p\\}} + B_i(f-Au^{\\{k+(i-1)/p\\}}) =D_i u^{\\{k+(i-1)/p\\}} + f_i \\quad i=1,\\dots,p$"
   ]
  },
  {
   "cell_type": "code",
   "execution_count": null,
   "id": "b4403d97",
   "metadata": {
    "id": "5d2478a0"
   },
   "outputs": [],
   "source": [
    "#Perform D iteration\n",
    "vstore= Diteration_multiplicative(D,f,n,p,K,iprint)\n",
    "if iprint >= 4:\n",
    "    print('vstore')\n",
    "    print(vstore)\n"
   ]
  },
  {
   "cell_type": "markdown",
   "id": "f9c54706",
   "metadata": {},
   "source": [
    "#### Perform $K$ iterations using iteration matrices $S$ and $T$,  and  which compute the solution in all $p$ domains simultanously\n",
    "Let $p=5$ and construct S and T, g and v such that\n",
    "\n",
    "$S = \\pmatrix{\n",
    " I   &  0   &   0   &  0   &   0   \\cr\n",
    "-D_2 &  I   &   0   &  0   &   0   \\cr\n",
    " 0   & -D_3 &   I   &  0   &   0   \\cr\n",
    " 0   &   0  &  -D_4 &  I   &   0   \\cr\n",
    " 0   &   0  &   0   & -D_5 &   I\n",
    "} \\in \\mathbb{R}^{np \\times np}$,\n",
    "$T =\n",
    "\\pmatrix{\n",
    " 0 & 0 & 0 & 0 & -D_1  \\cr\n",
    " 0 & 0 & 0 & 0 &  0    \\cr\n",
    " 0 & 0 & 0 & 0 &  0    \\cr\n",
    " 0 & 0 & 0 & 0 &  0    \\cr\n",
    " 0 & 0 & 0 & 0 &  0\n",
    "} \\in \\mathbb{R}^{np \\times np}$, \n",
    "$g =\n",
    "\\pmatrix{\n",
    "f_1  \\cr\n",
    "f_2  \\cr\n",
    "f_3  \\cr\n",
    "f_4  \\cr\n",
    "f_5\n",
    "}\n",
    "\\in \\mathbb{R}^{np}$,\n",
    "$v^{\\{k\\}} =\n",
    "\\pmatrix{\n",
    "u^{\\{(k-1)+1/5\\}}  \\cr\n",
    "u^{\\{(k-1)+2/5\\}}  \\cr\n",
    "u^{\\{(k-1)+3/5\\}}  \\cr\n",
    "u^{\\{(k-1)+4/5\\}}  \\cr\n",
    "u^{\\{k\\}}\n",
    "}\n",
    "\\in \\mathbb{R}^{np}$,"
   ]
  },
  {
   "cell_type": "code",
   "execution_count": null,
   "id": "ebf6414f",
   "metadata": {
    "id": "5d2478a0",
    "scrolled": true
   },
   "outputs": [],
   "source": [
    "# Construct S, T and g and solve\n",
    "S= Smatrix_multiplicative(D,n,p,iprint)\n",
    "T= Tmatrix_multiplicative(D,n,p,iprint)\n",
    "g= gvector_multiplicative(f,n,p,iprint)\n",
    "\n",
    "wstore= STiteration(S,T,g,n,p,K,iprint)\n",
    "if iprint >= 4:\n",
    "    print('wstore')\n",
    "    print(wstore)"
   ]
  },
  {
   "cell_type": "markdown",
   "id": "bdb2d58e",
   "metadata": {},
   "source": [
    "#### Perform $K$ iterations as single matrix solve\n",
    "\n",
    "$K=6$ iterations of multiplicative Schwarz can be written as the $npK$-dimensional system of equations $Uz=h$, where\n",
    "\n",
    "$U=\n",
    "\\pmatrix{\n",
    " S & 0 & 0 & 0 & 0 & 0   \\cr\n",
    " T & S & 0 & 0 & 0 & 0   \\cr\n",
    " 0 & T & S & 0 & 0 & 0   \\cr\n",
    " 0 & 0 & T & S & 0 & 0   \\cr\n",
    " 0 & 0 & 0 & T & S & 0   \\cr\n",
    " 0 & 0 & 0 & 0 & T & S\n",
    "}\n",
    "$\n",
    ",\n",
    "$z=\n",
    "\\pmatrix{\n",
    "v^{\\{1\\}}  \\cr\n",
    "v^{\\{2\\}}  \\cr\n",
    "v^{\\{3\\}}  \\cr\n",
    "v^{\\{4\\}}  \\cr\n",
    "v^{\\{5\\}}  \\cr\n",
    "v^{\\{6\\}}\n",
    "}\n",
    "$\n",
    ",\n",
    "$\n",
    "h=\n",
    "\\pmatrix{\n",
    "g  \\cr\n",
    "g  \\cr\n",
    "g  \\cr\n",
    "g  \\cr\n",
    "g  \\cr\n",
    "g\n",
    "}\n",
    "$\n",
    "."
   ]
  },
  {
   "cell_type": "code",
   "execution_count": null,
   "id": "eb6c1223",
   "metadata": {
    "id": "5d2478a0"
   },
   "outputs": [],
   "source": [
    "# Construct U and h and solve\n",
    "U= Umatrix_multiplicative(S,T,n,p,K,iprint) \n",
    "h= hvector_multiplicative(g,n,p,K,iprint)\n",
    "\n",
    "# Solve using U and h\n",
    "zstore= Uhsolve_multiplicative(U,h,n,p,K,iprint);\n",
    "if iprint >= 4:\n",
    "    print('zstore')\n",
    "    print(zstore)"
   ]
  },
  {
   "cell_type": "markdown",
   "id": "1aa8b066",
   "metadata": {},
   "source": [
    "#### Compare Solutions from all three methods"
   ]
  },
  {
   "cell_type": "code",
   "execution_count": null,
   "id": "ad3e2be2",
   "metadata": {
    "id": "5d2478a0",
    "scrolled": true
   },
   "outputs": [],
   "source": [
    "solution_compare(xstore,vstore,wstore,zstore,iprint)"
   ]
  },
  {
   "cell_type": "markdown",
   "id": "83d9d8ca",
   "metadata": {},
   "source": [
    "### Add discretization error and compute error estimates and effectivity ratios"
   ]
  },
  {
   "cell_type": "markdown",
   "id": "5e0a8640",
   "metadata": {},
   "source": [
    "#### $K$  iterations computing subdomain contributions independently"
   ]
  },
  {
   "cell_type": "code",
   "execution_count": null,
   "id": "a0a3feb4",
   "metadata": {
    "id": "5d2478a0",
    "scrolled": true
   },
   "outputs": [],
   "source": [
    "# Set adjoint RHS\n",
    "psi= np.ones((n,1))\n",
    "\n",
    "# Perform D iteration with error: add random error to each subdomain solve\n",
    "v_store,va_store,r_store= Diteration_approx(D,f,n,p,K,iprint,mpert,wpert)\n",
    "if iprint >= 6:\n",
    "    print(v_store)\n",
    "    print(va_store)\n",
    "    print(rstore)"
   ]
  },
  {
   "cell_type": "markdown",
   "id": "fc78f0c9",
   "metadata": {},
   "source": [
    "#### Calculate the discretization error"
   ]
  },
  {
   "cell_type": "code",
   "execution_count": null,
   "id": "47a677b6",
   "metadata": {
    "id": "5d2478a0"
   },
   "outputs": [],
   "source": [
    "# Perform adjoint solve \n",
    "phi_store= Diteration_adjoint(D,psi,n,p,K,iprint)\n",
    "\n",
    "# Compute error estimate as (r,phi)\n",
    "qoi_discretization_error_estimate= r_store.T @ phi_store\n",
    "\n",
    "# Compute error and error in QoI directly\n",
    "vesoln=  v_store[n*p*K + n*(p-1):n*p*(K+1),0:1]\n",
    "vsoln=  va_store[n*p*K + n*(p-1):n*p*(K+1),0:1]\n",
    "verror= vesoln - vsoln\n",
    "\n",
    "qoi_discretization_error= psi.T @ verror"
   ]
  },
  {
   "cell_type": "markdown",
   "id": "a95fec4e",
   "metadata": {},
   "source": [
    "#### Calculate the effectivity ratio"
   ]
  },
  {
   "cell_type": "code",
   "execution_count": null,
   "id": "42641a3b",
   "metadata": {
    "id": "5d2478a0"
   },
   "outputs": [],
   "source": [
    "effectivity_ratio_disc = qoi_discretization_error_estimate / qoi_discretization_error\n",
    "print(f'QoI_discretization_error          = {qoi_discretization_error[0,0]:13.6e}')\n",
    "print(f'QoI_discretization_error_estimate = {qoi_discretization_error_estimate[0,0]:13.6e}')\n",
    "print(f'Effectivity ratio                 = {effectivity_ratio_disc[0,0]:13.3f}')"
   ]
  },
  {
   "cell_type": "markdown",
   "id": "2435839e",
   "metadata": {},
   "source": [
    "#### Calculate the total error"
   ]
  },
  {
   "cell_type": "code",
   "execution_count": null,
   "id": "1d54dcfb",
   "metadata": {
    "id": "5d2478a0"
   },
   "outputs": [],
   "source": [
    "total_error= xstore - vsoln\n",
    "qoi_total_error= psi.T @ total_error\n",
    "\n",
    "phi= np.linalg.solve(M.T,psi)\n",
    "r= y - M @ vsoln\n",
    "qoi_total_error_estimate= r.T @ phi"
   ]
  },
  {
   "cell_type": "markdown",
   "id": "0f847e06",
   "metadata": {},
   "source": [
    "#### Calculate the effectivity ratio"
   ]
  },
  {
   "cell_type": "code",
   "execution_count": null,
   "id": "d562345d",
   "metadata": {
    "scrolled": true
   },
   "outputs": [],
   "source": [
    "effectivity_ratio_total= qoi_total_error_estimate / qoi_total_error\n",
    "print(f'QoI_total_error                   = {qoi_total_error[0,0]:13.6e}')\n",
    "print(f'QoI_total_error_estimate          = {qoi_total_error_estimate[0,0]:13.6e}')\n",
    "print(f'Effectivity ratio                 = {effectivity_ratio_total[0,0]:13.3f}')"
   ]
  },
  {
   "cell_type": "markdown",
   "id": "b2773590",
   "metadata": {},
   "source": [
    "#### Calculate the iteration error"
   ]
  },
  {
   "cell_type": "code",
   "execution_count": null,
   "id": "ed9b3b39",
   "metadata": {
    "id": "5d2478a0"
   },
   "outputs": [],
   "source": [
    "qoi_iteration_error= qoi_total_error-qoi_discretization_error\n",
    "print(f'QoI_iteration_error               = {qoi_iteration_error[0,0]:13.6e}')"
   ]
  },
  {
   "cell_type": "markdown",
   "id": "40801950",
   "metadata": {},
   "source": [
    "#### $K$ iterations as single matrix solve"
   ]
  },
  {
   "cell_type": "code",
   "execution_count": null,
   "id": "00a87eed",
   "metadata": {
    "id": "5d2478a0"
   },
   "outputs": [],
   "source": [
    "# Perform U iteration with error: add random error to linear system solution\n",
    "zexact,zapprox,zresid= Uhsolve_multiplicative_approx(U,h,n,p,K,iprint,mpert,wpert)\n",
    "\n",
    "# Adjoint data (Adjoint system is of size npK)\n",
    "psi_npK= np.zeros((n*p*K,1))\n",
    "psi_npK[n*p*K - n:n*p*K,0]= psi.reshape(n)\n",
    "\n",
    "#  Solve adjoint equation\n",
    "phi_npK= np.linalg.solve(U.T,psi_npK)\n",
    "if iprint >= 2:\n",
    "    print(f'Norm of difference between phi_npK and phi_store = {np.linalg.norm(phi_npK-phi_store):13.6e}')\n",
    "\n",
    "# Compute error estimate\n",
    "qoi_discretization_error_estimate= phi_npK.T @ zresid\n",
    "\n",
    "# Compute error and error in QoI directly\n",
    "xsoln= zexact[n*p*K - n:n*p*K,0:1]\n",
    "zsoln= zapprox[n*p*K - n:n*p*K,0:1]\n",
    "zerror= xsoln-zsoln\n",
    "qoi_discretization_error= psi.T @ zerror"
   ]
  },
  {
   "cell_type": "markdown",
   "id": "854e5888",
   "metadata": {},
   "source": [
    "#### Calculate the effectivity ratio"
   ]
  },
  {
   "cell_type": "code",
   "execution_count": null,
   "id": "ebabd28d",
   "metadata": {
    "id": "5d2478a0"
   },
   "outputs": [],
   "source": [
    "effectivity_ratio_disc= qoi_discretization_error_estimate/qoi_discretization_error\n",
    "print(f'QoI_discretization_error          = {qoi_discretization_error[0,0]:13.6e}' )\n",
    "print(f'QoI_discretization_error_estimate = {qoi_discretization_error_estimate[0,0]:13.6e}')\n",
    "print(f'Effectivity ratio                 = {effectivity_ratio_disc[0,0]:13.3f}')"
   ]
  },
  {
   "cell_type": "markdown",
   "id": "11bd9b28",
   "metadata": {},
   "source": [
    "#### Calculate the total error"
   ]
  },
  {
   "cell_type": "code",
   "execution_count": null,
   "id": "d2c3793d",
   "metadata": {
    "id": "5d2478a0"
   },
   "outputs": [],
   "source": [
    "total_error= xstore - zsoln\n",
    "qoi_total_error= psi.T @ total_error\n",
    "\n",
    "r= y - M@zsoln\n",
    "qoi_total_error_estimate= r.T @ phi"
   ]
  },
  {
   "cell_type": "markdown",
   "id": "d90a3e23",
   "metadata": {},
   "source": [
    "#### Calculate the effectivity ratio"
   ]
  },
  {
   "cell_type": "code",
   "execution_count": null,
   "id": "f5034f19",
   "metadata": {
    "id": "5d2478a0"
   },
   "outputs": [],
   "source": [
    "effectivity_ratio_total= qoi_total_error_estimate / qoi_total_error\n",
    "print(f'QoI_total_error                   = {qoi_total_error[0,0]:13.6e}')\n",
    "print(f'QoI_total_error_estimate          = {qoi_total_error_estimate[0,0]:13.6e}')\n",
    "print(f'Effectivity ratio                 = {effectivity_ratio_total[0,0]:13.3f}')"
   ]
  },
  {
   "cell_type": "markdown",
   "id": "b32c256b",
   "metadata": {
    "id": "5d2478a0"
   },
   "source": [
    "#### Calculate iteration error"
   ]
  },
  {
   "cell_type": "code",
   "execution_count": null,
   "id": "483210e7",
   "metadata": {
    "id": "5d2478a0"
   },
   "outputs": [],
   "source": [
    "qoi_iteration_error= qoi_total_error - qoi_discretization_error\n",
    "print(f'QoI_iteration_error               = {qoi_iteration_error[0,0]:13.6e}')"
   ]
  }
 ],
 "metadata": {
  "colab": {
   "collapsed_sections": [
    "Pm69IKhJhkAi",
    "P8_qLIJNb6cv",
    "6ljxw4sXnjLo",
    "W6kJj2bf-Swy",
    "f8Apbo74_sx_",
    "jxzyQwB-cDTl",
    "p384sqSucH9m",
    "5maDvWnGbq_U",
    "R_asHpZcob70",
    "mJm01yDDcTHi",
    "m6vPGA3pMpMv",
    "dhcWJFRooNQw"
   ],
   "name": "Multiplicative Schwarz.ipynb",
   "provenance": []
  },
  "kernelspec": {
   "display_name": "Python 3 (ipykernel)",
   "language": "python",
   "name": "python3"
  },
  "language_info": {
   "codemirror_mode": {
    "name": "ipython",
    "version": 3
   },
   "file_extension": ".py",
   "mimetype": "text/x-python",
   "name": "python",
   "nbconvert_exporter": "python",
   "pygments_lexer": "ipython3",
   "version": "3.8.12"
  }
 },
 "nbformat": 4,
 "nbformat_minor": 5
}
