{
 "cells": [
  {
   "cell_type": "markdown",
   "id": "P8_qLIJNb6cv",
   "metadata": {
    "id": "P8_qLIJNb6cv"
   },
   "source": [
    "## DD Utilities"
   ]
  },
  {
   "cell_type": "code",
   "execution_count": null,
   "id": "uIQwpYTchMvn",
   "metadata": {
    "id": "uIQwpYTchMvn"
   },
   "outputs": [],
   "source": [
    "import numpy as np"
   ]
  },
  {
   "cell_type": "code",
   "execution_count": null,
   "id": "n_6S9zuRbqvy",
   "metadata": {
    "id": "n_6S9zuRbqvy"
   },
   "outputs": [],
   "source": [
    "def Linear_system(n,sread,iparam):\n",
    "    if sread == False:\n",
    "        np.random.seed(1)\n",
    "        M= n*np.identity(n) + np.random.rand(n,n) #uses uniform dist on [0,1)\n",
    "        y= np.random.rand(n,1)\n",
    "    else:\n",
    "        import csv\n",
    "        with open('iparam' + str(iparam) + '.csv') as file:\n",
    "            csv_reader = csv.reader(file)\n",
    "            data = [row for row in csv_reader]\n",
    "            \n",
    "            n= int(data[0][0])\n",
    "            print(data[1])\n",
    "            p= int(data[1][0])\n",
    "            K= int(data[2][0])\n",
    "            alpha= float(data[3][0])\n",
    "            nn= np.array([int(d) for d in data[4]])\n",
    "            nb= np.array([int(d) for d in data[5]])\n",
    "            ne= np.array([int(d) for d in data[6]])\n",
    "            \n",
    "            M= np.zeros((n,n))\n",
    "            y= np.zeros((n,1))\n",
    "            for i in range(n):\n",
    "                M[i,:]= data[10 + i]\n",
    "            for i in range(n):\n",
    "                y[i,:]= data[10 + n + i]\n",
    "    \n",
    "    x= np.linalg.solve(M,y)\n",
    "    xstore= x\n",
    "    \n",
    "    return M,x,y,xstore"
   ]
  },
  {
   "cell_type": "code",
   "execution_count": null,
   "id": "826d706e",
   "metadata": {},
   "outputs": [],
   "source": [
    "def save_to_csv(n,p,K,alpha,nb,nn,ne,M,y,mpert,wpert,iparam):\n",
    "    import csv\n",
    "    f = open('iparam' + str(iparam) + '.csv', 'w', newline='')\n",
    "    writer = csv.writer(f)\n",
    "    writer.writerow([n])\n",
    "    writer.writerow([p])\n",
    "    writer.writerow([K])\n",
    "    writer.writerow([alpha])\n",
    "    writer.writerow(nn)#row5\n",
    "    writer.writerow(nb)\n",
    "    writer.writerow(ne)\n",
    "    writer.writerow(nn)#nnb\n",
    "    writer.writerow(nb)#nnt\n",
    "    writer.writerow(ne)#nne\n",
    "    writer.writerows(M)\n",
    "    writer.writerows(y)\n",
    "    writer.writerow([mpert])\n",
    "#     f.close()\n",
    "    \n",
    "#     f = open('svpert'+str(iparam)+'.csv', 'w')\n",
    "#     writer = csv.writer(f)\n",
    "    writer.writerows(wpert)\n",
    "    f.close()"
   ]
  },
  {
   "cell_type": "code",
   "execution_count": null,
   "id": "9b15f1e0",
   "metadata": {},
   "outputs": [],
   "source": [
    "def Make_wpert(n,p,K,sread,iparam):\n",
    "    if sread == False:\n",
    "        wpert=np.random.randn(n*p*K,1)\n",
    "    else:\n",
    "        import csv\n",
    "        with open('iparam' + str(iparam) + '.csv') as file:\n",
    "            csv_reader = csv.reader(file)\n",
    "            data = [row for row in csv_reader]\n",
    "            wpert= np.zeros((n*p*K,1))\n",
    "            for i in range(n*p*K):\n",
    "                wpert[i,:]= float(data[i][0])\n",
    "                \n",
    "    return wpert"
   ]
  },
  {
   "cell_type": "code",
   "execution_count": null,
   "id": "W1X2pLLTbosH",
   "metadata": {
    "id": "W1X2pLLTbosH"
   },
   "outputs": [],
   "source": [
    "def fix_domains(n,p,b,e,iprint):\n",
    "    #creates nn, ne, nb, and index which are needed later\n",
    "    \n",
    "    import math\n",
    "    if type(e) == int:\n",
    "        overlap= e\n",
    "        e= []\n",
    "        for i in range(p-1):\n",
    "            e+=[b[i + 1] + overlap - 1]\n",
    "            if e[-1] > n: #will reset any of them to be <= n\n",
    "                e[-1]= n\n",
    "        e+=[n] #because the last end must be n\n",
    "\n",
    "    nb= np.array(b)\n",
    "    ne= np.array(e)\n",
    "    nn= ne - nb + 1\n",
    "    nnmax= np.max(nn)\n",
    "\n",
    "    index=n p.zeros((p,nnmax))\n",
    "    for i in range(p):\n",
    "        index[i,0:nn[i]]= np.linspace(nb[i],ne[i],nn[i])\n",
    "\n",
    "    return nn, nb, ne, index"
   ]
  },
  {
   "cell_type": "code",
   "execution_count": null,
   "id": "Sc6yrJ4Mbmk6",
   "metadata": {
    "id": "Sc6yrJ4Mbmk6"
   },
   "outputs": [],
   "source": [
    "def Rmatrices(n,p,nn,index,iprint):\n",
    "    nnmax=np.max(nn)\n",
    "    R=np.zeros((p,nnmax,n))\n",
    "    \n",
    "    for i in range(0,p):\n",
    "        for j in range(0,nn[i]):\n",
    "            R[i,j,int(index[i,j] - 1)]= 1 \n",
    "    \n",
    "    return R"
   ]
  },
  {
   "cell_type": "code",
   "execution_count": null,
   "id": "EkcBR7PzbkVM",
   "metadata": {
    "id": "EkcBR7PzbkVM"
   },
   "outputs": [],
   "source": [
    "def Amatrices(M,R,n,p,nn,iprint):\n",
    "    nnmax= np.max(nn)\n",
    "    A= np.zeros((p,nnmax,nnmax))\n",
    "    RR= np.zeros((nnmax,n))\n",
    "    AA= np.zeros((nnmax,nnmax))\n",
    "    \n",
    "    for i in range(0,p):\n",
    "        RR= R[i] \n",
    "        AA= RR @ M @ RR.T\n",
    "        A[i]= AA\n",
    "        \n",
    "    return A"
   ]
  },
  {
   "cell_type": "code",
   "execution_count": null,
   "id": "0m00sqGqbiYg",
   "metadata": {
    "id": "0m00sqGqbiYg"
   },
   "outputs": [],
   "source": [
    "def Bmatrices(A, R, n, p, nn, iprint):\n",
    "    nnmax= max(nn)\n",
    "\n",
    "    B= np.zeros((p,n,n))\n",
    "    RR= np.zeros((nnmax,n))\n",
    "    AA= np.zeros((nnmax,nnmax))\n",
    "    \n",
    "    for i in range(0,p):\n",
    "        RR= R[i]\n",
    "        AA= A[i]\n",
    "        B[i]= RR[0:nn[i],:].T @ np.linalg.inv(AA[0:nn[i],0:nn[i]]) @ RR[0:nn[i],:]\n",
    "    \n",
    "    if iprint >= 6:\n",
    "        print('Print B matrices')\n",
    "        for i in range(p):\n",
    "            tmp= np.zeros((n,n))\n",
    "            print('i=',i)\n",
    "            tmp[0:n,0:n]= B[i,0:n,0:n]\n",
    "            tmp[1:n,1:n]\n",
    "        \n",
    "    return B"
   ]
  },
  {
   "cell_type": "code",
   "execution_count": null,
   "id": "h1Pm2XytbgKd",
   "metadata": {
    "id": "h1Pm2XytbgKd"
   },
   "outputs": [],
   "source": [
    "def Cmatrices(M,B,n,p,iprint):\n",
    "    C= np.zeros((p,n,n))\n",
    "    CC= np.zeros((n,n))\n",
    "    BB= np.zeros((n,n))\n",
    "    for i in range(p):\n",
    "        BB= B[i]\n",
    "        CC= BB @ M\n",
    "        C[i]= CC\n",
    "\n",
    "    if iprint >= 6:\n",
    "        print('Print C matrices ')\n",
    "        for i in range(p):\n",
    "            tmp= np.zeros((n,n))\n",
    "            print('Subdomain',i)\n",
    "            tmp[1:n,1:n]= C[i,1:n,1:n]\n",
    "            print(tmp[1:n,1:n])\n",
    "\n",
    "    return C"
   ]
  },
  {
   "cell_type": "code",
   "execution_count": 1,
   "id": "r0MwZMYWCay4",
   "metadata": {
    "id": "r0MwZMYWCay4"
   },
   "outputs": [],
   "source": [
    "def fvector(B,y,n,p,iprint):\n",
    "    # Construct f vector for either additive or multiplicative Schwarz\n",
    "    \n",
    "    f= np.zeros((p,n))\n",
    "    BB= np.zeros((n,n))\n",
    "    for i in range(p):\n",
    "        BB= B[i]\n",
    "        f[i]= BB @ y[0:n,0]\n",
    "    if iprint >= 4:\n",
    "        print(\"Print f vector \")\n",
    "        for i in range (p):\n",
    "            tmp= np.zeros((n,1))\n",
    "            print(\"i=\",i)\n",
    "            tmp[0:n,0]= f[i,0:n]\n",
    "            print(tmp[0:n,0])\n",
    "            \n",
    "    return f"
   ]
  },
  {
   "cell_type": "code",
   "execution_count": null,
   "id": "Eqgp492vfFR_",
   "metadata": {
    "id": "Eqgp492vfFR_"
   },
   "outputs": [],
   "source": [
    "def solution_compare(xstore,vstore,wstore,zstore,iprint):\n",
    "\n",
    "    nx= len(xstore)\n",
    "    nv= len(vstore)\n",
    "\n",
    "    print(f'norm(exact - iterative) solutions    = {np.linalg.norm(xstore[0:nx,0] - vstore[nv - nx:nv,0]):13.6e}') \n",
    "\n",
    "    if iprint >= 2:\n",
    "        print(f'Difference between vstore and wstore = {np.linalg.norm(vstore - wstore):13.6e}')\n",
    "        print(f'Difference between wstore and zstore = {np.linalg.norm(wstore - zstore):13.6e}')\n",
    "        print(f'Difference between vstore and zstore = {np.linalg.norm(vstore - zstore):13.6e}')\n",
    "\n",
    "    if iprint >= 6:\n",
    "        print(xstore[0:nx,0] - vstore[nv - nx:nv,0])\n",
    "        print(vstore - wstore)\n",
    "        print(wstore - zstore)\n",
    "        print(vstore - zstore)"
   ]
  }
 ],
 "metadata": {
  "colab": {
   "collapsed_sections": [],
   "name": "DDUtilities.ipynb",
   "provenance": []
  },
  "kernelspec": {
   "display_name": "Python 3 (ipykernel)",
   "language": "python",
   "name": "python3"
  },
  "language_info": {
   "codemirror_mode": {
    "name": "ipython",
    "version": 3
   },
   "file_extension": ".py",
   "mimetype": "text/x-python",
   "name": "python",
   "nbconvert_exporter": "python",
   "pygments_lexer": "ipython3",
   "version": "3.8.12"
  }
 },
 "nbformat": 4,
 "nbformat_minor": 5
}
