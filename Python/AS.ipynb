{
 "cells": [
  {
   "cell_type": "markdown",
   "id": "9JxW5FUSiPQi",
   "metadata": {
    "id": "9JxW5FUSiPQi"
   },
   "source": [
    "# <span style=\"color:darkred\">Additive Schwarz  using multiple strategies</span>."
   ]
  },
  {
   "cell_type": "markdown",
   "id": "82a2f340",
   "metadata": {},
   "source": [
    "<img align=\"left\" src=\"Schwarz.jpg\" width=120 height=120 />"
   ]
  },
  {
   "cell_type": "markdown",
   "id": "10452e1e",
   "metadata": {},
   "source": [
    "### [Simon Tavener](https://www.math.colostate.edu/~tavener/) and Andre Leautaud"
   ]
  },
  {
   "cell_type": "markdown",
   "id": "37c3d377",
   "metadata": {},
   "source": [
    "#### Full text for this notebook can be found at the following [link](https://www.math.colostate.edu/~tavener/andre/DD_multiphysics.pdf)"
   ]
  },
  {
   "cell_type": "markdown",
   "id": "7a6624a4",
   "metadata": {},
   "source": [
    "#### Set path and parameters"
   ]
  },
  {
   "cell_type": "code",
   "execution_count": 14,
   "id": "c02b328d",
   "metadata": {
    "id": "5d2478a0"
   },
   "outputs": [],
   "source": [
    "import numpy as np\n",
    "import math\n",
    "%run DD_Utilities_sjt_al.ipynb\n",
    "%run AS_Utilities.ipynb\n",
    "iprint= 4"
   ]
  },
  {
   "cell_type": "code",
   "execution_count": 15,
   "id": "faa67a46",
   "metadata": {},
   "outputs": [],
   "source": [
    "iparam= 4"
   ]
  },
  {
   "cell_type": "code",
   "execution_count": 16,
   "id": "5e020539",
   "metadata": {
    "id": "5d2478a0"
   },
   "outputs": [],
   "source": [
    "if iparam == 0:\n",
    "    n= 10\n",
    "    p= 4 \n",
    "    b= [1,2,4,7]\n",
    "    e= [3,4,8,10] #List of ends (inclusive) or integer representing overlap\n",
    "    K= 3\n",
    "    alpha= 0.5\n",
    "    if K > 500:\n",
    "        raise ValueError(\"K is too large\")"
   ]
  },
  {
   "cell_type": "code",
   "execution_count": 17,
   "id": "e4e16466",
   "metadata": {
    "id": "5d2478a0"
   },
   "outputs": [],
   "source": [
    "# This example shows how to create domains that each overlap by 1 column\n",
    "#small system\n",
    "if iparam == 1:\n",
    "    n= 8\n",
    "    p= 3 \n",
    "    b= [1,3,5]\n",
    "    e= 1\n",
    "    K= 3\n",
    "    alpha= 0.5\n",
    "    if K > 500:\n",
    "        raise ValueError(\"K is too large\")"
   ]
  },
  {
   "cell_type": "code",
   "execution_count": 18,
   "id": "df23bd89",
   "metadata": {
    "id": "5d2478a0"
   },
   "outputs": [],
   "source": [
    "# This example shows the optional parameters for set_parameters\n",
    "if iparam == 2:\n",
    "    n= 12\n",
    "    p= -1 #p should be a positive integer or -1\n",
    "    b= [-1] # an evenly dispersed set of domains will be chosen\n",
    "    e= [-1] #List of ends or integer representing overlap or [-1] to automaically choose overlap\n",
    "    K= 6\n",
    "    alpha= 0.5\n",
    "    if K > 500:\n",
    "        raise ValueError(\"K is too large\")"
   ]
  },
  {
   "cell_type": "code",
   "execution_count": 19,
   "id": "f150c634",
   "metadata": {
    "id": "5d2478a0"
   },
   "outputs": [],
   "source": [
    "#subdomains contained in others\n",
    "if iparam == 3:\n",
    "    n= 10\n",
    "    p= 5 #p should be a positive integer or -1\n",
    "    b= [1,1,5,5,7]\n",
    "    e= [2,4,6,8,10] \n",
    "    K= 6\n",
    "    alpha= 0.5\n",
    "    if K > 500:\n",
    "        raise ValueError(\"K is too large\")"
   ]
  },
  {
   "cell_type": "code",
   "execution_count": 20,
   "id": "a50de85e",
   "metadata": {
    "id": "5d2478a0"
   },
   "outputs": [],
   "source": [
    "#overlap does not connect all subdomains\n",
    "if iparam == 4:\n",
    "    n= 9\n",
    "    p= 4 \n",
    "    b= [1,3,6,8]\n",
    "    e= [2,5,7,9]\n",
    "    K= 3\n",
    "    alpha= 0.5\n",
    "    if K > 500:\n",
    "        raise ValueError(\"K is too large\")"
   ]
  },
  {
   "cell_type": "code",
   "execution_count": 21,
   "id": "8f6978fe",
   "metadata": {
    "id": "5d2478a0"
   },
   "outputs": [
    {
     "name": "stdout",
     "output_type": "stream",
     "text": [
      "4 [1, 3, 6, 8] [2, 5, 7, 9]\n"
     ]
    }
   ],
   "source": [
    "p,b,e= set_parameters(n,p,b,e)  #set_parameters creates a sample set of domains if the user does not fully specify it.\n",
    "print(p,b,e)\n",
    "nn,nb,ne,index= fix_domains(n,p,b,e,iprint)"
   ]
  },
  {
   "cell_type": "markdown",
   "id": "ca6d11cd",
   "metadata": {},
   "source": [
    "#### Establish and solve forward system "
   ]
  },
  {
   "cell_type": "code",
   "execution_count": 22,
   "id": "b3c84d28",
   "metadata": {
    "id": "5d2478a0"
   },
   "outputs": [
    {
     "name": "stdout",
     "output_type": "stream",
     "text": [
      "[[9.62215655e+00 8.32901422e-01 1.43700570e-01 2.00881488e-01\n",
      "  8.58934016e-01 6.66734650e-01 7.91466856e-02 3.17815819e-01\n",
      "  4.04658996e-01]\n",
      " [3.04248768e-01 9.98588149e+00 1.81891619e-01 7.19007097e-01\n",
      "  6.61667818e-02 1.54954091e-01 7.92437200e-01 4.85667763e-03\n",
      "  6.29124987e-01]\n",
      " [7.32549846e-01 1.21512673e-01 9.62133427e+00 4.21599101e-01\n",
      "  5.05099066e-02 4.71345005e-01 2.37365521e-01 8.81531530e-01\n",
      "  8.71632211e-02]\n",
      " [8.37433784e-01 7.79150010e-01 6.99772570e-01 9.99655558e+00\n",
      "  8.82255646e-01 6.92654503e-01 6.08992558e-01 2.00266278e-01\n",
      "  9.37670041e-01]\n",
      " [3.86422709e-02 6.21906064e-01 3.26074979e-01 7.47165717e-01\n",
      "  9.66372305e+00 9.86810485e-01 4.83876451e-01 2.43806914e-01\n",
      "  9.42411059e-01]\n",
      " [7.41041186e-01 6.23529911e-02 1.34402552e-01 2.35042984e-01\n",
      "  9.14452012e-01 9.72070277e+00 2.68590906e-01 5.46808478e-01\n",
      "  8.88525134e-01]\n",
      " [6.51928944e-01 5.23795680e-01 2.98566812e-01 3.62890447e-01\n",
      "  6.83464700e-01 9.99462815e-01 9.68294718e+00 4.94016569e-01\n",
      "  7.58993183e-01]\n",
      " [1.50731804e-01 2.24115452e-01 4.11659685e-01 2.05701134e-01\n",
      "  8.06662427e-01 5.09002076e-01 1.89456371e-01 9.91465375e+00\n",
      "  5.38998406e-01]\n",
      " [7.29059123e-01 4.40891408e-01 3.66539688e-01 5.30930590e-01\n",
      "  6.95522099e-01 1.77930197e-01 9.78180821e-02 6.99915419e-01\n",
      "  9.84210905e+00]]\n",
      "y\n",
      "[[0.21239542]\n",
      " [0.33753711]\n",
      " [0.20617481]\n",
      " [0.2414453 ]\n",
      " [0.70632942]\n",
      " [0.59122697]\n",
      " [0.5946027 ]\n",
      " [0.82729119]\n",
      " [0.85639938]]\n",
      "x\n",
      "[[0.00603778]\n",
      " [0.02420029]\n",
      " [0.00999091]\n",
      " [0.00223286]\n",
      " [0.05546399]\n",
      " [0.04282718]\n",
      " [0.04148667]\n",
      " [0.07076806]\n",
      " [0.07485121]]\n"
     ]
    }
   ],
   "source": [
    "sread= False    #Read system of equations from csv files\n",
    "swrite= True  #Write system to csv file\n",
    "\n",
    "M,x,y,xstore= Linear_system(n,sread,swrite,iparam)\n",
    "svpert=Make_svpert_add(n,p,sread,iparam)\n",
    "if iprint >= 4:\n",
    "    print(M)\n",
    "    print('y')\n",
    "    print(y)        \n",
    "    print('x')\n",
    "    print(x)\n",
    "if swrite:\n",
    "    save_to_csv(n,p,K,nb,nn,ne,M,y,svpert,iparam)"
   ]
  },
  {
   "cell_type": "code",
   "execution_count": 23,
   "id": "de2d20d0",
   "metadata": {},
   "outputs": [],
   "source": [
    "# ### Iterative strategy\n",
    "# $u^{\\{k\\}}= u^{\\{k-1\\}} + Br = u^{\\{k-1\\}} + B(f-Au^{\\{k-1\\}})$, $\\quad k=1, \\dots, K,$ where $B$ is an approximation to $A^{-1}$\n",
    "\n",
    "# <ins>Multiplicative<ins>\n",
    "# $A_i= R_i A R_i^\\top \\in \\mathbb{R}^{m_i \\times m_i}, \\\\\n",
    "# B_i= R_i^\\top A_i^{-1} R_i  = R_i^\\top ( R_i A R_i^\\top)^{-1} R_i  \\in \\mathbb{R}^{n \\times n}, \\\\\n",
    "# C_i= B_i A   \\in \\mathbb{R}^{n \\times n},  \\\\\n",
    "# D_i= (I-C_i) \\in \\mathbb{R}^{n \\times n},  \\\\\n",
    "# f_i= B_i f   \\in \\mathbb{R}^{n}, \\; i=1,\\dots,p.\n",
    "# $"
   ]
  },
  {
   "cell_type": "code",
   "execution_count": 24,
   "id": "5ed38fc1",
   "metadata": {
    "id": "5d2478a0"
   },
   "outputs": [
    {
     "name": "stdout",
     "output_type": "stream",
     "text": [
      "Print f vector \n",
      "i= 0\n",
      "[0.01919833 0.0332165  0.         0.         0.         0.\n",
      " 0.         0.         0.        ]\n",
      "i= 1\n",
      "[0.         0.         0.0203346  0.01645151 0.07113271 0.\n",
      " 0.         0.         0.        ]\n",
      "i= 2\n",
      "[0.         0.         0.         0.         0.         0.0592938\n",
      " 0.05528696 0.         0.        ]\n",
      "i= 3\n",
      "[0.         0.         0.         0.         0.         0.\n",
      " 0.         0.07901634 0.08139461]\n"
     ]
    }
   ],
   "source": [
    "#Construct domains, R,A,B,C and f\n",
    "R= Rmatrices(n,p,nn,index,iprint)\n",
    "A= Amatrices(M,R,n,p,nn,iprint)\n",
    "B= Bmatrices(A,R,n,p,nn,iprint)\n",
    "C= Cmatrices(M,B,n,p,iprint) \n",
    "# D= Dmatrices_multiplicative(C,n,p,iprint)\n",
    "f= fvector(B,y,n,p,iprint)"
   ]
  },
  {
   "cell_type": "markdown",
   "id": "a3fe8765",
   "metadata": {},
   "source": [
    "#### Perform $K$  iterations computing subdomain contributions independently\n",
    "$\n",
    "u^{\\{k+i/p\\}} = u^{\\{k+(i-1)/p\\}} + B_i(f-Au^{\\{k+(i-1)/p\\}}) =D_i u^{\\{k+(i-1)/p\\}} + f_i \\quad i=1,\\dots,p$"
   ]
  },
  {
   "cell_type": "code",
   "execution_count": 25,
   "id": "b4403d97",
   "metadata": {
    "id": "5d2478a0"
   },
   "outputs": [
    {
     "ename": "TypeError",
     "evalue": "'numpy.ndarray' object is not callable",
     "output_type": "error",
     "traceback": [
      "\u001b[1;31m---------------------------------------------------------------------------\u001b[0m",
      "\u001b[1;31mTypeError\u001b[0m                                 Traceback (most recent call last)",
      "\u001b[1;32m<ipython-input-25-371095bc9751>\u001b[0m in \u001b[0;36m<module>\u001b[1;34m\u001b[0m\n\u001b[0;32m      1\u001b[0m \u001b[1;31m#Perform D iteration\u001b[0m\u001b[1;33m\u001b[0m\u001b[1;33m\u001b[0m\u001b[1;33m\u001b[0m\u001b[0m\n\u001b[1;32m----> 2\u001b[1;33m \u001b[0mvstore\u001b[0m\u001b[1;33m=\u001b[0m \u001b[0mCiteration_additive\u001b[0m\u001b[1;33m(\u001b[0m\u001b[0mC\u001b[0m\u001b[1;33m,\u001b[0m\u001b[0mf\u001b[0m\u001b[1;33m,\u001b[0m\u001b[0malpha\u001b[0m\u001b[1;33m,\u001b[0m\u001b[0mn\u001b[0m\u001b[1;33m,\u001b[0m\u001b[0mp\u001b[0m\u001b[1;33m,\u001b[0m\u001b[0mK\u001b[0m\u001b[1;33m,\u001b[0m\u001b[0miprint\u001b[0m\u001b[1;33m)\u001b[0m\u001b[1;33m\u001b[0m\u001b[1;33m\u001b[0m\u001b[0m\n\u001b[0m\u001b[0;32m      3\u001b[0m \u001b[1;32mif\u001b[0m \u001b[0miprint\u001b[0m \u001b[1;33m>=\u001b[0m \u001b[1;36m2\u001b[0m\u001b[1;33m:\u001b[0m\u001b[1;33m\u001b[0m\u001b[1;33m\u001b[0m\u001b[0m\n\u001b[0;32m      4\u001b[0m     \u001b[0mprint\u001b[0m\u001b[1;33m(\u001b[0m\u001b[1;34m'vstore'\u001b[0m\u001b[1;33m)\u001b[0m\u001b[1;33m\u001b[0m\u001b[1;33m\u001b[0m\u001b[0m\n\u001b[0;32m      5\u001b[0m     \u001b[0mprint\u001b[0m\u001b[1;33m(\u001b[0m\u001b[0mvstore\u001b[0m\u001b[1;33m)\u001b[0m\u001b[1;33m\u001b[0m\u001b[1;33m\u001b[0m\u001b[0m\n",
      "\u001b[1;32m<ipython-input-14-bea6884936e8>\u001b[0m in \u001b[0;36mCiteration_additive\u001b[1;34m(C, f, alpha, n, p, K, iprint)\u001b[0m\n\u001b[0;32m     15\u001b[0m         \u001b[1;31m# Calculate and store subdomain contributions (independently)\u001b[0m\u001b[1;33m\u001b[0m\u001b[1;33m\u001b[0m\u001b[1;33m\u001b[0m\u001b[0m\n\u001b[0;32m     16\u001b[0m         \u001b[1;32mfor\u001b[0m \u001b[0mi\u001b[0m \u001b[1;32min\u001b[0m \u001b[0mnp\u001b[0m\u001b[1;33m.\u001b[0m\u001b[0marange\u001b[0m\u001b[1;33m(\u001b[0m\u001b[1;36m1\u001b[0m\u001b[1;33m,\u001b[0m\u001b[0mp\u001b[0m\u001b[1;33m+\u001b[0m\u001b[1;36m1\u001b[0m\u001b[1;33m)\u001b[0m\u001b[1;33m.\u001b[0m\u001b[0mreshape\u001b[0m\u001b[1;33m(\u001b[0m\u001b[1;33m-\u001b[0m\u001b[1;36m1\u001b[0m\u001b[1;33m)\u001b[0m\u001b[1;33m:\u001b[0m\u001b[1;33m\u001b[0m\u001b[1;33m\u001b[0m\u001b[0m\n\u001b[1;32m---> 17\u001b[1;33m             \u001b[0mCC\u001b[0m\u001b[1;33m[\u001b[0m\u001b[0mnp\u001b[0m\u001b[1;33m.\u001b[0m\u001b[0marange\u001b[0m\u001b[1;33m[\u001b[0m\u001b[1;36m1\u001b[0m\u001b[1;33m,\u001b[0m\u001b[0mn\u001b[0m\u001b[1;33m+\u001b[0m\u001b[1;36m1\u001b[0m\u001b[1;33m]\u001b[0m\u001b[1;33m,\u001b[0m\u001b[0mnp\u001b[0m\u001b[1;33m.\u001b[0m\u001b[0marange\u001b[0m\u001b[1;33m[\u001b[0m\u001b[1;36m1\u001b[0m\u001b[1;33m,\u001b[0m\u001b[0mn\u001b[0m\u001b[1;33m+\u001b[0m\u001b[1;36m1\u001b[0m\u001b[1;33m]\u001b[0m\u001b[1;33m]\u001b[0m \u001b[1;33m=\u001b[0m \u001b[0mC\u001b[0m\u001b[1;33m(\u001b[0m\u001b[0mi\u001b[0m\u001b[1;33m,\u001b[0m\u001b[0mnp\u001b[0m\u001b[1;33m.\u001b[0m\u001b[0marange\u001b[0m\u001b[1;33m(\u001b[0m\u001b[1;36m1\u001b[0m\u001b[1;33m,\u001b[0m\u001b[0mn\u001b[0m\u001b[1;33m+\u001b[0m\u001b[1;36m1\u001b[0m\u001b[1;33m)\u001b[0m\u001b[1;33m,\u001b[0m\u001b[0mnp\u001b[0m\u001b[1;33m.\u001b[0m\u001b[0marange\u001b[0m\u001b[1;33m(\u001b[0m\u001b[1;36m1\u001b[0m\u001b[1;33m,\u001b[0m\u001b[0mn\u001b[0m\u001b[1;33m+\u001b[0m\u001b[1;36m1\u001b[0m\u001b[1;33m)\u001b[0m\u001b[1;33m)\u001b[0m\u001b[1;33m\u001b[0m\u001b[1;33m\u001b[0m\u001b[0m\n\u001b[0m\u001b[0;32m     18\u001b[0m             \u001b[0mff\u001b[0m\u001b[1;33m[\u001b[0m\u001b[0mnp\u001b[0m\u001b[1;33m.\u001b[0m\u001b[0marange\u001b[0m\u001b[1;33m[\u001b[0m\u001b[1;36m1\u001b[0m\u001b[1;33m,\u001b[0m\u001b[0mn\u001b[0m\u001b[1;33m+\u001b[0m\u001b[1;36m1\u001b[0m\u001b[1;33m]\u001b[0m\u001b[1;33m,\u001b[0m\u001b[1;36m1\u001b[0m\u001b[1;33m]\u001b[0m \u001b[1;33m=\u001b[0m \u001b[0mf\u001b[0m\u001b[1;33m(\u001b[0m\u001b[0mi\u001b[0m\u001b[1;33m,\u001b[0m\u001b[0mnp\u001b[0m\u001b[1;33m.\u001b[0m\u001b[0marange\u001b[0m\u001b[1;33m(\u001b[0m\u001b[1;36m1\u001b[0m\u001b[1;33m,\u001b[0m\u001b[0mn\u001b[0m\u001b[1;33m+\u001b[0m\u001b[1;36m1\u001b[0m\u001b[1;33m)\u001b[0m\u001b[1;33m)\u001b[0m\u001b[1;33m\u001b[0m\u001b[1;33m\u001b[0m\u001b[0m\n\u001b[0;32m     19\u001b[0m             \u001b[0mdv\u001b[0m\u001b[1;33m[\u001b[0m\u001b[0mnp\u001b[0m\u001b[1;33m.\u001b[0m\u001b[0marange\u001b[0m\u001b[1;33m[\u001b[0m\u001b[1;36m1\u001b[0m\u001b[1;33m,\u001b[0m\u001b[0mn\u001b[0m\u001b[1;33m+\u001b[0m\u001b[1;36m1\u001b[0m\u001b[1;33m]\u001b[0m\u001b[1;33m,\u001b[0m\u001b[0mi\u001b[0m\u001b[1;33m]\u001b[0m \u001b[1;33m=\u001b[0m \u001b[0mff\u001b[0m \u001b[1;33m-\u001b[0m \u001b[0mCC\u001b[0m \u001b[1;33m*\u001b[0m \u001b[0mv\u001b[0m\u001b[1;33m(\u001b[0m\u001b[0mnp\u001b[0m\u001b[1;33m.\u001b[0m\u001b[0marange\u001b[0m\u001b[1;33m(\u001b[0m\u001b[1;36m1\u001b[0m\u001b[1;33m,\u001b[0m\u001b[0mn\u001b[0m\u001b[1;33m+\u001b[0m\u001b[1;36m1\u001b[0m\u001b[1;33m)\u001b[0m\u001b[1;33m,\u001b[0m\u001b[1;36m1\u001b[0m\u001b[1;33m)\u001b[0m\u001b[1;33m\u001b[0m\u001b[1;33m\u001b[0m\u001b[0m\n",
      "\u001b[1;31mTypeError\u001b[0m: 'numpy.ndarray' object is not callable"
     ]
    }
   ],
   "source": [
    "#Perform D iteration\n",
    "vstore= Citeration_additive(C,f,alpha,n,p,K,iprint)\n",
    "if iprint >= 2:\n",
    "    print('vstore')\n",
    "    print(vstore)\n"
   ]
  },
  {
   "cell_type": "markdown",
   "id": "f9c54706",
   "metadata": {},
   "source": [
    "#### Perform $K$ iterations using iteration matrices $S$ and $T$,  and  which compute the solution in all $p$ domains simultanously\n",
    "Let $p=5$ and construct S and T, g and v such that\n",
    "\n",
    "$S = \\pmatrix{\n",
    " I   &  0   &   0   &  0   &   0   \\cr\n",
    "-D_2 &  I   &   0   &  0   &   0   \\cr\n",
    " 0   & -D_3 &   I   &  0   &   0   \\cr\n",
    " 0   &   0  &  -D_4 &  I   &   0   \\cr\n",
    " 0   &   0  &   0   & -D_5 &   I\n",
    "} \\in \\mathbb{R}^{np \\times np}$,\n",
    "$T =\n",
    "\\pmatrix{\n",
    " 0 & 0 & 0 & 0 & -D_1  \\cr\n",
    " 0 & 0 & 0 & 0 &  0    \\cr\n",
    " 0 & 0 & 0 & 0 &  0    \\cr\n",
    " 0 & 0 & 0 & 0 &  0    \\cr\n",
    " 0 & 0 & 0 & 0 &  0\n",
    "} \\in \\mathbb{R}^{np \\times np}$, \n",
    "$g =\n",
    "\\pmatrix{\n",
    "f_1  \\cr\n",
    "f_2  \\cr\n",
    "f_3  \\cr\n",
    "f_4  \\cr\n",
    "f_5\n",
    "}\n",
    "\\in \\mathbb{R}^{np}$,\n",
    "$v^{\\{k\\}} =\n",
    "\\pmatrix{\n",
    "u^{\\{(k-1)+1/5\\}}  \\cr\n",
    "u^{\\{(k-1)+2/5\\}}  \\cr\n",
    "u^{\\{(k-1)+3/5\\}}  \\cr\n",
    "u^{\\{(k-1)+4/5\\}}  \\cr\n",
    "u^{\\{k\\}}\n",
    "}\n",
    "\\in \\mathbb{R}^{np}$,"
   ]
  },
  {
   "cell_type": "code",
   "execution_count": null,
   "id": "ebf6414f",
   "metadata": {
    "id": "5d2478a0",
    "scrolled": false
   },
   "outputs": [],
   "source": [
    "# Perform D iteration\n",
    "# -------------------\n",
    "\n",
    "# print('Construct D and g and solve \\n')\n",
    "D= Dmatrix_additive(C,alpha,n,p,iprint)\n",
    "g= gvector_additive(f,alpha,n,p,iprint)\n",
    "\n",
    "# print('Perform D iteration \\n')\n",
    "[wstore]= Diteration_additive(D,g,n,p,K,iprint)\n",
    "if iprint >= 2:\n",
    "    print('wstore')\n",
    "    disp(wstore)"
   ]
  },
  {
   "cell_type": "code",
   "execution_count": null,
   "id": "2fde3d33",
   "metadata": {},
   "outputs": [],
   "source": [
    "# #### Perform $K$ iterations as single matrix solve\n",
    "\n",
    "# $K=6$ iterations of multiplicative Schwarz can be written as the $npK$-dimensional system of equations $Uz=h$, where\n",
    "\n",
    "# $U=\n",
    "# \\pmatrix{\n",
    "#  S & 0 & 0 & 0 & 0 & 0   \\cr\n",
    "#  T & S & 0 & 0 & 0 & 0   \\cr\n",
    "#  0 & T & S & 0 & 0 & 0   \\cr\n",
    "#  0 & 0 & T & S & 0 & 0   \\cr\n",
    "#  0 & 0 & 0 & T & S & 0   \\cr\n",
    "#  0 & 0 & 0 & 0 & T & S\n",
    "# }\n",
    "# $\n",
    "# ,\n",
    "# $z=\n",
    "# \\pmatrix{\n",
    "# v^{\\{1\\}}  \\cr\n",
    "# v^{\\{2\\}}  \\cr\n",
    "# v^{\\{3\\}}  \\cr\n",
    "# v^{\\{4\\}}  \\cr\n",
    "# v^{\\{5\\}}  \\cr\n",
    "# v^{\\{6\\}}\n",
    "# }\n",
    "# $\n",
    "# ,\n",
    "# $\n",
    "# h=\n",
    "# \\pmatrix{\n",
    "# g  \\cr\n",
    "# g  \\cr\n",
    "# g  \\cr\n",
    "# g  \\cr\n",
    "# g  \\cr\n",
    "# g\n",
    "# }\n",
    "# $\n",
    "# ."
   ]
  },
  {
   "cell_type": "code",
   "execution_count": null,
   "id": "eb6c1223",
   "metadata": {
    "id": "5d2478a0"
   },
   "outputs": [],
   "source": [
    "# Construct U and h\n",
    "U= Umatrix_additive(D,n,K,iprint)\n",
    "h= hvector_additive(g,n,K,iprint)\n",
    "\n",
    "# Solve using Uz= h\n",
    "zstore= Uhsolve_additive(U,h,n,p,K,iprint);\n",
    "if iprint >= 2:\n",
    "    print('zstore')\n",
    "    print(zstore)"
   ]
  },
  {
   "cell_type": "markdown",
   "id": "1aa8b066",
   "metadata": {},
   "source": [
    "#### Compare Solutions from all three methods"
   ]
  },
  {
   "cell_type": "code",
   "execution_count": null,
   "id": "ad3e2be2",
   "metadata": {
    "id": "5d2478a0",
    "scrolled": true
   },
   "outputs": [],
   "source": [
    "solution_compare(xstore,vstore[(K)*n:n*K],vstore,wstore,zstore,iprint)"
   ]
  },
  {
   "cell_type": "markdown",
   "id": "83d9d8ca",
   "metadata": {},
   "source": [
    "### Add discretization error and compute error estimates"
   ]
  },
  {
   "cell_type": "markdown",
   "id": "5e0a8640",
   "metadata": {},
   "source": [
    "#### $K$  iterations computing subdomain contributions independently"
   ]
  },
  {
   "cell_type": "markdown",
   "id": "785e6ee5",
   "metadata": {},
   "source": [
    "#### Calculate the approximate solution by adding random error to the solution from each subdomain solve"
   ]
  },
  {
   "cell_type": "code",
   "execution_count": null,
   "id": "561904df",
   "metadata": {},
   "outputs": [],
   "source": [
    "# print('\\nPerforming C iteration with error \\n')\n",
    "if swrite == 1:\n",
    "    svpert= randn(nK,1)\n",
    "    writematrix(svpert,'svpert_add.csv','WriteMode','overwrite')\n",
    "\n",
    "[vglobal_store,vaglobal_store,rglobal_store]= Citeration_additive_approx(C,f,alpha,n,p,K,sread,swrite,iprint)\n",
    "\n",
    "if iprint >= 4:\n",
    "    print('vglobal_store')\n",
    "    disp(vglobal_store)\n",
    "    print('vaglobal_store')\n",
    "    disp(vaglobal_store)\n",
    "    print('rglobal_store')\n",
    "    disp(rglobal_store)    "
   ]
  },
  {
   "cell_type": "code",
   "execution_count": null,
   "id": "a0a3feb4",
   "metadata": {
    "id": "5d2478a0",
    "scrolled": true
   },
   "outputs": [],
   "source": [
    "# Set adjoint RHS\n",
    "psi= np.ones((n,1))\n",
    "\n",
    "# Perform D iteration with error: add random error to each subdomain solve\n",
    "v_store,va_store,r_store= Diteration_approx(D,f,n,p,K,iprint,sread,swrite,iparam)\n",
    "if iprint >= 6:\n",
    "    print(v_store)\n",
    "    print(va_store)\n",
    "    print(rstore)"
   ]
  },
  {
   "cell_type": "markdown",
   "id": "fc78f0c9",
   "metadata": {},
   "source": [
    "#### Calculate the discretization error"
   ]
  },
  {
   "cell_type": "code",
   "execution_count": null,
   "id": "47a677b6",
   "metadata": {
    "id": "5d2478a0"
   },
   "outputs": [],
   "source": [
    "# Perform adjoint solve \n",
    "phi_store= Diteration_adjoint(D,psi,n,p,K,iprint)\n",
    "\n",
    "# Compute error estimate as (r,phi)\n",
    "qoi_discretization_error_estimate= r_store.T @ phi_store\n",
    "\n",
    "# Compute error and error in QoI directly\n",
    "vesoln=  v_store[n*p*K+n*(p-1):n*p*(K+1),0:1]\n",
    "vsoln=  va_store[n*p*K+n*(p-1):n*p*(K+1),0:1]\n",
    "verror= vesoln-vsoln\n",
    "\n",
    "qoi_discretization_error= psi.T @ verror"
   ]
  },
  {
   "cell_type": "markdown",
   "id": "a95fec4e",
   "metadata": {},
   "source": [
    "#### Calculate the effectivity ratio"
   ]
  },
  {
   "cell_type": "code",
   "execution_count": null,
   "id": "42641a3b",
   "metadata": {
    "id": "5d2478a0"
   },
   "outputs": [],
   "source": [
    "effectivity_ratio_disc = qoi_discretization_error_estimate/qoi_discretization_error\n",
    "print(f'QoI_discretization_error          = {qoi_discretization_error[0,0]:13.6e}')\n",
    "print(f'QoI_discretization_error_estimate = {qoi_discretization_error_estimate[0,0]:13.6e}')\n",
    "print(f'Effectivity ratio                 = {effectivity_ratio_disc[0,0]:13.3f}')"
   ]
  },
  {
   "cell_type": "markdown",
   "id": "2435839e",
   "metadata": {},
   "source": [
    "#### Calculate the total error"
   ]
  },
  {
   "cell_type": "code",
   "execution_count": null,
   "id": "1d54dcfb",
   "metadata": {
    "id": "5d2478a0"
   },
   "outputs": [],
   "source": [
    "total_error= xstore-vsoln\n",
    "qoi_total_error= psi.T@total_error\n",
    "\n",
    "phi= np.linalg.solve(M.T,psi)\n",
    "r= y-M@vsoln\n",
    "qoi_total_error_estimate= r.T@phi"
   ]
  },
  {
   "cell_type": "markdown",
   "id": "0f847e06",
   "metadata": {},
   "source": [
    "#### Calculate the effectivity ratio"
   ]
  },
  {
   "cell_type": "code",
   "execution_count": null,
   "id": "d562345d",
   "metadata": {
    "scrolled": true
   },
   "outputs": [],
   "source": [
    "effectivity_ratio_total= qoi_total_error_estimate/qoi_total_error\n",
    "print(f'QoI_total_error                   = {qoi_total_error[0,0]:13.6e}')\n",
    "print(f'QoI_total_error_estimate          = {qoi_total_error_estimate[0,0]:13.6e}')\n",
    "print(f'Effectivity ratio                 = {effectivity_ratio_total[0,0]:13.3f}')"
   ]
  },
  {
   "cell_type": "markdown",
   "id": "b2773590",
   "metadata": {},
   "source": [
    "#### Calculate the iteration error"
   ]
  },
  {
   "cell_type": "code",
   "execution_count": null,
   "id": "ed9b3b39",
   "metadata": {
    "id": "5d2478a0"
   },
   "outputs": [],
   "source": [
    "qoi_iteration_error= qoi_total_error-qoi_discretization_error\n",
    "print(f'QoI_iteration_error               = {qoi_iteration_error[0,0]:13.6e}')"
   ]
  },
  {
   "cell_type": "markdown",
   "id": "40801950",
   "metadata": {},
   "source": [
    "#### $K$ iterations as single matrix solve"
   ]
  },
  {
   "cell_type": "code",
   "execution_count": null,
   "id": "00a87eed",
   "metadata": {
    "id": "5d2478a0"
   },
   "outputs": [],
   "source": [
    "# Perform U iteration with error: add random error to linear system solution\n",
    "zexact,zapprox,zresid= Uhsolve_multiplicative_approx(U,h,n,p,K,iprint,sread)\n",
    "\n",
    "# Adjoint data (Adjoint system is of size npK)\n",
    "psi_npK= np.zeros((n*p*K,1))\n",
    "psi_npK[n*p*K-n:n*p*K,0]= psi.reshape(n)\n",
    "\n",
    "#  Solve adjoint equation\n",
    "phi_npK= np.linalg.solve(U.T,psi_npK)\n",
    "if iprint >= 2:\n",
    "    print(f'Norm of difference between phi_npK and phi_store = {np.linalg.norm(phi_npK-phi_store):13.6e}')\n",
    "\n",
    "# Compute error estimate\n",
    "qoi_discretization_error_estimate= phi_npK.T @ zresid\n",
    "\n",
    "# Compute error and error in QoI directly\n",
    "xsoln= zexact[n*p*K-n:n*p*K,0:1]\n",
    "zsoln= zapprox[n*p*K-n:n*p*K,0:1]\n",
    "zerror= xsoln-zsoln\n",
    "qoi_discretization_error= psi.T @zerror"
   ]
  },
  {
   "cell_type": "markdown",
   "id": "854e5888",
   "metadata": {},
   "source": [
    "#### Calculate the effectivity ratio"
   ]
  },
  {
   "cell_type": "code",
   "execution_count": null,
   "id": "ebabd28d",
   "metadata": {
    "id": "5d2478a0"
   },
   "outputs": [],
   "source": [
    "effectivity_ratio_disc= qoi_discretization_error_estimate/qoi_discretization_error\n",
    "print(f'QoI_discretization_error          = {qoi_discretization_error[0,0]:13.6e}' )\n",
    "print(f'QoI_discretization_error_estimate = {qoi_discretization_error_estimate[0,0]:13.6e}')\n",
    "print(f'Effectivity ratio                 = {effectivity_ratio_disc[0,0]:13.3f}')"
   ]
  },
  {
   "cell_type": "markdown",
   "id": "11bd9b28",
   "metadata": {},
   "source": [
    "#### Calculate the total error"
   ]
  },
  {
   "cell_type": "code",
   "execution_count": null,
   "id": "d2c3793d",
   "metadata": {
    "id": "5d2478a0"
   },
   "outputs": [],
   "source": [
    "total_error= xstore-zsoln\n",
    "qoi_total_error= psi.T @ total_error\n",
    "\n",
    "r= y-M @ zsoln\n",
    "qoi_total_error_estimate= r.T@ phi"
   ]
  },
  {
   "cell_type": "markdown",
   "id": "d90a3e23",
   "metadata": {},
   "source": [
    "#### Calculate the effectivity ratio"
   ]
  },
  {
   "cell_type": "code",
   "execution_count": null,
   "id": "f5034f19",
   "metadata": {
    "id": "5d2478a0"
   },
   "outputs": [],
   "source": [
    "effectivity_ratio_total= qoi_total_error_estimate/qoi_total_error\n",
    "print(f'QoI_total_error                   = {qoi_total_error[0,0]:13.6e}')\n",
    "print(f'QoI_total_error_estimate          = {qoi_total_error_estimate[0,0]:13.6e}')\n",
    "print(f'Effectivity ratio                 = {effectivity_ratio_total[0,0]:13.3f}')"
   ]
  },
  {
   "cell_type": "markdown",
   "id": "b32c256b",
   "metadata": {
    "id": "5d2478a0"
   },
   "source": [
    "#### Calculate iteration error"
   ]
  },
  {
   "cell_type": "code",
   "execution_count": null,
   "id": "483210e7",
   "metadata": {
    "id": "5d2478a0"
   },
   "outputs": [],
   "source": [
    "qoi_iteration_error= qoi_total_error-qoi_discretization_error\n",
    "print(f'QoI_iteration_error               = {qoi_iteration_error[0,0]:13.6e}')"
   ]
  }
 ],
 "metadata": {
  "colab": {
   "collapsed_sections": [
    "Pm69IKhJhkAi",
    "P8_qLIJNb6cv",
    "6ljxw4sXnjLo",
    "W6kJj2bf-Swy",
    "f8Apbo74_sx_",
    "jxzyQwB-cDTl",
    "p384sqSucH9m",
    "5maDvWnGbq_U",
    "R_asHpZcob70",
    "mJm01yDDcTHi",
    "m6vPGA3pMpMv",
    "dhcWJFRooNQw"
   ],
   "name": "Multiplicative Schwarz.ipynb",
   "provenance": []
  },
  "kernelspec": {
   "display_name": "Python 3",
   "language": "python",
   "name": "python3"
  },
  "language_info": {
   "codemirror_mode": {
    "name": "ipython",
    "version": 3
   },
   "file_extension": ".py",
   "mimetype": "text/x-python",
   "name": "python",
   "nbconvert_exporter": "python",
   "pygments_lexer": "ipython3",
   "version": "3.8.8"
  }
 },
 "nbformat": 4,
 "nbformat_minor": 5
}
