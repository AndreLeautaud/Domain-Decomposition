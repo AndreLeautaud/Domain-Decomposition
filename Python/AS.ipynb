{
 "cells": [
  {
   "cell_type": "markdown",
   "id": "9JxW5FUSiPQi",
   "metadata": {
    "id": "9JxW5FUSiPQi"
   },
   "source": [
    "# <span style=\"color:darkred\">Additive Schwarz  using multiple strategies</span>."
   ]
  },
  {
   "cell_type": "markdown",
   "id": "82a2f340",
   "metadata": {},
   "source": [
    "<img align=\"left\" src=\"Schwarz.jpg\" width=120 height=120 />"
   ]
  },
  {
   "cell_type": "markdown",
   "id": "10452e1e",
   "metadata": {},
   "source": [
    "### [Simon Tavener](https://www.math.colostate.edu/~tavener/) and Andre Leautaud"
   ]
  },
  {
   "cell_type": "markdown",
   "id": "37c3d377",
   "metadata": {},
   "source": [
    "#### Full text for this notebook can be found at the following [link](https://www.math.colostate.edu/~tavener/andre/DD_multiphysics.pdf)"
   ]
  },
  {
   "cell_type": "markdown",
   "id": "341614be",
   "metadata": {},
   "source": [
    "This notebook illustrates three ways of solving a system using Additive Schwarz. It first creates partitions and necessary matrices, then steps through the forms of iteration. It demonstrates C Iteration (each subdomain independently), D Iteration (subdomains calculated in parallel) and  U Iteration (computes all iterations as one matrix solve). In each, we keep track of total error, iteration error, and discretization error (true and estimates). If the estimates are good, and the system was solved, the effectivty ratio will be 1. It can read all parameters and the linear system from a csv. It can also create a csv. This csv is compatible with Multiplicative Schwarz and the MatLab Live files."
   ]
  },
  {
   "cell_type": "markdown",
   "id": "7a6624a4",
   "metadata": {},
   "source": [
    "#### Set path and parameters"
   ]
  },
  {
   "cell_type": "code",
   "execution_count": 380,
   "id": "c02b328d",
   "metadata": {
    "id": "5d2478a0"
   },
   "outputs": [],
   "source": [
    "# load necessary packages\n",
    "import numpy as np\n",
    "import math\n",
    "%run DD_Utilities.ipynb\n",
    "%run AS_Utilities.ipynb\n",
    "iprint= 4 # amount of output desired, 0, 2, 4, or 6"
   ]
  },
  {
   "cell_type": "code",
   "execution_count": 381,
   "id": "faa67a46",
   "metadata": {},
   "outputs": [],
   "source": [
    "iparam= -2"
   ]
  },
  {
   "cell_type": "code",
   "execution_count": 382,
   "id": "96c12cb1",
   "metadata": {},
   "outputs": [],
   "source": [
    "if iparam == -2:\n",
    "    n= 12\n",
    "    p= 4 \n",
    "    b= [1,2,5,9]\n",
    "    e= [3,7,10,12] #List of ends (inclusive) or integer representing overlap\n",
    "    K= 3\n",
    "    alpha= 0.5\n",
    "    mpert= 0.001\n",
    "    if K > 500:\n",
    "        raise ValueError(\"K is too large\")"
   ]
  },
  {
   "cell_type": "code",
   "execution_count": 383,
   "id": "951c646c",
   "metadata": {
    "id": "5d2478a0"
   },
   "outputs": [],
   "source": [
    "if iparam == 0:\n",
    "    n= 10  # size of system\n",
    "    p= 4   # number of subomains\n",
    "    b= [1,2,4,7]  # indices of starts of subdomains (1 indexed), should be in ascending order.\n",
    "    e= [3,4,8,10] # indices of ends of subdomains (1 indexed), need not be in ascending order. \n",
    "                  # Setting to an integer will make each subdomain overlap the next by that number.\n",
    "\n",
    "    K= 3   # number of iterations\n",
    "    alpha= 0.5 # alpha is only used in multiplicative schwarz. Including it here makes the file i/o compatible.\n",
    "    mpert= 0.02\n",
    "    if K > 500:\n",
    "        raise ValueError(\"K is too large\")"
   ]
  },
  {
   "cell_type": "code",
   "execution_count": 384,
   "id": "e4e16466",
   "metadata": {
    "id": "5d2478a0"
   },
   "outputs": [],
   "source": [
    "# This example shows how to create domains that each overlap by 1 column\n",
    "#small system\n",
    "if iparam == 1:\n",
    "    n= 8\n",
    "    p= 3 \n",
    "    b= [1,3,5]\n",
    "    e= 1 # causes each subdomain to overlap the previous by 1\n",
    "    K= 3\n",
    "    alpha= 0.5\n",
    "    mpert= 0.02\n",
    "    if K > 500:\n",
    "        raise ValueError(\"K is too large\")"
   ]
  },
  {
   "cell_type": "code",
   "execution_count": 385,
   "id": "f150c634",
   "metadata": {
    "id": "5d2478a0"
   },
   "outputs": [],
   "source": [
    "# some subdomains embedded in others\n",
    "if iparam == 2:\n",
    "    n= 10\n",
    "    p= 5\n",
    "    b= [1,1,5,5,7]\n",
    "    e= [2,4,6,8,10] \n",
    "    K= 6\n",
    "    alpha= 0.5\n",
    "    mpert= 0.02\n",
    "    if K > 500:\n",
    "        raise ValueError(\"K is too large\")"
   ]
  },
  {
   "cell_type": "code",
   "execution_count": 386,
   "id": "a50de85e",
   "metadata": {
    "id": "5d2478a0"
   },
   "outputs": [],
   "source": [
    "# overlap does not connect all subdomains\n",
    "if iparam == 3:\n",
    "    n= 9\n",
    "    p= 4 \n",
    "    b= [1,3,6,8]\n",
    "    e= [2,5,7,9]\n",
    "    K= 3\n",
    "    alpha= 0.5\n",
    "    mpert= 0.02\n",
    "    if K > 500:\n",
    "        raise ValueError(\"K is too large\")"
   ]
  },
  {
   "cell_type": "code",
   "execution_count": 387,
   "id": "f916adb1",
   "metadata": {},
   "outputs": [],
   "source": [
    "if iparam == 4:\n",
    "    n= 12\n",
    "    p= 4 \n",
    "    b= [1,2,5,9]\n",
    "    e= [3,7,10,12]\n",
    "    K= 3\n",
    "    alpha= 0.5\n",
    "    mpert= 0.02\n",
    "    if K > 500:\n",
    "        raise ValueError(\"K is too large\")"
   ]
  },
  {
   "cell_type": "code",
   "execution_count": 388,
   "id": "8f6978fe",
   "metadata": {
    "id": "5d2478a0"
   },
   "outputs": [
    {
     "name": "stdout",
     "output_type": "stream",
     "text": [
      "4 [1, 2, 5, 9] [3, 7, 10, 12]\n"
     ]
    }
   ],
   "source": [
    "print(p,b,e)\n",
    "nn,nb,ne,index= fix_domains(n,p,b,e,iprint)"
   ]
  },
  {
   "cell_type": "markdown",
   "id": "ca6d11cd",
   "metadata": {},
   "source": [
    "### Establish and solve forward system, $Mx=y$\n",
    "\n",
    "### Establish subdomains, partitions, number of iterations and random numerical error.  Read and/or save as appropriate"
   ]
  },
  {
   "cell_type": "code",
   "execution_count": 389,
   "id": "b3c84d28",
   "metadata": {
    "id": "5d2478a0"
   },
   "outputs": [
    {
     "name": "stdout",
     "output_type": "stream",
     "text": [
      "[[1.24170220e+01 7.20324493e-01 1.14374817e-04 3.02332573e-01\n",
      "  1.46755891e-01 9.23385948e-02 1.86260211e-01 3.45560727e-01\n",
      "  3.96767474e-01 5.38816734e-01 4.19194514e-01 6.85219500e-01]\n",
      " [2.04452250e-01 1.28781174e+01 2.73875932e-02 6.70467510e-01\n",
      "  4.17304802e-01 5.58689828e-01 1.40386939e-01 1.98101489e-01\n",
      "  8.00744569e-01 9.68261576e-01 3.13424178e-01 6.92322616e-01]\n",
      " [8.76389152e-01 8.94606664e-01 1.20850442e+01 3.90547832e-02\n",
      "  1.69830420e-01 8.78142503e-01 9.83468338e-02 4.21107625e-01\n",
      "  9.57889530e-01 5.33165285e-01 6.91877114e-01 3.15515631e-01]\n",
      " [6.86500928e-01 8.34625672e-01 1.82882773e-02 1.27501443e+01\n",
      "  9.88861089e-01 7.48165654e-01 2.80443992e-01 7.89279328e-01\n",
      "  1.03226007e-01 4.47893526e-01 9.08595503e-01 2.93614148e-01]\n",
      " [2.87775339e-01 1.30028572e-01 1.93669579e-02 6.78835533e-01\n",
      "  1.22116281e+01 2.65546659e-01 4.91573159e-01 5.33625451e-02\n",
      "  5.74117605e-01 1.46728575e-01 5.89305537e-01 6.99758360e-01]\n",
      " [1.02334429e-01 4.14055988e-01 6.94400158e-01 4.14179270e-01\n",
      "  4.99534589e-02 1.25358964e+01 6.63794645e-01 5.14889112e-01\n",
      "  9.44594756e-01 5.86555041e-01 9.03401915e-01 1.37474704e-01]\n",
      " [1.39276347e-01 8.07391289e-01 3.97676837e-01 1.65354197e-01\n",
      "  9.27508580e-01 3.47765860e-01 1.27508121e+01 7.25997985e-01\n",
      "  8.83306091e-01 6.23672207e-01 7.50942434e-01 3.48898342e-01]\n",
      " [2.69927892e-01 8.95886218e-01 4.28091190e-01 9.64840047e-01\n",
      "  6.63441498e-01 6.21695720e-01 1.14745973e-01 1.29494893e+01\n",
      "  4.49912133e-01 5.78389614e-01 4.08136803e-01 2.37026980e-01]\n",
      " [9.03379521e-01 5.73679487e-01 2.87032703e-03 6.17144914e-01\n",
      "  3.26644902e-01 5.27058102e-01 8.85942099e-01 3.57269760e-01\n",
      "  1.29085352e+01 6.23360116e-01 1.58212428e-02 9.29437234e-01]\n",
      " [6.90896918e-01 9.97322850e-01 1.72340508e-01 1.37135750e-01\n",
      "  9.32595463e-01 6.96818161e-01 6.60001727e-02 7.55463053e-01\n",
      "  7.53876188e-01 1.29230245e+01 7.11524759e-01 1.24270962e-01]\n",
      " [1.98801338e-02 2.62109869e-02 2.83064880e-02 2.46211068e-01\n",
      "  8.60027949e-01 5.38831064e-01 5.52821979e-01 8.42030892e-01\n",
      "  1.24173315e-01 2.79183679e-01 1.25857593e+01 9.69595748e-01]\n",
      " [5.61030219e-01 1.86472894e-02 8.00632673e-01 2.32974274e-01\n",
      "  8.07105196e-01 3.87860644e-01 8.63541855e-01 7.47121643e-01\n",
      "  5.56240234e-01 1.36455226e-01 5.99176895e-02 1.21213435e+01]]\n",
      "y\n",
      "[[0.04455188]\n",
      " [0.10749413]\n",
      " [0.22570934]\n",
      " [0.71298898]\n",
      " [0.55971698]\n",
      " [0.01255598]\n",
      " [0.07197428]\n",
      " [0.96727633]\n",
      " [0.56810046]\n",
      " [0.20329323]\n",
      " [0.25232574]\n",
      " [0.74382585]]\n",
      "x\n",
      "[[-0.00419824]\n",
      " [-0.00164157]\n",
      " [ 0.01175758]\n",
      " [ 0.0474485 ]\n",
      " [ 0.03827986]\n",
      " [-0.00784711]\n",
      " [-0.00625574]\n",
      " [ 0.06670807]\n",
      " [ 0.03597758]\n",
      " [ 0.00616714]\n",
      " [ 0.00812658]\n",
      " [ 0.05214885]]\n"
     ]
    }
   ],
   "source": [
    "# Read and write capability. Usually only use one of sread and swrite, but it is acceptable to set both to True.\n",
    "sread= False   #Read system of equations from iparam[iparam].csv. The solver will now ignore all of the parameters set above.\n",
    "swrite= True    #Write system to csv file\n",
    "file_name= 'table3_AS_effect_of_K'#i'param' + str(iparam) \n",
    "\n",
    "M,x,y,xstore= Linear_system(n,sread,file_name)\n",
    "wpert= Make_wpert(n,p,K,sread,file_name) #Read or create wpert (depending on sread)\n",
    "\n",
    "if iprint >= 4:\n",
    "    print(M)\n",
    "    print('y')\n",
    "    print(y)\n",
    "    print('x')\n",
    "    print(x)\n",
    "\n",
    "if swrite:\n",
    "    save_to_csv(n,p,K,alpha,nb,nn,ne,M,y,mpert,wpert,iparam)"
   ]
  },
  {
   "cell_type": "markdown",
   "id": "d8815b91",
   "metadata": {},
   "source": [
    "### Iterative strategy\n",
    "$u^{\\{k\\}}= u^{\\{k-1\\}} + Br = u^{\\{k-1\\}} + B(f-Au^{\\{k-1\\}})$, $\\quad k=1, \\dots, K,$ where $B$ is an approximation to $A^{-1}$\n",
    "\n",
    "<ins>Additive<ins>\n",
    "$A_i= R_i A R_i^\\top \\in \\mathbb{R}^{m_i \\times m_i} \\\\\n",
    "B_i= R_i^\\top A_i^{-1} R_i  = R_i^\\top ( R_i A R_i^\\top)^{-1} R_i  \\in \\mathbb{R}^{n \\times n} \\\\\n",
    "C_i= B_i A   \\in \\mathbb{R}^{n \\times n} \\\\\n",
    "f_i= B_i f   \\in \\mathbb{R}^{n}\n",
    "$"
   ]
  },
  {
   "cell_type": "code",
   "execution_count": 390,
   "id": "5ed38fc1",
   "metadata": {
    "id": "5d2478a0"
   },
   "outputs": [
    {
     "name": "stdout",
     "output_type": "stream",
     "text": [
      "Print f vector \n",
      "i= 0\n",
      "[0.00310865 0.00825975 0.01783988 0.         0.         0.\n",
      " 0.         0.         0.         0.         0.         0.        ]\n",
      "i= 1\n",
      "[ 0.          0.00427171  0.01773143  0.05238996  0.04285054 -0.00208064\n",
      "  0.00108153  0.          0.          0.          0.          0.        ]\n",
      "i= 2\n",
      "[ 0.          0.          0.          0.          0.04381268 -0.00524394\n",
      " -0.00460419  0.07103158  0.04115988  0.00632209  0.          0.        ]\n",
      "i= 3\n",
      "[0.         0.         0.         0.         0.         0.\n",
      " 0.         0.         0.03913504 0.01206122 0.01482181 0.05936004]\n"
     ]
    }
   ],
   "source": [
    "#Construct domains, R,A,B,C, and f\n",
    "R= Rmatrices(n,p,nn,index,iprint)\n",
    "A= Amatrices(M,R,n,p,nn,iprint)\n",
    "B= Bmatrices(A,R,n,p,nn,iprint)\n",
    "C= Cmatrices(M,B,n,p,iprint) \n",
    "f= fvector(B,y,n,p,iprint)"
   ]
  },
  {
   "cell_type": "markdown",
   "id": "a3fe8765",
   "metadata": {},
   "source": [
    "####  $K$ iterations computing subdomain contributions independently [C iteration]\n",
    "$\n",
    "u^{\\{k\\}}= u^{\\{k-1\\}} + \\alpha \\sum_{i=1}^p B_i(f-Au^{\\{k-1\\}}) = u^{\\{k-1\\}} + \\alpha \\sum_{i=1}^p ( f_i-C_iu^{\\{k-1\\}}) \n",
    "$"
   ]
  },
  {
   "cell_type": "code",
   "execution_count": 391,
   "id": "45356c0e",
   "metadata": {
    "id": "5d2478a0"
   },
   "outputs": [
    {
     "name": "stdout",
     "output_type": "stream",
     "text": [
      "Outer iteration 0\n",
      "[[ 0.00155432  0.00626573  0.01778566  0.02619498  0.04333161 -0.00366229\n",
      "  -0.00176133  0.03551579  0.04014746  0.00919165  0.0074109   0.02968002]]\n",
      "Outer iteration 1\n",
      "[[-0.0002635  -0.00022079  0.01239888  0.03773649  0.03982141 -0.00731294\n",
      "  -0.00544885  0.05161378  0.03711612  0.00589707  0.00860193  0.04133049]]\n",
      "Outer iteration 2\n",
      "[[-0.00167516 -0.0007625   0.01216898  0.04300103  0.03898027 -0.00750185\n",
      "  -0.00575557  0.05947514  0.0365869   0.00622488  0.00884402  0.04708328]]\n"
     ]
    }
   ],
   "source": [
    "#Perform C iteration\n",
    "vstore= Citeration_additive(C,f,alpha,n,p,K,iprint)"
   ]
  },
  {
   "cell_type": "code",
   "execution_count": 392,
   "id": "b4403d97",
   "metadata": {
    "id": "5d2478a0"
   },
   "outputs": [
    {
     "name": "stdout",
     "output_type": "stream",
     "text": [
      "vstore\n",
      "[[ 0.00155432]\n",
      " [ 0.00626573]\n",
      " [ 0.01778566]\n",
      " [ 0.02619498]\n",
      " [ 0.04333161]\n",
      " [-0.00366229]\n",
      " [-0.00176133]\n",
      " [ 0.03551579]\n",
      " [ 0.04014746]\n",
      " [ 0.00919165]\n",
      " [ 0.0074109 ]\n",
      " [ 0.02968002]\n",
      " [-0.0002635 ]\n",
      " [-0.00022079]\n",
      " [ 0.01239888]\n",
      " [ 0.03773649]\n",
      " [ 0.03982141]\n",
      " [-0.00731294]\n",
      " [-0.00544885]\n",
      " [ 0.05161378]\n",
      " [ 0.03711612]\n",
      " [ 0.00589707]\n",
      " [ 0.00860193]\n",
      " [ 0.04133049]\n",
      " [-0.00167516]\n",
      " [-0.0007625 ]\n",
      " [ 0.01216898]\n",
      " [ 0.04300103]\n",
      " [ 0.03898027]\n",
      " [-0.00750185]\n",
      " [-0.00575557]\n",
      " [ 0.05947514]\n",
      " [ 0.0365869 ]\n",
      " [ 0.00622488]\n",
      " [ 0.00884402]\n",
      " [ 0.04708328]]\n"
     ]
    }
   ],
   "source": [
    "if iprint >= 4:\n",
    "    print('vstore')\n",
    "    print(vstore)"
   ]
  },
  {
   "cell_type": "markdown",
   "id": "f9c54706",
   "metadata": {},
   "source": [
    "####  $K$ iterations combining $p$  (parallel) subdomain solves [D iteration]\n",
    "\n",
    "<ins>Additive Schwarz<ins>\n",
    "    \n",
    "$u^{\\{k\\}}= D u^{\\{k-1\\}} + g, \\qquad \n",
    "D = I-\\alpha \\sum_{i=1}^p C_i, \\quad g= \\alpha \\sum_{i=1}^p f_i$\n"
   ]
  },
  {
   "cell_type": "code",
   "execution_count": 393,
   "id": "702d631b",
   "metadata": {
    "id": "5d2478a0"
   },
   "outputs": [
    {
     "name": "stdout",
     "output_type": "stream",
     "text": [
      "dmatrix_additive:  matrix\n",
      "[[ 5.00e-01  0.00e+00  0.00e+00 -1.07e-02 -5.00e-03 -2.50e-03 -7.20e-03\n",
      "  -1.35e-02 -1.42e-02 -1.95e-02 -1.62e-02 -2.61e-02]\n",
      " [-6.10e-03  0.00e+00  0.00e+00 -2.59e-02 -1.61e-02 -2.16e-02 -5.30e-03\n",
      "  -1.26e-02 -5.95e-02 -7.29e-02 -2.00e-02 -5.18e-02]\n",
      " [-3.55e-02 -0.00e+00  0.00e+00  1.10e-03 -5.50e-03 -3.46e-02 -3.20e-03\n",
      "  -3.14e-02 -7.09e-02 -3.56e-02 -5.17e-02 -1.97e-02]\n",
      " [-2.56e-02 -0.00e+00 -0.00e+00  5.00e-01  0.00e+00 -0.00e+00 -0.00e+00\n",
      "  -2.91e-02  2.10e-03 -1.33e-02 -3.10e-02 -7.30e-03]\n",
      " [-2.00e-02 -2.70e-03  3.00e-04 -2.63e-02 -0.00e+00  0.00e+00 -0.00e+00\n",
      "   1.00e-03 -2.14e-02 -3.60e-03 -4.28e-02 -5.41e-02]\n",
      " [-9.00e-04 -1.09e-02 -2.63e-02 -1.33e-02 -0.00e+00  0.00e+00 -0.00e+00\n",
      "  -1.71e-02 -3.32e-02 -1.97e-02 -6.53e-02 -5.20e-03]\n",
      " [-3.70e-03 -2.65e-02 -1.40e-02 -8.00e-04  0.00e+00 -0.00e+00  0.00e+00\n",
      "  -2.69e-02 -2.93e-02 -2.07e-02 -5.08e-02 -1.85e-02]\n",
      " [-7.70e-03 -3.15e-02 -1.50e-02 -3.45e-02  0.00e+00 -0.00e+00 -0.00e+00\n",
      "   5.00e-01  0.00e+00 -0.00e+00 -1.19e-02 -6.40e-03]\n",
      " [-6.56e-02 -3.78e-02  5.10e-03 -4.48e-02 -8.70e-03 -1.81e-02 -3.19e-02\n",
      "  -1.04e-02  0.00e+00 -0.00e+00  4.50e-03 -3.44e-02]\n",
      " [-4.84e-02 -7.22e-02 -1.11e-02 -2.80e-03 -3.36e-02 -2.47e-02  7.00e-04\n",
      "  -2.67e-02 -0.00e+00  0.00e+00 -2.36e-02 -4.00e-04]\n",
      " [ 1.70e-03 -1.00e-04  1.50e-03 -8.80e-03 -3.08e-02 -1.95e-02 -1.90e-02\n",
      "  -3.05e-02  0.00e+00  0.00e+00  5.00e-01  0.00e+00]\n",
      " [-2.14e-02  6.00e-04 -3.31e-02 -8.50e-03 -3.24e-02 -1.48e-02 -3.41e-02\n",
      "  -2.99e-02 -0.00e+00  0.00e+00 -0.00e+00  5.00e-01]]\n"
     ]
    }
   ],
   "source": [
    "# Perform D iteration\n",
    "#Construct D and g and solve\n",
    "D= Dmatrix_additive(C,alpha,n,p,iprint)"
   ]
  },
  {
   "cell_type": "code",
   "execution_count": 394,
   "id": "6e39ace6",
   "metadata": {
    "id": "5d2478a0"
   },
   "outputs": [
    {
     "name": "stdout",
     "output_type": "stream",
     "text": [
      "Print g vector\n",
      "[[ 0.00155432]\n",
      " [ 0.00626573]\n",
      " [ 0.01778566]\n",
      " [ 0.02619498]\n",
      " [ 0.04333161]\n",
      " [-0.00366229]\n",
      " [-0.00176133]\n",
      " [ 0.03551579]\n",
      " [ 0.04014746]\n",
      " [ 0.00919165]\n",
      " [ 0.0074109 ]\n",
      " [ 0.02968002]]\n"
     ]
    }
   ],
   "source": [
    "g= gvector_additive(f,alpha,n,p,iprint)"
   ]
  },
  {
   "cell_type": "code",
   "execution_count": 395,
   "id": "92b06260",
   "metadata": {
    "id": "5d2478a0"
   },
   "outputs": [
    {
     "name": "stdout",
     "output_type": "stream",
     "text": [
      "Diteration_additive: w at iteration  0\n",
      "[[ 0.26245446]\n",
      " [-0.10621657]\n",
      " [-0.10916646]\n",
      " [ 0.38861181]\n",
      " [-0.06299547]\n",
      " [-0.10342547]\n",
      " [-0.09042532]\n",
      " [ 0.06811668]\n",
      " [-0.09965691]\n",
      " [-0.09760452]\n",
      " [ 0.44768618]\n",
      " [ 0.14797892]]\n",
      "Diteration_additive: w at iteration  1\n",
      "[[ 0.12115002]\n",
      " [-0.00611142]\n",
      " [-0.00455306]\n",
      " [ 0.19792186]\n",
      " [ 0.00348138]\n",
      " [-0.03099587]\n",
      " [-0.0210558 ]\n",
      " [ 0.0528555 ]\n",
      " [ 0.01049061]\n",
      " [-0.00351662]\n",
      " [ 0.23172528]\n",
      " [ 0.10292634]]\n",
      "Diteration_additive: w at iteration  2\n",
      "[[ 0.05300041]\n",
      " [-0.0098753 ]\n",
      " [-0.00146041]\n",
      " [ 0.11264707]\n",
      " [ 0.02006873]\n",
      " [-0.02308063]\n",
      " [-0.01746341]\n",
      " [ 0.0510227 ]\n",
      " [ 0.02169413]\n",
      " [-0.00299844]\n",
      " [ 0.12101849]\n",
      " [ 0.07650595]]\n",
      "norm(D)=  1.153997e+00\n",
      "Asymptotic solution: z= inv(I-D)@g\n",
      "K=     3, norm(w-z)=  1.494198e-01\n"
     ]
    }
   ],
   "source": [
    "# print('Perform D iteration \\n')\n",
    "wstore= Diteration_additive(D,g,n,p,K,iprint)"
   ]
  },
  {
   "cell_type": "code",
   "execution_count": 396,
   "id": "ebf6414f",
   "metadata": {
    "id": "5d2478a0",
    "scrolled": false
   },
   "outputs": [
    {
     "name": "stdout",
     "output_type": "stream",
     "text": [
      "wstore\n",
      "[[ 0.26245446]\n",
      " [-0.10621657]\n",
      " [-0.10916646]\n",
      " [ 0.38861181]\n",
      " [-0.06299547]\n",
      " [-0.10342547]\n",
      " [-0.09042532]\n",
      " [ 0.06811668]\n",
      " [-0.09965691]\n",
      " [-0.09760452]\n",
      " [ 0.44768618]\n",
      " [ 0.14797892]\n",
      " [ 0.12115002]\n",
      " [-0.00611142]\n",
      " [-0.00455306]\n",
      " [ 0.19792186]\n",
      " [ 0.00348138]\n",
      " [-0.03099587]\n",
      " [-0.0210558 ]\n",
      " [ 0.0528555 ]\n",
      " [ 0.01049061]\n",
      " [-0.00351662]\n",
      " [ 0.23172528]\n",
      " [ 0.10292634]\n",
      " [ 0.05300041]\n",
      " [-0.0098753 ]\n",
      " [-0.00146041]\n",
      " [ 0.11264707]\n",
      " [ 0.02006873]\n",
      " [-0.02308063]\n",
      " [-0.01746341]\n",
      " [ 0.0510227 ]\n",
      " [ 0.02169413]\n",
      " [-0.00299844]\n",
      " [ 0.12101849]\n",
      " [ 0.07650595]]\n"
     ]
    }
   ],
   "source": [
    "if iprint >= 2:\n",
    "    print('wstore')\n",
    "    print(wstore)"
   ]
  },
  {
   "cell_type": "markdown",
   "id": "707665d0",
   "metadata": {},
   "source": [
    "#### Perform $K$ iterations as single matrix solve [U iteration]\n",
    "\n",
    "$K=6$ iterations of multiplicative Schwarz can be written as the $nK$-dimensional system of equations\n",
    "\n",
    "<ins>Additive Schwarz<ins>\n",
    "\n",
    "$Uz=\n",
    "\\pmatrix{\n",
    " I & 0 & 0 & 0 & 0 & 0   \\cr\n",
    " -D &I & 0 & 0 & 0 & 0   \\cr\n",
    " 0 & -D & I & 0 & 0 & 0   \\cr\n",
    " 0 & 0 & -D & I & 0 & 0   \\cr\n",
    " 0 & 0 & 0 & -D & I & 0   \\cr\n",
    " 0 & 0 & 0 & 0 & -D & I\n",
    "}$\n",
    "$\\pmatrix{\n",
    "v^{\\{1\\}}  \\cr\n",
    "v^{\\{2\\}}  \\cr\n",
    "v^{\\{3\\}}  \\cr\n",
    "v^{\\{4\\}}  \\cr\n",
    "v^{\\{5\\}}  \\cr\n",
    "v^{\\{6\\}}\n",
    "}$\n",
    "$\\pmatrix{\n",
    "g  \\cr\n",
    "g  \\cr\n",
    "g  \\cr\n",
    "g  \\cr\n",
    "g  \\cr\n",
    "g\n",
    "}\n",
    "=h$"
   ]
  },
  {
   "cell_type": "code",
   "execution_count": 397,
   "id": "5a26f83b",
   "metadata": {
    "id": "5d2478a0"
   },
   "outputs": [
    {
     "name": "stdout",
     "output_type": "stream",
     "text": [
      "U matrix\n",
      "[[1. 0. 0. ... 0. 0. 0.]\n",
      " [0. 1. 0. ... 0. 0. 0.]\n",
      " [0. 0. 1. ... 0. 0. 0.]\n",
      " ...\n",
      " [0. 0. 0. ... 1. 0. 0.]\n",
      " [0. 0. 0. ... 0. 1. 0.]\n",
      " [0. 0. 0. ... 0. 0. 1.]]\n",
      "h vector\n",
      "[[ 0.00155432]\n",
      " [ 0.00626573]\n",
      " [ 0.01778566]\n",
      " [ 0.02619498]\n",
      " [ 0.04333161]\n",
      " [-0.00366229]\n",
      " [-0.00176133]\n",
      " [ 0.03551579]\n",
      " [ 0.04014746]\n",
      " [ 0.00919165]\n",
      " [ 0.0074109 ]\n",
      " [ 0.02968002]\n",
      " [ 0.00155432]\n",
      " [ 0.00626573]\n",
      " [ 0.01778566]\n",
      " [ 0.02619498]\n",
      " [ 0.04333161]\n",
      " [-0.00366229]\n",
      " [-0.00176133]\n",
      " [ 0.03551579]\n",
      " [ 0.04014746]\n",
      " [ 0.00919165]\n",
      " [ 0.0074109 ]\n",
      " [ 0.02968002]\n",
      " [ 0.00155432]\n",
      " [ 0.00626573]\n",
      " [ 0.01778566]\n",
      " [ 0.02619498]\n",
      " [ 0.04333161]\n",
      " [-0.00366229]\n",
      " [-0.00176133]\n",
      " [ 0.03551579]\n",
      " [ 0.04014746]\n",
      " [ 0.00919165]\n",
      " [ 0.0074109 ]\n",
      " [ 0.02968002]]\n"
     ]
    }
   ],
   "source": [
    "# Perform U iteration\n",
    "# Construct U and h\n",
    "U= Umatrix_additive(D,n,K,iprint)\n",
    "h= hvector_additive(g,n,K,iprint)"
   ]
  },
  {
   "cell_type": "code",
   "execution_count": 398,
   "id": "0a1b7eac",
   "metadata": {
    "id": "5d2478a0"
   },
   "outputs": [
    {
     "name": "stdout",
     "output_type": "stream",
     "text": [
      "Uhsolve_additive: z at iteration 0\n",
      "[ 0.00155432  0.00626573  0.01778566  0.02619498  0.04333161 -0.00366229\n",
      " -0.00176133  0.03551579  0.04014746  0.00919165  0.0074109   0.02968002]\n",
      "Uhsolve_additive: z at iteration 1\n",
      "[-0.0002635  -0.00022079  0.01239888  0.03773649  0.03982141 -0.00731294\n",
      " -0.00544885  0.05161378  0.03711612  0.00589707  0.00860193  0.04133049]\n",
      "Uhsolve_additive: z at iteration 2\n",
      "[-0.00167516 -0.0007625   0.01216898  0.04300103  0.03898027 -0.00750185\n",
      " -0.00575557  0.05947514  0.0365869   0.00622488  0.00884402  0.04708328]\n"
     ]
    }
   ],
   "source": [
    "# Solve using Uz= h\n",
    "zstore= Uhsolve_additive(U,h,n,K,iprint)"
   ]
  },
  {
   "cell_type": "code",
   "execution_count": 399,
   "id": "eb6c1223",
   "metadata": {
    "id": "5d2478a0"
   },
   "outputs": [
    {
     "name": "stdout",
     "output_type": "stream",
     "text": [
      "zstore\n",
      "[[ 0.00155432]\n",
      " [ 0.00626573]\n",
      " [ 0.01778566]\n",
      " [ 0.02619498]\n",
      " [ 0.04333161]\n",
      " [-0.00366229]\n",
      " [-0.00176133]\n",
      " [ 0.03551579]\n",
      " [ 0.04014746]\n",
      " [ 0.00919165]\n",
      " [ 0.0074109 ]\n",
      " [ 0.02968002]\n",
      " [-0.0002635 ]\n",
      " [-0.00022079]\n",
      " [ 0.01239888]\n",
      " [ 0.03773649]\n",
      " [ 0.03982141]\n",
      " [-0.00731294]\n",
      " [-0.00544885]\n",
      " [ 0.05161378]\n",
      " [ 0.03711612]\n",
      " [ 0.00589707]\n",
      " [ 0.00860193]\n",
      " [ 0.04133049]\n",
      " [-0.00167516]\n",
      " [-0.0007625 ]\n",
      " [ 0.01216898]\n",
      " [ 0.04300103]\n",
      " [ 0.03898027]\n",
      " [-0.00750185]\n",
      " [-0.00575557]\n",
      " [ 0.05947514]\n",
      " [ 0.0365869 ]\n",
      " [ 0.00622488]\n",
      " [ 0.00884402]\n",
      " [ 0.04708328]]\n"
     ]
    }
   ],
   "source": [
    "if iprint >= 4:\n",
    "    print('zstore')\n",
    "    print(zstore)"
   ]
  },
  {
   "cell_type": "markdown",
   "id": "1aa8b066",
   "metadata": {},
   "source": [
    "#### Compare Solutions from all three methods"
   ]
  },
  {
   "cell_type": "code",
   "execution_count": 400,
   "id": "ad3e2be2",
   "metadata": {
    "id": "5d2478a0",
    "scrolled": true
   },
   "outputs": [
    {
     "name": "stdout",
     "output_type": "stream",
     "text": [
      "norm(exact - iterative) solutions    =  1.033501e-02\n",
      "Difference between vstore and wstore =  7.855266e-01\n",
      "Difference between wstore and zstore =  7.855266e-01\n",
      "Difference between vstore and zstore =  2.023615e-17\n"
     ]
    }
   ],
   "source": [
    "solution_compare(xstore,vstore,wstore,zstore,iprint)"
   ]
  },
  {
   "cell_type": "markdown",
   "id": "83d9d8ca",
   "metadata": {},
   "source": [
    "### Add discretization error and compute error estimate"
   ]
  },
  {
   "cell_type": "markdown",
   "id": "02dde6e0",
   "metadata": {},
   "source": [
    "#### C iteration with error"
   ]
  },
  {
   "cell_type": "code",
   "execution_count": 401,
   "id": "561904df",
   "metadata": {
    "scrolled": true
   },
   "outputs": [
    {
     "name": "stdout",
     "output_type": "stream",
     "text": [
      "Citeration_additive_approx: Outer iteration 0\n",
      "Difference = 2.8918e-03\n",
      "dmatrix_additive:  matrix\n",
      "[[ 5.00e-01  0.00e+00  0.00e+00 -1.07e-02 -5.00e-03 -2.50e-03 -7.20e-03\n",
      "  -1.35e-02 -1.42e-02 -1.95e-02 -1.62e-02 -2.61e-02]\n",
      " [-6.10e-03  0.00e+00  0.00e+00 -2.59e-02 -1.61e-02 -2.16e-02 -5.30e-03\n",
      "  -1.26e-02 -5.95e-02 -7.29e-02 -2.00e-02 -5.18e-02]\n",
      " [-3.55e-02 -0.00e+00  0.00e+00  1.10e-03 -5.50e-03 -3.46e-02 -3.20e-03\n",
      "  -3.14e-02 -7.09e-02 -3.56e-02 -5.17e-02 -1.97e-02]\n",
      " [-2.56e-02 -0.00e+00 -0.00e+00  5.00e-01  0.00e+00 -0.00e+00 -0.00e+00\n",
      "  -2.91e-02  2.10e-03 -1.33e-02 -3.10e-02 -7.30e-03]\n",
      " [-2.00e-02 -2.70e-03  3.00e-04 -2.63e-02 -0.00e+00  0.00e+00 -0.00e+00\n",
      "   1.00e-03 -2.14e-02 -3.60e-03 -4.28e-02 -5.41e-02]\n",
      " [-9.00e-04 -1.09e-02 -2.63e-02 -1.33e-02 -0.00e+00  0.00e+00 -0.00e+00\n",
      "  -1.71e-02 -3.32e-02 -1.97e-02 -6.53e-02 -5.20e-03]\n",
      " [-3.70e-03 -2.65e-02 -1.40e-02 -8.00e-04  0.00e+00 -0.00e+00  0.00e+00\n",
      "  -2.69e-02 -2.93e-02 -2.07e-02 -5.08e-02 -1.85e-02]\n",
      " [-7.70e-03 -3.15e-02 -1.50e-02 -3.45e-02  0.00e+00 -0.00e+00 -0.00e+00\n",
      "   5.00e-01  0.00e+00 -0.00e+00 -1.19e-02 -6.40e-03]\n",
      " [-6.56e-02 -3.78e-02  5.10e-03 -4.48e-02 -8.70e-03 -1.81e-02 -3.19e-02\n",
      "  -1.04e-02  0.00e+00 -0.00e+00  4.50e-03 -3.44e-02]\n",
      " [-4.84e-02 -7.22e-02 -1.11e-02 -2.80e-03 -3.36e-02 -2.47e-02  7.00e-04\n",
      "  -2.67e-02 -0.00e+00  0.00e+00 -2.36e-02 -4.00e-04]\n",
      " [ 1.70e-03 -1.00e-04  1.50e-03 -8.80e-03 -3.08e-02 -1.95e-02 -1.90e-02\n",
      "  -3.05e-02  0.00e+00  0.00e+00  5.00e-01  0.00e+00]\n",
      " [-2.14e-02  6.00e-04 -3.31e-02 -8.50e-03 -3.24e-02 -1.48e-02 -3.41e-02\n",
      "  -2.99e-02 -0.00e+00  0.00e+00 -0.00e+00  5.00e-01]]\n",
      "Print g vector\n",
      "[[ 0.00155432]\n",
      " [ 0.00626573]\n",
      " [ 0.01778566]\n",
      " [ 0.02619498]\n",
      " [ 0.04333161]\n",
      " [-0.00366229]\n",
      " [-0.00176133]\n",
      " [ 0.03551579]\n",
      " [ 0.04014746]\n",
      " [ 0.00919165]\n",
      " [ 0.0074109 ]\n",
      " [ 0.02968002]]\n",
      "Citeration_additive_approx: Outer iteration 1\n",
      "Difference = 2.9033e-03\n",
      "dmatrix_additive:  matrix\n",
      "[[ 5.00e-01  0.00e+00  0.00e+00 -1.07e-02 -5.00e-03 -2.50e-03 -7.20e-03\n",
      "  -1.35e-02 -1.42e-02 -1.95e-02 -1.62e-02 -2.61e-02]\n",
      " [-6.10e-03  0.00e+00  0.00e+00 -2.59e-02 -1.61e-02 -2.16e-02 -5.30e-03\n",
      "  -1.26e-02 -5.95e-02 -7.29e-02 -2.00e-02 -5.18e-02]\n",
      " [-3.55e-02 -0.00e+00  0.00e+00  1.10e-03 -5.50e-03 -3.46e-02 -3.20e-03\n",
      "  -3.14e-02 -7.09e-02 -3.56e-02 -5.17e-02 -1.97e-02]\n",
      " [-2.56e-02 -0.00e+00 -0.00e+00  5.00e-01  0.00e+00 -0.00e+00 -0.00e+00\n",
      "  -2.91e-02  2.10e-03 -1.33e-02 -3.10e-02 -7.30e-03]\n",
      " [-2.00e-02 -2.70e-03  3.00e-04 -2.63e-02 -0.00e+00  0.00e+00 -0.00e+00\n",
      "   1.00e-03 -2.14e-02 -3.60e-03 -4.28e-02 -5.41e-02]\n",
      " [-9.00e-04 -1.09e-02 -2.63e-02 -1.33e-02 -0.00e+00  0.00e+00 -0.00e+00\n",
      "  -1.71e-02 -3.32e-02 -1.97e-02 -6.53e-02 -5.20e-03]\n",
      " [-3.70e-03 -2.65e-02 -1.40e-02 -8.00e-04  0.00e+00 -0.00e+00  0.00e+00\n",
      "  -2.69e-02 -2.93e-02 -2.07e-02 -5.08e-02 -1.85e-02]\n",
      " [-7.70e-03 -3.15e-02 -1.50e-02 -3.45e-02  0.00e+00 -0.00e+00 -0.00e+00\n",
      "   5.00e-01  0.00e+00 -0.00e+00 -1.19e-02 -6.40e-03]\n",
      " [-6.56e-02 -3.78e-02  5.10e-03 -4.48e-02 -8.70e-03 -1.81e-02 -3.19e-02\n",
      "  -1.04e-02  0.00e+00 -0.00e+00  4.50e-03 -3.44e-02]\n",
      " [-4.84e-02 -7.22e-02 -1.11e-02 -2.80e-03 -3.36e-02 -2.47e-02  7.00e-04\n",
      "  -2.67e-02 -0.00e+00  0.00e+00 -2.36e-02 -4.00e-04]\n",
      " [ 1.70e-03 -1.00e-04  1.50e-03 -8.80e-03 -3.08e-02 -1.95e-02 -1.90e-02\n",
      "  -3.05e-02  0.00e+00  0.00e+00  5.00e-01  0.00e+00]\n",
      " [-2.14e-02  6.00e-04 -3.31e-02 -8.50e-03 -3.24e-02 -1.48e-02 -3.41e-02\n",
      "  -2.99e-02 -0.00e+00  0.00e+00 -0.00e+00  5.00e-01]]\n",
      "Print g vector\n",
      "[[ 0.00155432]\n",
      " [ 0.00626573]\n",
      " [ 0.01778566]\n",
      " [ 0.02619498]\n",
      " [ 0.04333161]\n",
      " [-0.00366229]\n",
      " [-0.00176133]\n",
      " [ 0.03551579]\n",
      " [ 0.04014746]\n",
      " [ 0.00919165]\n",
      " [ 0.0074109 ]\n",
      " [ 0.02968002]]\n",
      "Citeration_additive_approx: Outer iteration 2\n",
      "Difference = 4.6815e-03\n",
      "dmatrix_additive:  matrix\n",
      "[[ 5.00e-01  0.00e+00  0.00e+00 -1.07e-02 -5.00e-03 -2.50e-03 -7.20e-03\n",
      "  -1.35e-02 -1.42e-02 -1.95e-02 -1.62e-02 -2.61e-02]\n",
      " [-6.10e-03  0.00e+00  0.00e+00 -2.59e-02 -1.61e-02 -2.16e-02 -5.30e-03\n",
      "  -1.26e-02 -5.95e-02 -7.29e-02 -2.00e-02 -5.18e-02]\n",
      " [-3.55e-02 -0.00e+00  0.00e+00  1.10e-03 -5.50e-03 -3.46e-02 -3.20e-03\n",
      "  -3.14e-02 -7.09e-02 -3.56e-02 -5.17e-02 -1.97e-02]\n",
      " [-2.56e-02 -0.00e+00 -0.00e+00  5.00e-01  0.00e+00 -0.00e+00 -0.00e+00\n",
      "  -2.91e-02  2.10e-03 -1.33e-02 -3.10e-02 -7.30e-03]\n",
      " [-2.00e-02 -2.70e-03  3.00e-04 -2.63e-02 -0.00e+00  0.00e+00 -0.00e+00\n",
      "   1.00e-03 -2.14e-02 -3.60e-03 -4.28e-02 -5.41e-02]\n",
      " [-9.00e-04 -1.09e-02 -2.63e-02 -1.33e-02 -0.00e+00  0.00e+00 -0.00e+00\n",
      "  -1.71e-02 -3.32e-02 -1.97e-02 -6.53e-02 -5.20e-03]\n",
      " [-3.70e-03 -2.65e-02 -1.40e-02 -8.00e-04  0.00e+00 -0.00e+00  0.00e+00\n",
      "  -2.69e-02 -2.93e-02 -2.07e-02 -5.08e-02 -1.85e-02]\n",
      " [-7.70e-03 -3.15e-02 -1.50e-02 -3.45e-02  0.00e+00 -0.00e+00 -0.00e+00\n",
      "   5.00e-01  0.00e+00 -0.00e+00 -1.19e-02 -6.40e-03]\n",
      " [-6.56e-02 -3.78e-02  5.10e-03 -4.48e-02 -8.70e-03 -1.81e-02 -3.19e-02\n",
      "  -1.04e-02  0.00e+00 -0.00e+00  4.50e-03 -3.44e-02]\n",
      " [-4.84e-02 -7.22e-02 -1.11e-02 -2.80e-03 -3.36e-02 -2.47e-02  7.00e-04\n",
      "  -2.67e-02 -0.00e+00  0.00e+00 -2.36e-02 -4.00e-04]\n",
      " [ 1.70e-03 -1.00e-04  1.50e-03 -8.80e-03 -3.08e-02 -1.95e-02 -1.90e-02\n",
      "  -3.05e-02  0.00e+00  0.00e+00  5.00e-01  0.00e+00]\n",
      " [-2.14e-02  6.00e-04 -3.31e-02 -8.50e-03 -3.24e-02 -1.48e-02 -3.41e-02\n",
      "  -2.99e-02 -0.00e+00  0.00e+00 -0.00e+00  5.00e-01]]\n",
      "Print g vector\n",
      "[[ 0.00155432]\n",
      " [ 0.00626573]\n",
      " [ 0.01778566]\n",
      " [ 0.02619498]\n",
      " [ 0.04333161]\n",
      " [-0.00366229]\n",
      " [-0.00176133]\n",
      " [ 0.03551579]\n",
      " [ 0.04014746]\n",
      " [ 0.00919165]\n",
      " [ 0.0074109 ]\n",
      " [ 0.02968002]]\n",
      "vglobal_store\n",
      "[[ 0.00155432]\n",
      " [ 0.00626573]\n",
      " [ 0.01778566]\n",
      " [ 0.02619498]\n",
      " [ 0.04333161]\n",
      " [-0.00366229]\n",
      " [-0.00176133]\n",
      " [ 0.03551579]\n",
      " [ 0.04014746]\n",
      " [ 0.00919165]\n",
      " [ 0.0074109 ]\n",
      " [ 0.02968002]\n",
      " [-0.0002635 ]\n",
      " [-0.00022079]\n",
      " [ 0.01239888]\n",
      " [ 0.03773649]\n",
      " [ 0.03982141]\n",
      " [-0.00731294]\n",
      " [-0.00544885]\n",
      " [ 0.05161378]\n",
      " [ 0.03711612]\n",
      " [ 0.00589707]\n",
      " [ 0.00860193]\n",
      " [ 0.04133049]\n",
      " [-0.00167516]\n",
      " [-0.0007625 ]\n",
      " [ 0.01216898]\n",
      " [ 0.04300103]\n",
      " [ 0.03898027]\n",
      " [-0.00750185]\n",
      " [-0.00575557]\n",
      " [ 0.05947514]\n",
      " [ 0.0365869 ]\n",
      " [ 0.00622488]\n",
      " [ 0.00884402]\n",
      " [ 0.04708328]]\n",
      "vaglobal_store\n",
      "[[ 0.00000000e+00]\n",
      " [ 0.00000000e+00]\n",
      " [ 0.00000000e+00]\n",
      " [ 0.00000000e+00]\n",
      " [ 0.00000000e+00]\n",
      " [ 0.00000000e+00]\n",
      " [ 0.00000000e+00]\n",
      " [ 0.00000000e+00]\n",
      " [ 0.00000000e+00]\n",
      " [ 0.00000000e+00]\n",
      " [ 0.00000000e+00]\n",
      " [ 0.00000000e+00]\n",
      " [ 2.78929412e-03]\n",
      " [ 4.58445748e-03]\n",
      " [ 1.75928026e-02]\n",
      " [ 2.68613834e-02]\n",
      " [ 4.44569810e-02]\n",
      " [-3.43467151e-03]\n",
      " [-2.19215701e-03]\n",
      " [ 3.54128008e-02]\n",
      " [ 4.12283588e-02]\n",
      " [ 9.61162012e-03]\n",
      " [ 6.59990003e-03]\n",
      " [ 2.95686950e-02]\n",
      " [ 1.17077933e-03]\n",
      " [ 4.31761168e-05]\n",
      " [ 1.31520826e-02]\n",
      " [ 3.82082386e-02]\n",
      " [ 4.09318709e-02]\n",
      " [-6.17951396e-03]\n",
      " [-4.65567856e-03]\n",
      " [ 5.04798456e-02]\n",
      " [ 3.65011905e-02]\n",
      " [ 5.77560822e-03]\n",
      " [ 9.11519581e-03]\n",
      " [ 4.19812994e-02]\n",
      " [-1.10767444e-04]\n",
      " [-2.26915343e-03]\n",
      " [ 1.23764487e-02]\n",
      " [ 4.31584994e-02]\n",
      " [ 3.69931595e-02]\n",
      " [-6.89124689e-03]\n",
      " [-7.45003410e-03]\n",
      " [ 5.93450123e-02]\n",
      " [ 3.74090975e-02]\n",
      " [ 5.02487885e-03]\n",
      " [ 1.07970644e-02]\n",
      " [ 4.90810486e-02]]\n",
      "rglobal_store\n",
      "[[-1.23497050e-03]\n",
      " [ 1.68127109e-03]\n",
      " [ 1.92854356e-04]\n",
      " [-6.66403369e-04]\n",
      " [-1.12537400e-03]\n",
      " [-2.27618158e-04]\n",
      " [ 4.30827256e-04]\n",
      " [ 1.02988550e-04]\n",
      " [-1.08089667e-03]\n",
      " [-4.19966276e-04]\n",
      " [ 8.11002713e-04]\n",
      " [ 1.11326390e-04]\n",
      " [-8.33090462e-04]\n",
      " [-3.81111896e-04]\n",
      " [-8.53227661e-04]\n",
      " [-1.44440946e-04]\n",
      " [-1.13221908e-03]\n",
      " [-1.10905155e-03]\n",
      " [-7.45424008e-04]\n",
      " [ 1.11622253e-03]\n",
      " [ 5.67701672e-04]\n",
      " [ 1.61640575e-04]\n",
      " [-9.50541281e-04]\n",
      " [-7.55182133e-04]\n",
      " [-8.65190301e-04]\n",
      " [ 1.45478288e-03]\n",
      " [-2.61427684e-04]\n",
      " [ 5.43183653e-05]\n",
      " [ 1.90090528e-03]\n",
      " [-6.35595573e-04]\n",
      " [ 1.68416745e-03]\n",
      " [-4.94096352e-04]\n",
      " [-1.00732499e-03]\n",
      " [ 1.05513902e-03]\n",
      " [-1.73391348e-03]\n",
      " [-1.77763631e-03]]\n"
     ]
    }
   ],
   "source": [
    "psi= np.ones((n,1))\n",
    "\n",
    "# Solve system with \"numerical error\" for every solve\n",
    "vglobal_store,vaglobal_store,rglobal_store= Citeration_additive_approx(C,f,alpha,n,p,K,mpert,wpert,iprint)\n",
    "\n",
    "if iprint >= 4:\n",
    "    print('vglobal_store')\n",
    "    print(vglobal_store)\n",
    "    print('vaglobal_store')\n",
    "    print(vaglobal_store)\n",
    "    print('rglobal_store')\n",
    "    print(rglobal_store)    "
   ]
  },
  {
   "cell_type": "markdown",
   "id": "b691867c",
   "metadata": {
    "scrolled": true
   },
   "source": [
    "#### Calculate the discretization error and effectivity ratio"
   ]
  },
  {
   "cell_type": "code",
   "execution_count": 402,
   "id": "2c76b51c",
   "metadata": {},
   "outputs": [
    {
     "data": {
      "text/plain": [
       "array([[ 0.00155432],\n",
       "       [ 0.00626573],\n",
       "       [ 0.01778566],\n",
       "       [ 0.02619498],\n",
       "       [ 0.04333161],\n",
       "       [-0.00366229],\n",
       "       [-0.00176133],\n",
       "       [ 0.03551579],\n",
       "       [ 0.04014746],\n",
       "       [ 0.00919165],\n",
       "       [ 0.0074109 ],\n",
       "       [ 0.02968002],\n",
       "       [-0.0002635 ],\n",
       "       [-0.00022079],\n",
       "       [ 0.01239888],\n",
       "       [ 0.03773649],\n",
       "       [ 0.03982141],\n",
       "       [-0.00731294],\n",
       "       [-0.00544885],\n",
       "       [ 0.05161378],\n",
       "       [ 0.03711612],\n",
       "       [ 0.00589707],\n",
       "       [ 0.00860193],\n",
       "       [ 0.04133049],\n",
       "       [-0.00167516],\n",
       "       [-0.0007625 ],\n",
       "       [ 0.01216898],\n",
       "       [ 0.04300103],\n",
       "       [ 0.03898027],\n",
       "       [-0.00750185],\n",
       "       [-0.00575557],\n",
       "       [ 0.05947514],\n",
       "       [ 0.0365869 ],\n",
       "       [ 0.00622488],\n",
       "       [ 0.00884402],\n",
       "       [ 0.04708328]])"
      ]
     },
     "execution_count": 402,
     "metadata": {},
     "output_type": "execute_result"
    }
   ],
   "source": [
    "vglobal_store"
   ]
  },
  {
   "cell_type": "code",
   "execution_count": 403,
   "id": "69a92664",
   "metadata": {
    "scrolled": true
   },
   "outputs": [
    {
     "name": "stdout",
     "output_type": "stream",
     "text": [
      "12 4 3\n",
      "Citeration_additive_adjoint: k= 2, i= 3\n",
      "[0.15332825 0.11463677 0.07106557 0.08760632 0.2108783  0.15430232\n",
      " 0.16860121 0.19473913 1.         1.         1.         1.        ]\n",
      "Citeration_additive_adjoint: k= 2, i= 2\n",
      "[0.15081677 0.24738492 0.11390261 0.19213226 1.         1.\n",
      " 1.         1.         1.         1.         0.2238931  0.1574815 ]\n",
      "Citeration_additive_adjoint: k= 2, i= 1\n",
      "[0.16210901 1.         1.         1.         1.         1.\n",
      " 1.         0.18551736 0.29004651 0.22133345 0.28434186 0.1667762 ]\n",
      "Citeration_additive_adjoint: k= 2, i= 0\n",
      "[1.         1.         1.         0.07092999 0.05311856 0.11720092\n",
      " 0.03134729 0.07364059 0.16260073 0.14933216 0.10924136 0.12342156]\n",
      "Citeration_additive_adjoint: k= 1, i= 3\n",
      "[-0.01261636 -0.02342669  0.01640859 -0.00366911  0.01331022 -0.00171316\n",
      "  0.01192662  0.01358772 -0.22632362 -0.1853328   0.19126184  0.27616037]\n",
      "Citeration_additive_adjoint: k= 1, i= 2\n",
      "[-0.02242832 -0.01247378 -0.00214157 -0.00147113 -0.13199843 -0.13575162\n",
      " -0.09997425  0.27305146 -0.22632362 -0.1853328  -0.02019951 -0.02158004]\n",
      "Citeration_additive_adjoint: k= 1, i= 1\n",
      "[ 0.00433739 -0.18101084 -0.09248409  0.32466572 -0.13199843 -0.13575162\n",
      " -0.09997425  0.00437824 -0.03868347 -0.01797361 -0.00661979 -0.01640833]\n",
      "Citeration_additive_adjoint: k= 1, i= 0\n",
      "[ 0.26687298 -0.18101084 -0.09248409 -0.00346787 -0.00418978 -0.0128874\n",
      "  0.00132549  0.00156182 -0.01029002 -0.00636449 -0.0005648   0.00263103]\n",
      "phiglobal_store\n",
      "[[ 0.14879013  0.01795023 -0.00713351  0.16663691 -0.00456022  0.00730028\n",
      "  -0.00662605  0.12676184  0.02448675  0.01216905  0.10932297  0.15575886\n",
      "   0.26687298 -0.18101084 -0.09248409  0.32466572 -0.13199843 -0.13575162\n",
      "  -0.09997425  0.27305146 -0.22632362 -0.1853328   0.19126184  0.27616037\n",
      "   1.          1.          1.          1.          1.          1.\n",
      "   1.          1.          1.          1.          1.          1.        ]]\n",
      "norm(r_store) =  5.866433e-03, norm(phi_store)=  3.555305e+00\n",
      "QoI_discretization_error          = -7.945815e-04\n",
      "QoI_discretization_error_estimate = -7.945815e-04\n",
      "Effectivity ratio                 =         1.000\n"
     ]
    }
   ],
   "source": [
    "# Adjoint solve\n",
    "phiglobal_store= Citeration_additive_adjoint(C,psi,alpha,n,p,K,iprint)\n",
    "if iprint >= 4:\n",
    "    print('phiglobal_store')\n",
    "    print(phiglobal_store.T)\n",
    "\n",
    "# Error estimate= (r,\\phi)\n",
    "qoi_discretization_error_estimate= (rglobal_store.T @ phiglobal_store)[0,0]\n",
    "\n",
    "if iprint >= 4:\n",
    "    print(f'norm(r_store) = {np.linalg.norm(rglobal_store):13.6e}, norm(phi_store)= {np.linalg.norm(phiglobal_store):13.6e}')\n",
    "\n",
    "# Compute error and error in QoI directly\n",
    "vsoln= vglobal_store[n * (K-1): n * K, 0]\n",
    "vasoln= vaglobal_store[n * K: n * (K+1), 0]\n",
    "verror= vsoln.T-vasoln\n",
    "qoi_discretization_error= (psi.T @ verror.T)[0]\n",
    "\n",
    "# Calculate effectivity ratio\n",
    "effectivity_ratio_disc= qoi_discretization_error_estimate/ qoi_discretization_error\n",
    "print(f'QoI_discretization_error          = {qoi_discretization_error:13.6e}')\n",
    "print(f'QoI_discretization_error_estimate = {qoi_discretization_error_estimate:13.6e}')\n",
    "print(f'Effectivity ratio                 = {effectivity_ratio_disc:13.3f}')"
   ]
  },
  {
   "cell_type": "markdown",
   "id": "e6bb7e69",
   "metadata": {},
   "source": [
    "##### Calculate the total error and effectivity ratio"
   ]
  },
  {
   "cell_type": "code",
   "execution_count": 404,
   "id": "b57080a7",
   "metadata": {
    "scrolled": true
   },
   "outputs": [
    {
     "name": "stdout",
     "output_type": "stream",
     "text": [
      "QoI_total_error                   =  9.207482e-03\n",
      "QoI_total_error_estimate          =  9.207482e-03\n",
      "Effectivity ratio                 =  1.000000e+00\n"
     ]
    }
   ],
   "source": [
    "# Adjoint solve\n",
    "phi= np.linalg.solve(M.T,psi)\n",
    "\n",
    "# Residual\n",
    "r= y.T - M @ vasoln\n",
    "\n",
    "# Error estimate= (r,\\phi)\n",
    "qoi_total_error_estimate= (r @ phi)[0,0]\n",
    "\n",
    "# Compute error in QoI directly\n",
    "total_error= xstore.reshape(-1) - vasoln.T\n",
    "qoi_total_error= psi.reshape(-1)@total_error\n",
    "\n",
    "# Calculate effectivity ratio\n",
    "effectivity_ratio_total= qoi_total_error_estimate / qoi_total_error\n",
    "print(f'QoI_total_error                   = {qoi_total_error:13.6e}')\n",
    "print(f'QoI_total_error_estimate          = {qoi_total_error_estimate:13.6e}')\n",
    "print(f'Effectivity ratio                 = {effectivity_ratio_total:13.6e}')"
   ]
  },
  {
   "cell_type": "markdown",
   "id": "500754ce",
   "metadata": {
    "id": "5d2478a0"
   },
   "source": [
    "#### Calculate iteration error as the difference between the total error and the discretization error"
   ]
  },
  {
   "cell_type": "code",
   "execution_count": 405,
   "id": "04e2782e",
   "metadata": {
    "id": "5d2478a0"
   },
   "outputs": [
    {
     "name": "stdout",
     "output_type": "stream",
     "text": [
      "QoI_iteration_error               =  1.000206e-02\n"
     ]
    }
   ],
   "source": [
    "qoi_iteration_error= qoi_total_error-qoi_discretization_error\n",
    "print(f'QoI_iteration_error               = {qoi_iteration_error:13.6e}')"
   ]
  },
  {
   "cell_type": "markdown",
   "id": "2f88dc76",
   "metadata": {},
   "source": [
    "#### D iteration with error"
   ]
  },
  {
   "cell_type": "code",
   "execution_count": 406,
   "id": "28bf5d82",
   "metadata": {},
   "outputs": [
    {
     "name": "stdout",
     "output_type": "stream",
     "text": [
      "Perform D iteration with error\n"
     ]
    }
   ],
   "source": [
    "# Diteration with error as a check on the accumulation of error\n",
    "print('Perform D iteration with error')"
   ]
  },
  {
   "cell_type": "code",
   "execution_count": 407,
   "id": "2cf09754",
   "metadata": {},
   "outputs": [
    {
     "name": "stdout",
     "output_type": "stream",
     "text": [
      "norm(w_store-vglobal_store)=  1.462990e-17\n"
     ]
    }
   ],
   "source": [
    "w_store,wa_store,wr_store= Diteration_additive_approx(D,g,alpha,n,p,K,wpert,mpert,iprint);\n",
    "print(f'norm(w_store-vglobal_store)= {np.linalg.norm(w_store-vglobal_store):13.6e}')"
   ]
  },
  {
   "cell_type": "code",
   "execution_count": 408,
   "id": "10de2f49",
   "metadata": {
    "scrolled": true
   },
   "outputs": [
    {
     "name": "stdout",
     "output_type": "stream",
     "text": [
      "norm(wa_store-vaglobal_store)=  2.488120e-17\n"
     ]
    }
   ],
   "source": [
    "print(f'norm(wa_store-vaglobal_store)= {np.linalg.norm(wa_store-vaglobal_store):13.6e}')"
   ]
  },
  {
   "cell_type": "code",
   "execution_count": 409,
   "id": "168eab70",
   "metadata": {},
   "outputs": [
    {
     "name": "stdout",
     "output_type": "stream",
     "text": [
      "norm(wr_store-rglobal_store)=  2.177736e-17\n"
     ]
    }
   ],
   "source": [
    "print(f'norm(wr_store-rglobal_store)= {np.linalg.norm(wr_store-rglobal_store):13.6e}')"
   ]
  },
  {
   "cell_type": "markdown",
   "id": "bfff0e57",
   "metadata": {},
   "source": [
    "### U iteration with error"
   ]
  },
  {
   "cell_type": "code",
   "execution_count": 410,
   "id": "b25ed8aa",
   "metadata": {
    "scrolled": true
   },
   "outputs": [
    {
     "name": "stdout",
     "output_type": "stream",
     "text": [
      "Solving U system with error\n"
     ]
    }
   ],
   "source": [
    "print('Solving U system with error')"
   ]
  },
  {
   "cell_type": "code",
   "execution_count": 411,
   "id": "4b4f483a",
   "metadata": {
    "scrolled": true
   },
   "outputs": [],
   "source": [
    "zexact,zapprox,zresid= Uhsolve_additive_approx(U,h,n,p,K,alpha,wpert,mpert,iprint)"
   ]
  },
  {
   "cell_type": "code",
   "execution_count": 412,
   "id": "f0c6cf7b",
   "metadata": {},
   "outputs": [
    {
     "name": "stdout",
     "output_type": "stream",
     "text": [
      "zexact\n",
      "[[ 0.00155432  0.00626573  0.01778566  0.02619498  0.04333161 -0.00366229\n",
      "  -0.00176133  0.03551579  0.04014746  0.00919165  0.0074109   0.02968002\n",
      "  -0.0002635  -0.00022079  0.01239888  0.03773649  0.03982141 -0.00731294\n",
      "  -0.00544885  0.05161378  0.03711612  0.00589707  0.00860193  0.04133049\n",
      "  -0.00167516 -0.0007625   0.01216898  0.04300103  0.03898027 -0.00750185\n",
      "  -0.00575557  0.05947514  0.0365869   0.00622488  0.00884402  0.04708328]]\n",
      "zapprox\n",
      "[[ 0.00278929  0.00458446  0.0175928   0.02686138  0.04445698 -0.00343467\n",
      "  -0.00219216  0.0354128   0.04122836  0.00961162  0.0065999   0.02956869\n",
      "   0.00056959  0.00016032  0.01325211  0.03788093  0.04095363 -0.00620389\n",
      "  -0.00470343  0.05049756  0.03654842  0.00573543  0.00955247  0.04208567\n",
      "  -0.00080997 -0.00221728  0.01243041  0.04294671  0.03707936 -0.00686625\n",
      "  -0.00743973  0.05996924  0.03759422  0.00516975  0.01057794  0.04886091]]\n",
      "zresid\n",
      "[[-0.00123497  0.00168127  0.00019285 -0.0006664  -0.00112537 -0.00022762\n",
      "   0.00043083  0.00010299 -0.0010809  -0.00041997  0.000811    0.00011133\n",
      "  -0.0002319  -0.00049826 -0.00095325  0.00018287 -0.00115397 -0.00108468\n",
      "  -0.00069767  0.00109851  0.00052047  0.00020182 -0.00138782 -0.00085955\n",
      "  -0.00047272  0.00140123 -0.00032065  0.00010361  0.00180983 -0.00068973\n",
      "   0.00164669 -0.00110461 -0.00114229  0.00091972 -0.00129397 -0.00149217]]\n"
     ]
    }
   ],
   "source": [
    "if iprint >= 4:\n",
    "    print('zexact')\n",
    "    print(zexact.T)\n",
    "    print('zapprox')\n",
    "    print(zapprox.T)\n",
    "    print('zresid')\n",
    "    print(zresid.T)"
   ]
  },
  {
   "cell_type": "code",
   "execution_count": 413,
   "id": "39acf293",
   "metadata": {},
   "outputs": [
    {
     "name": "stdout",
     "output_type": "stream",
     "text": [
      "Norm of difference between zexact   and vglobal_store   2.023615e-17\n",
      "Norm of difference between zapprox  and vaglobal_store  1.338203e-03\n",
      "Norm of difference between zresid   and rglobal_store   1.249673e-03\n"
     ]
    }
   ],
   "source": [
    "if iprint >= 2:\n",
    "    print(f'Norm of difference between zexact   and vglobal_store  {np.linalg.norm(zexact-vglobal_store):13.6e}')\n",
    "    print(f'Norm of difference between zapprox  and vaglobal_store {np.linalg.norm(zapprox-vaglobal_store[n:]):13.6e}')\n",
    "    print(f'Norm of difference between zresid   and rglobal_store  {np.linalg.norm(zresid-rglobal_store):13.6e}')"
   ]
  },
  {
   "cell_type": "markdown",
   "id": "beed203e",
   "metadata": {},
   "source": [
    "#### Calculate the discretization error and effectivity ratio"
   ]
  },
  {
   "cell_type": "code",
   "execution_count": 414,
   "id": "22f784a4",
   "metadata": {},
   "outputs": [
    {
     "name": "stdout",
     "output_type": "stream",
     "text": [
      "Norm of difference between phi_nK and phiglobal_store  4.107688e-16\n"
     ]
    }
   ],
   "source": [
    "# Adjoint data (Adjoint system is of size nK)\n",
    "psi_nK= np.zeros((n*K,1))\n",
    "psi_nK[n * (K-1):n * K,0:1]= psi\n",
    "\n",
    "# Solve adjoint equation\n",
    "phi_nK= np.linalg.solve(U.T,psi_nK)\n",
    "if iprint >= 2:\n",
    "    print(f'Norm of difference between phi_nK and phiglobal_store {np.linalg.norm(phi_nK-phiglobal_store):13.6e}')"
   ]
  },
  {
   "cell_type": "code",
   "execution_count": 415,
   "id": "00a87eed",
   "metadata": {
    "id": "5d2478a0"
   },
   "outputs": [],
   "source": [
    "# Compute error estimate\n",
    "qoi_discretization_error_estimate= (phi_nK.T @ zresid)[0,0]\n",
    "\n",
    "# Compute error and error in QoI directly\n",
    "zsoln= zexact[-n:,0:1]\n",
    "zasoln= zapprox[-n:,0:1]\n",
    "zerror= zsoln - zasoln\n",
    "qoi_discretization_error= (psi.T @ zerror)[0,0]"
   ]
  },
  {
   "cell_type": "markdown",
   "id": "854e5888",
   "metadata": {},
   "source": [
    "#### Calculate the effectivity ratio"
   ]
  },
  {
   "cell_type": "code",
   "execution_count": 416,
   "id": "ebabd28d",
   "metadata": {
    "id": "5d2478a0"
   },
   "outputs": [
    {
     "name": "stdout",
     "output_type": "stream",
     "text": [
      "QoI_discretization_error          = -6.258717e-04\n",
      "QoI_discretization_error_estimate = -6.258717e-04\n",
      "Effectivity ratio                 =         1.000\n"
     ]
    }
   ],
   "source": [
    "effectivity_ratio_disc= qoi_discretization_error_estimate / qoi_discretization_error\n",
    "print(f'QoI_discretization_error          = {qoi_discretization_error:13.6e}' )\n",
    "print(f'QoI_discretization_error_estimate = {qoi_discretization_error_estimate:13.6e}')\n",
    "print(f'Effectivity ratio                 = {effectivity_ratio_disc:13.3f}')"
   ]
  },
  {
   "cell_type": "markdown",
   "id": "11bd9b28",
   "metadata": {},
   "source": [
    "#### Calculate the total error and effectivity ratio"
   ]
  },
  {
   "cell_type": "code",
   "execution_count": 417,
   "id": "f5034f19",
   "metadata": {
    "id": "5d2478a0"
   },
   "outputs": [
    {
     "name": "stdout",
     "output_type": "stream",
     "text": [
      "QoI_total_error                   =  9.376192e-03\n",
      "QoI_total_error_estimate          =  9.376192e-03\n",
      "Effectivity ratio                 =         1.000\n"
     ]
    }
   ],
   "source": [
    "# Residual\n",
    "r= y - M @ zasoln\n",
    "\n",
    "# Error estimate= (r,\\phi)\n",
    "qoi_total_error_estimate= r.T @ phi\n",
    "\n",
    "# Compute error in QoI directly\n",
    "total_error= xstore - zasoln\n",
    "qoi_total_error= psi.T @ total_error\n",
    "\n",
    "#Effectivity ratio\n",
    "effectivity_ratio_total= qoi_total_error_estimate / qoi_total_error\n",
    "print(f'QoI_total_error                   = {qoi_total_error[0,0]:13.6e}')\n",
    "print(f'QoI_total_error_estimate          = {qoi_total_error_estimate[0,0]:13.6e}')\n",
    "print(f'Effectivity ratio                 = {effectivity_ratio_total[0,0]:13.3f}')"
   ]
  },
  {
   "cell_type": "markdown",
   "id": "b32c256b",
   "metadata": {
    "id": "5d2478a0"
   },
   "source": [
    "#### Calculate the iteration error as the difference between the total error and the discretization error"
   ]
  },
  {
   "cell_type": "code",
   "execution_count": 418,
   "id": "483210e7",
   "metadata": {
    "id": "5d2478a0"
   },
   "outputs": [
    {
     "name": "stdout",
     "output_type": "stream",
     "text": [
      "QoI_iteration_error               =  1.000206e-02\n"
     ]
    }
   ],
   "source": [
    "qoi_iteration_error= qoi_total_error - qoi_discretization_error\n",
    "print(f'QoI_iteration_error               = {qoi_iteration_error[0,0]:13.6e}')"
   ]
  },
  {
   "cell_type": "code",
   "execution_count": null,
   "id": "a80537c5",
   "metadata": {},
   "outputs": [],
   "source": []
  }
 ],
 "metadata": {
  "colab": {
   "collapsed_sections": [
    "Pm69IKhJhkAi",
    "P8_qLIJNb6cv",
    "6ljxw4sXnjLo",
    "W6kJj2bf-Swy",
    "f8Apbo74_sx_",
    "jxzyQwB-cDTl",
    "p384sqSucH9m",
    "5maDvWnGbq_U",
    "R_asHpZcob70",
    "mJm01yDDcTHi",
    "m6vPGA3pMpMv",
    "dhcWJFRooNQw"
   ],
   "name": "Multiplicative Schwarz.ipynb",
   "provenance": []
  },
  "kernelspec": {
   "display_name": "Python 3",
   "language": "python",
   "name": "python3"
  },
  "language_info": {
   "codemirror_mode": {
    "name": "ipython",
    "version": 3
   },
   "file_extension": ".py",
   "mimetype": "text/x-python",
   "name": "python",
   "nbconvert_exporter": "python",
   "pygments_lexer": "ipython3",
   "version": "3.6.13"
  }
 },
 "nbformat": 4,
 "nbformat_minor": 5
}
