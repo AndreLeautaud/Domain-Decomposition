{
 "cells": [
  {
   "cell_type": "markdown",
   "id": "9JxW5FUSiPQi",
   "metadata": {
    "id": "9JxW5FUSiPQi"
   },
   "source": [
    "# <span style=\"color:darkred\">Additive Schwarz  using multiple strategies</span>."
   ]
  },
  {
   "cell_type": "markdown",
   "id": "82a2f340",
   "metadata": {},
   "source": [
    "<img align=\"left\" src=\"Schwarz.jpg\" width=120 height=120 />"
   ]
  },
  {
   "cell_type": "markdown",
   "id": "10452e1e",
   "metadata": {},
   "source": [
    "### [Simon Tavener](https://www.math.colostate.edu/~tavener/) and Andre Leautaud"
   ]
  },
  {
   "cell_type": "markdown",
   "id": "37c3d377",
   "metadata": {},
   "source": [
    "#### Full text for this notebook can be found at the following [link](https://www.math.colostate.edu/~tavener/andre/DD_multiphysics.pdf)"
   ]
  },
  {
   "cell_type": "markdown",
   "id": "341614be",
   "metadata": {},
   "source": [
    "This notebook illustrates three ways of solving a system using Additive Schwarz. It first creates partitions and necessary matrices, then steps through the forms of iteration. It demonstrates C Iteration (each subdomain independently), D Iteration (subdomains calculated in parallel) and  U Iteration (computes all iterations as one matrix solve). In each, we keep track of total error, iteration error, and discretization error (true and estimates). If the estimates are good, and the system was solved, the effectivty ratio will be 1. It can read all parameters and the linear system from a csv. It can also create a csv. This csv is compatible with Multiplicative Schwarz and the MatLab Live files."
   ]
  },
  {
   "cell_type": "markdown",
   "id": "7a6624a4",
   "metadata": {},
   "source": [
    "#### Set path and parameters"
   ]
  },
  {
   "cell_type": "code",
   "execution_count": 79,
   "id": "c02b328d",
   "metadata": {
    "id": "5d2478a0"
   },
   "outputs": [],
   "source": [
    "# load necessary packages\n",
    "import numpy as np\n",
    "import math\n",
    "%run DD_Utilities.ipynb\n",
    "%run AS_Utilities.ipynb\n",
    "iprint= 4 # amount of output desired, 0, 2, 4, or 6"
   ]
  },
  {
   "cell_type": "code",
   "execution_count": 80,
   "id": "22595c7f",
   "metadata": {},
   "outputs": [],
   "source": [
    "iparam = 0"
   ]
  },
  {
   "cell_type": "code",
   "execution_count": 81,
   "id": "951c646c",
   "metadata": {
    "id": "5d2478a0"
   },
   "outputs": [],
   "source": [
    "if iparam == 0:\n",
    "    n= 10  # size of system\n",
    "    p= 4   # number of subomains\n",
    "    b= [1,2,4,7]  # indices of starts of subdomains (1 indexed), should be in ascending order.\n",
    "    e= [3,4,8,10] # indices of ends of subdomains (1 indexed), need not be in ascending order. \n",
    "                  # Setting e to an integer will make each subdomain overlap the next by that number.\n",
    "\n",
    "    K= 3   # number of iterations, should be less than 500\n",
    "    alpha= 0.5 # alpha is only used in multiplicative schwarz. Including it here makes the file i/o compatible.\n",
    "    mpert= 0.02"
   ]
  },
  {
   "cell_type": "code",
   "execution_count": 82,
   "id": "e4e16466",
   "metadata": {
    "id": "5d2478a0"
   },
   "outputs": [],
   "source": [
    "# This example shows how to create domains that each overlap by 1 column\n",
    "#small system\n",
    "if iparam == 1:\n",
    "    n= 8\n",
    "    p= 3 \n",
    "    b= [1,3,5]\n",
    "    e= 1 # causes each subdomain to overlap the previous by 1\n",
    "    K= 3\n",
    "    alpha= 0.5\n",
    "    mpert= 0.02"
   ]
  },
  {
   "cell_type": "code",
   "execution_count": 83,
   "id": "f150c634",
   "metadata": {
    "id": "5d2478a0"
   },
   "outputs": [],
   "source": [
    "# some subdomains embedded in others\n",
    "if iparam == 2:\n",
    "    n= 10\n",
    "    p= 5\n",
    "    b= [1,1,5,5,7]\n",
    "    e= [2,4,6,8,10] \n",
    "    K= 6\n",
    "    alpha= 0.5\n",
    "    mpert= 0.02"
   ]
  },
  {
   "cell_type": "code",
   "execution_count": 84,
   "id": "a50de85e",
   "metadata": {
    "id": "5d2478a0"
   },
   "outputs": [],
   "source": [
    "# overlap does not connect all subdomains\n",
    "if iparam == 3:\n",
    "    n= 9\n",
    "    p= 4 \n",
    "    b= [1,3,6,8]\n",
    "    e= [2,5,7,9]\n",
    "    K= 3\n",
    "    alpha= 0.5\n",
    "    mpert= 0.02"
   ]
  },
  {
   "cell_type": "code",
   "execution_count": 85,
   "id": "f916adb1",
   "metadata": {},
   "outputs": [],
   "source": [
    "if iparam == 4:\n",
    "    n= 12\n",
    "    p= 4 \n",
    "    b= [1,2,5,9]\n",
    "    e= [3,7,10,12]\n",
    "    K= 3\n",
    "    alpha= 0.5\n",
    "    mpert= 0.02"
   ]
  },
  {
   "cell_type": "code",
   "execution_count": 86,
   "id": "8f6978fe",
   "metadata": {
    "id": "5d2478a0"
   },
   "outputs": [
    {
     "name": "stdout",
     "output_type": "stream",
     "text": [
      "4 [1, 2, 4, 7] [3, 4, 8, 10]\n"
     ]
    }
   ],
   "source": [
    "print(p,b,e)\n",
    "nn,nb,ne,index= fix_domains(n,p,b,e,iprint)"
   ]
  },
  {
   "cell_type": "markdown",
   "id": "ca6d11cd",
   "metadata": {},
   "source": [
    "### Establish and solve forward system, $Mx=y$\n",
    "\n",
    "### Establish subdomains, partitions, number of iterations and random numerical error.  Read and/or save as appropriate"
   ]
  },
  {
   "cell_type": "code",
   "execution_count": 87,
   "id": "b3c84d28",
   "metadata": {
    "id": "5d2478a0"
   },
   "outputs": [
    {
     "name": "stdout",
     "output_type": "stream",
     "text": [
      "[[1.04170220e+01 7.20324493e-01 1.14374817e-04 3.02332573e-01\n",
      "  1.46755891e-01 9.23385948e-02 1.86260211e-01 3.45560727e-01\n",
      "  3.96767474e-01 5.38816734e-01]\n",
      " [4.19194514e-01 1.06852195e+01 2.04452250e-01 8.78117436e-01\n",
      "  2.73875932e-02 6.70467510e-01 4.17304802e-01 5.58689828e-01\n",
      "  1.40386939e-01 1.98101489e-01]\n",
      " [8.00744569e-01 9.68261576e-01 1.03134242e+01 6.92322616e-01\n",
      "  8.76389152e-01 8.94606664e-01 8.50442114e-02 3.90547832e-02\n",
      "  1.69830420e-01 8.78142503e-01]\n",
      " [9.83468338e-02 4.21107625e-01 9.57889530e-01 1.05331653e+01\n",
      "  6.91877114e-01 3.15515631e-01 6.86500928e-01 8.34625672e-01\n",
      "  1.82882773e-02 7.50144315e-01]\n",
      " [9.88861089e-01 7.48165654e-01 2.80443992e-01 7.89279328e-01\n",
      "  1.01032260e+01 4.47893526e-01 9.08595503e-01 2.93614148e-01\n",
      "  2.87775339e-01 1.30028572e-01]\n",
      " [1.93669579e-02 6.78835533e-01 2.11628116e-01 2.65546659e-01\n",
      "  4.91573159e-01 1.00533625e+01 5.74117605e-01 1.46728575e-01\n",
      "  5.89305537e-01 6.99758360e-01]\n",
      " [1.02334429e-01 4.14055988e-01 6.94400158e-01 4.14179270e-01\n",
      "  4.99534589e-02 5.35896406e-01 1.06637946e+01 5.14889112e-01\n",
      "  9.44594756e-01 5.86555041e-01]\n",
      " [9.03401915e-01 1.37474704e-01 1.39276347e-01 8.07391289e-01\n",
      "  3.97676837e-01 1.65354197e-01 9.27508580e-01 1.03477659e+01\n",
      "  7.50812103e-01 7.25997985e-01]\n",
      " [8.83306091e-01 6.23672207e-01 7.50942434e-01 3.48898342e-01\n",
      "  2.69927892e-01 8.95886218e-01 4.28091190e-01 9.64840047e-01\n",
      "  1.06634415e+01 6.21695720e-01]\n",
      " [1.14745973e-01 9.49489259e-01 4.49912133e-01 5.78389614e-01\n",
      "  4.08136803e-01 2.37026980e-01 9.03379521e-01 5.73679487e-01\n",
      "  2.87032703e-03 1.06171449e+01]]\n",
      "y\n",
      "[[0.3266449 ]\n",
      " [0.5270581 ]\n",
      " [0.8859421 ]\n",
      " [0.35726976]\n",
      " [0.90853515]\n",
      " [0.62336012]\n",
      " [0.01582124]\n",
      " [0.92943723]\n",
      " [0.69089692]\n",
      " [0.99732285]]\n",
      "x\n",
      "[[ 0.01907448]\n",
      " [ 0.03829528]\n",
      " [ 0.06190966]\n",
      " [ 0.00950827]\n",
      " [ 0.07805415]\n",
      " [ 0.04604749]\n",
      " [-0.01886262]\n",
      " [ 0.07548853]\n",
      " [ 0.03968094]\n",
      " [ 0.0806496 ]]\n"
     ]
    }
   ],
   "source": [
    "# Read and write capability. Usually only use one of sread and swrite, but it is acceptable to set both to True.\n",
    "sread= False   #Read system of equations from file_name. The solver will then ignore all of the parameters set above.\n",
    "swrite= True    #Write system to file_name file\n",
    "file_name= 'iparam' + str(iparam) + '.csv'\n",
    "\n",
    "M,x,y,xstore= Linear_system(n,sread,file_name)\n",
    "wpert= Make_wpert(n,p,K,sread,file_name) #Read or create wpert (depending on sread)\n",
    "\n",
    "if iprint >= 4:\n",
    "    print(M)\n",
    "    print('y')\n",
    "    print(y)\n",
    "    print('x')\n",
    "    print(x)\n",
    "\n",
    "if swrite:\n",
    "    save_to_csv(n,p,K,alpha,nb,nn,ne,M,y,mpert,wpert,iparam)"
   ]
  },
  {
   "cell_type": "markdown",
   "id": "d8815b91",
   "metadata": {},
   "source": [
    "### Iterative strategy\n",
    "$u^{\\{k\\}}= u^{\\{k-1\\}} + Br = u^{\\{k-1\\}} + B(f-Au^{\\{k-1\\}})$, $\\quad k=1, \\dots, K,$ where $B$ is an approximation to $A^{-1}$\n",
    "\n",
    "<ins>Additive<ins>\n",
    "$A_i= R_i A R_i^\\top \\in \\mathbb{R}^{m_i \\times m_i} \\\\\n",
    "B_i= R_i^\\top A_i^{-1} R_i  = R_i^\\top ( R_i A R_i^\\top)^{-1} R_i  \\in \\mathbb{R}^{n \\times n} \\\\\n",
    "C_i= B_i A   \\in \\mathbb{R}^{n \\times n} \\\\\n",
    "f_i= B_i f   \\in \\mathbb{R}^{n}\n",
    "$"
   ]
  },
  {
   "cell_type": "code",
   "execution_count": 88,
   "id": "5ed38fc1",
   "metadata": {
    "id": "5d2478a0"
   },
   "outputs": [
    {
     "name": "stdout",
     "output_type": "stream",
     "text": [
      "Print f vector \n",
      "i= 0\n",
      "[0.02812641 0.0467045  0.07933329 0.         0.         0.\n",
      " 0.         0.         0.         0.        ]\n",
      "i= 1\n",
      "[0.         0.04575664 0.07993995 0.02481948 0.         0.\n",
      " 0.         0.         0.         0.        ]\n",
      "i= 2\n",
      "[ 0.          0.          0.          0.02043265  0.08395934  0.0565028\n",
      " -0.00663193  0.08469071  0.          0.        ]\n",
      "i= 3\n",
      "[ 0.          0.          0.          0.          0.          0.\n",
      " -0.01206386  0.08072284  0.05269031  0.09058564]\n"
     ]
    }
   ],
   "source": [
    "#Construct domains, R,A,B,C, and f\n",
    "R= Rmatrices(n,p,nn,index,iprint)\n",
    "A= Amatrices(M,R,n,p,nn,iprint)\n",
    "B= Bmatrices(A,R,n,p,nn,iprint)\n",
    "C= Cmatrices(M,B,n,p,iprint) \n",
    "f= fvector(B,y,n,p,iprint)"
   ]
  },
  {
   "cell_type": "markdown",
   "id": "a3fe8765",
   "metadata": {},
   "source": [
    "####  $K$ iterations computing subdomain contributions independently [C iteration]\n",
    "$\n",
    "u^{\\{k\\}}= u^{\\{k-1\\}} + \\alpha \\sum_{i=1}^p B_i(f-Au^{\\{k-1\\}}) = u^{\\{k-1\\}} + \\alpha \\sum_{i=1}^p ( f_i-C_iu^{\\{k-1\\}}) \n",
    "$"
   ]
  },
  {
   "cell_type": "code",
   "execution_count": 89,
   "id": "45356c0e",
   "metadata": {
    "id": "5d2478a0"
   },
   "outputs": [
    {
     "name": "stdout",
     "output_type": "stream",
     "text": [
      "Outer iteration 0\n",
      "[[ 0.01406321  0.04623057  0.07963662  0.02262606  0.04197967  0.0282514\n",
      "  -0.0093479   0.08270677  0.02634515  0.04529282]]\n",
      "Outer iteration 1\n",
      "[[ 0.01767509  0.03881777  0.06914326  0.01140214  0.05996826  0.038255\n",
      "  -0.01861866  0.07756918  0.03334546  0.06282098]]\n",
      "Outer iteration 2\n",
      "[[ 0.01903506  0.03889105  0.06554565  0.01078518  0.06905644  0.04282024\n",
      "  -0.01849901  0.07660322  0.03678929  0.07193951]]\n"
     ]
    }
   ],
   "source": [
    "#Perform C iteration\n",
    "vstore= Citeration_additive(C,f,alpha,n,p,K,iprint)"
   ]
  },
  {
   "cell_type": "code",
   "execution_count": 90,
   "id": "b4403d97",
   "metadata": {
    "id": "5d2478a0"
   },
   "outputs": [
    {
     "name": "stdout",
     "output_type": "stream",
     "text": [
      "vstore\n",
      "[[ 0.01406321]\n",
      " [ 0.04623057]\n",
      " [ 0.07963662]\n",
      " [ 0.02262606]\n",
      " [ 0.04197967]\n",
      " [ 0.0282514 ]\n",
      " [-0.0093479 ]\n",
      " [ 0.08270677]\n",
      " [ 0.02634515]\n",
      " [ 0.04529282]\n",
      " [ 0.01767509]\n",
      " [ 0.03881777]\n",
      " [ 0.06914326]\n",
      " [ 0.01140214]\n",
      " [ 0.05996826]\n",
      " [ 0.038255  ]\n",
      " [-0.01861866]\n",
      " [ 0.07756918]\n",
      " [ 0.03334546]\n",
      " [ 0.06282098]\n",
      " [ 0.01903506]\n",
      " [ 0.03889105]\n",
      " [ 0.06554565]\n",
      " [ 0.01078518]\n",
      " [ 0.06905644]\n",
      " [ 0.04282024]\n",
      " [-0.01849901]\n",
      " [ 0.07660322]\n",
      " [ 0.03678929]\n",
      " [ 0.07193951]]\n"
     ]
    }
   ],
   "source": [
    "if iprint >= 4:\n",
    "    print('vstore')\n",
    "    print(vstore)"
   ]
  },
  {
   "cell_type": "markdown",
   "id": "f9c54706",
   "metadata": {},
   "source": [
    "####  $K$ iterations combining $p$  (parallel) subdomain solves [D iteration]\n",
    "\n",
    "<ins>Additive Schwarz<ins>\n",
    "    \n",
    "$u^{\\{k\\}}= D u^{\\{k-1\\}} + g, \\qquad \n",
    "D = I-\\alpha \\sum_{i=1}^p C_i, \\quad g= \\alpha \\sum_{i=1}^p f_i$\n"
   ]
  },
  {
   "cell_type": "code",
   "execution_count": 91,
   "id": "702d631b",
   "metadata": {
    "id": "5d2478a0"
   },
   "outputs": [
    {
     "name": "stdout",
     "output_type": "stream",
     "text": [
      "dmatrix_additive:  matrix\n",
      "[[ 5.00e-01 -0.00e+00 -0.00e+00 -1.17e-02 -7.00e-03 -2.30e-03 -7.60e-03\n",
      "  -1.48e-02 -1.86e-02 -2.53e-02]\n",
      " [-1.89e-02  0.00e+00  0.00e+00 -4.01e-02  1.70e-03 -6.03e-02 -3.61e-02\n",
      "  -4.86e-02 -1.21e-02 -1.34e-02]\n",
      " [-3.70e-02 -0.00e+00  0.00e+00 -2.89e-02 -8.26e-02 -8.02e-02 -2.10e-03\n",
      "   4.50e-03 -1.39e-02 -7.98e-02]\n",
      " [ 1.30e-03 -1.56e-02 -4.28e-02  0.00e+00 -2.92e-02 -1.02e-02 -3.19e-02\n",
      "  -3.90e-02  5.80e-03 -6.25e-02]\n",
      " [-4.77e-02 -3.29e-02 -7.50e-03 -0.00e+00  5.00e-01 -0.00e+00 -0.00e+00\n",
      "  -0.00e+00 -8.90e-03  4.00e-04]\n",
      " [ 2.10e-03 -3.07e-02 -7.30e-03 -0.00e+00 -0.00e+00  5.00e-01 -0.00e+00\n",
      "  -0.00e+00 -2.62e-02 -3.22e-02]\n",
      " [-2.10e-03 -3.17e-02 -5.91e-02 -1.54e-02  4.00e-04 -2.09e-02  0.00e+00\n",
      "  -0.00e+00 -4.16e-02 -2.32e-02]\n",
      " [-8.25e-02 -2.50e-03 -7.00e-04 -3.51e-02 -1.72e-02 -2.50e-03 -0.00e+00\n",
      "   0.00e+00 -3.22e-02 -3.01e-02]\n",
      " [-3.76e-02 -2.61e-02 -3.29e-02 -1.12e-02 -1.00e-02 -4.04e-02  0.00e+00\n",
      "   0.00e+00  5.00e-01  0.00e+00]\n",
      " [-3.20e-03 -4.34e-02 -1.87e-02 -2.40e-02 -1.83e-02 -9.20e-03 -0.00e+00\n",
      "   0.00e+00  0.00e+00  5.00e-01]]\n"
     ]
    }
   ],
   "source": [
    "# Perform D iteration\n",
    "#Construct D and g and solve\n",
    "D= Dmatrix_additive(C,alpha,n,p,iprint)"
   ]
  },
  {
   "cell_type": "code",
   "execution_count": 92,
   "id": "6e39ace6",
   "metadata": {
    "id": "5d2478a0"
   },
   "outputs": [
    {
     "name": "stdout",
     "output_type": "stream",
     "text": [
      "Print g vector\n",
      "[[ 0.01406321]\n",
      " [ 0.04623057]\n",
      " [ 0.07963662]\n",
      " [ 0.02262606]\n",
      " [ 0.04197967]\n",
      " [ 0.0282514 ]\n",
      " [-0.0093479 ]\n",
      " [ 0.08270677]\n",
      " [ 0.02634515]\n",
      " [ 0.04529282]]\n"
     ]
    }
   ],
   "source": [
    "g= gvector_additive(f,alpha,n,p,iprint)"
   ]
  },
  {
   "cell_type": "code",
   "execution_count": 93,
   "id": "92b06260",
   "metadata": {
    "id": "5d2478a0"
   },
   "outputs": [
    {
     "name": "stdout",
     "output_type": "stream",
     "text": [
      "Diteration_additive: w at iteration  0\n",
      "[[ 0.03254028]\n",
      " [-0.0932145 ]\n",
      " [-0.13836287]\n",
      " [-0.12724521]\n",
      " [ 0.17702969]\n",
      " [ 0.42700268]\n",
      " [-0.16452912]\n",
      " [-0.0167966 ]\n",
      " [ 0.22468827]\n",
      " [ 0.44874272]]\n",
      "Diteration_additive: w at iteration  1\n",
      "[[ 0.01553034]\n",
      " [ 0.02328173]\n",
      " [-0.00542358]\n",
      " [-0.00030726]\n",
      " [ 0.13121031]\n",
      " [ 0.22534342]\n",
      " [-0.02496223]\n",
      " [ 0.05994513]\n",
      " [ 0.12684588]\n",
      " [ 0.27206851]]\n",
      "Diteration_additive: w at iteration  2\n",
      "[[ 0.01042788]\n",
      " [ 0.02538611]\n",
      " [ 0.02700841]\n",
      " [-0.00141403]\n",
      " [ 0.10509495]\n",
      " [ 0.12818648]\n",
      " [-0.02605409]\n",
      " [ 0.06627051]\n",
      " [ 0.07833757]\n",
      " [ 0.17588957]]\n",
      "norm(D)=  1.151021e+00\n",
      "Asymptotic solution: z= inv(I-D)@g\n",
      "K=     3, norm(w-z)=  1.405649e-01\n"
     ]
    }
   ],
   "source": [
    "# print('Perform D iteration \\n')\n",
    "wstore= Diteration_additive(D,g,n,p,K,iprint)"
   ]
  },
  {
   "cell_type": "code",
   "execution_count": 94,
   "id": "ebf6414f",
   "metadata": {
    "id": "5d2478a0",
    "scrolled": false
   },
   "outputs": [
    {
     "name": "stdout",
     "output_type": "stream",
     "text": [
      "wstore\n",
      "[[ 3.25402760e-02]\n",
      " [-9.32145038e-02]\n",
      " [-1.38362873e-01]\n",
      " [-1.27245210e-01]\n",
      " [ 1.77029688e-01]\n",
      " [ 4.27002676e-01]\n",
      " [-1.64529119e-01]\n",
      " [-1.67965977e-02]\n",
      " [ 2.24688275e-01]\n",
      " [ 4.48742721e-01]\n",
      " [ 1.55303354e-02]\n",
      " [ 2.32817269e-02]\n",
      " [-5.42358453e-03]\n",
      " [-3.07258782e-04]\n",
      " [ 1.31210305e-01]\n",
      " [ 2.25343423e-01]\n",
      " [-2.49622333e-02]\n",
      " [ 5.99451253e-02]\n",
      " [ 1.26845882e-01]\n",
      " [ 2.72068514e-01]\n",
      " [ 1.04278806e-02]\n",
      " [ 2.53861144e-02]\n",
      " [ 2.70084055e-02]\n",
      " [-1.41402983e-03]\n",
      " [ 1.05094947e-01]\n",
      " [ 1.28186476e-01]\n",
      " [-2.60540907e-02]\n",
      " [ 6.62705051e-02]\n",
      " [ 7.83375726e-02]\n",
      " [ 1.75889565e-01]]\n"
     ]
    }
   ],
   "source": [
    "if iprint >= 2:\n",
    "    print('wstore')\n",
    "    print(wstore)"
   ]
  },
  {
   "cell_type": "markdown",
   "id": "707665d0",
   "metadata": {},
   "source": [
    "#### Perform $K$ iterations as single matrix solve [U iteration]\n",
    "\n",
    "$K=6$ iterations of multiplicative Schwarz can be written as the $nK$-dimensional system of equations\n",
    "\n",
    "<ins>Additive Schwarz<ins>\n",
    "\n",
    "$Uz=\n",
    "\\pmatrix{\n",
    " I & 0 & 0 & 0 & 0 & 0   \\cr\n",
    " -D &I & 0 & 0 & 0 & 0   \\cr\n",
    " 0 & -D & I & 0 & 0 & 0   \\cr\n",
    " 0 & 0 & -D & I & 0 & 0   \\cr\n",
    " 0 & 0 & 0 & -D & I & 0   \\cr\n",
    " 0 & 0 & 0 & 0 & -D & I\n",
    "}$\n",
    "$\\pmatrix{\n",
    "v^{\\{1\\}}  \\cr\n",
    "v^{\\{2\\}}  \\cr\n",
    "v^{\\{3\\}}  \\cr\n",
    "v^{\\{4\\}}  \\cr\n",
    "v^{\\{5\\}}  \\cr\n",
    "v^{\\{6\\}}\n",
    "}$\n",
    "$\\pmatrix{\n",
    "g  \\cr\n",
    "g  \\cr\n",
    "g  \\cr\n",
    "g  \\cr\n",
    "g  \\cr\n",
    "g\n",
    "}\n",
    "=h$"
   ]
  },
  {
   "cell_type": "code",
   "execution_count": 95,
   "id": "5a26f83b",
   "metadata": {
    "id": "5d2478a0"
   },
   "outputs": [
    {
     "name": "stdout",
     "output_type": "stream",
     "text": [
      "U matrix\n",
      "[[ 1.   0.   0.   0.   0.   0.   0.   0.   0.   0.   0.   0.   0.   0.\n",
      "   0.   0.   0.   0.   0.   0.   0.   0.   0.   0.   0.   0.   0.   0.\n",
      "   0.   0. ]\n",
      " [ 0.   1.   0.   0.   0.   0.   0.   0.   0.   0.   0.   0.   0.   0.\n",
      "   0.   0.   0.   0.   0.   0.   0.   0.   0.   0.   0.   0.   0.   0.\n",
      "   0.   0. ]\n",
      " [ 0.   0.   1.   0.   0.   0.   0.   0.   0.   0.   0.   0.   0.   0.\n",
      "   0.   0.   0.   0.   0.   0.   0.   0.   0.   0.   0.   0.   0.   0.\n",
      "   0.   0. ]\n",
      " [ 0.   0.   0.   1.   0.   0.   0.   0.   0.   0.   0.   0.   0.   0.\n",
      "   0.   0.   0.   0.   0.   0.   0.   0.   0.   0.   0.   0.   0.   0.\n",
      "   0.   0. ]\n",
      " [ 0.   0.   0.   0.   1.   0.   0.   0.   0.   0.   0.   0.   0.   0.\n",
      "   0.   0.   0.   0.   0.   0.   0.   0.   0.   0.   0.   0.   0.   0.\n",
      "   0.   0. ]\n",
      " [ 0.   0.   0.   0.   0.   1.   0.   0.   0.   0.   0.   0.   0.   0.\n",
      "   0.   0.   0.   0.   0.   0.   0.   0.   0.   0.   0.   0.   0.   0.\n",
      "   0.   0. ]\n",
      " [ 0.   0.   0.   0.   0.   0.   1.   0.   0.   0.   0.   0.   0.   0.\n",
      "   0.   0.   0.   0.   0.   0.   0.   0.   0.   0.   0.   0.   0.   0.\n",
      "   0.   0. ]\n",
      " [ 0.   0.   0.   0.   0.   0.   0.   1.   0.   0.   0.   0.   0.   0.\n",
      "   0.   0.   0.   0.   0.   0.   0.   0.   0.   0.   0.   0.   0.   0.\n",
      "   0.   0. ]\n",
      " [ 0.   0.   0.   0.   0.   0.   0.   0.   1.   0.   0.   0.   0.   0.\n",
      "   0.   0.   0.   0.   0.   0.   0.   0.   0.   0.   0.   0.   0.   0.\n",
      "   0.   0. ]\n",
      " [ 0.   0.   0.   0.   0.   0.   0.   0.   0.   1.   0.   0.   0.   0.\n",
      "   0.   0.   0.   0.   0.   0.   0.   0.   0.   0.   0.   0.   0.   0.\n",
      "   0.   0. ]\n",
      " [-0.5  0.   0.   0.   0.   0.   0.   0.   0.   0.   1.   0.   0.   0.\n",
      "   0.   0.   0.   0.   0.   0.   0.   0.   0.   0.   0.   0.   0.   0.\n",
      "   0.   0. ]\n",
      " [ 0.  -0.  -0.   0.  -0.   0.1  0.   0.   0.   0.   0.   1.   0.   0.\n",
      "   0.   0.   0.   0.   0.   0.   0.   0.   0.   0.   0.   0.   0.   0.\n",
      "   0.   0. ]\n",
      " [ 0.   0.  -0.   0.   0.1  0.1  0.  -0.   0.   0.1  0.   0.   1.   0.\n",
      "   0.   0.   0.   0.   0.   0.   0.   0.   0.   0.   0.   0.   0.   0.\n",
      "   0.   0. ]\n",
      " [-0.   0.   0.  -0.   0.   0.   0.   0.  -0.   0.1  0.   0.   0.   1.\n",
      "   0.   0.   0.   0.   0.   0.   0.   0.   0.   0.   0.   0.   0.   0.\n",
      "   0.   0. ]\n",
      " [ 0.   0.   0.   0.  -0.5  0.   0.   0.   0.  -0.   0.   0.   0.   0.\n",
      "   1.   0.   0.   0.   0.   0.   0.   0.   0.   0.   0.   0.   0.   0.\n",
      "   0.   0. ]\n",
      " [-0.   0.   0.   0.   0.  -0.5  0.   0.   0.   0.   0.   0.   0.   0.\n",
      "   0.   1.   0.   0.   0.   0.   0.   0.   0.   0.   0.   0.   0.   0.\n",
      "   0.   0. ]\n",
      " [ 0.   0.   0.1  0.  -0.   0.  -0.   0.   0.   0.   0.   0.   0.   0.\n",
      "   0.   0.   1.   0.   0.   0.   0.   0.   0.   0.   0.   0.   0.   0.\n",
      "   0.   0. ]\n",
      " [ 0.1  0.   0.   0.   0.   0.   0.  -0.   0.   0.   0.   0.   0.   0.\n",
      "   0.   0.   0.   1.   0.   0.   0.   0.   0.   0.   0.   0.   0.   0.\n",
      "   0.   0. ]\n",
      " [ 0.   0.   0.   0.   0.   0.  -0.  -0.  -0.5 -0.   0.   0.   0.   0.\n",
      "   0.   0.   0.   0.   1.   0.   0.   0.   0.   0.   0.   0.   0.   0.\n",
      "   0.   0. ]\n",
      " [ 0.   0.   0.   0.   0.   0.   0.  -0.  -0.  -0.5  0.   0.   0.   0.\n",
      "   0.   0.   0.   0.   0.   1.   0.   0.   0.   0.   0.   0.   0.   0.\n",
      "   0.   0. ]\n",
      " [ 0.   0.   0.   0.   0.   0.   0.   0.   0.   0.  -0.5  0.   0.   0.\n",
      "   0.   0.   0.   0.   0.   0.   1.   0.   0.   0.   0.   0.   0.   0.\n",
      "   0.   0. ]\n",
      " [ 0.   0.   0.   0.   0.   0.   0.   0.   0.   0.   0.  -0.  -0.   0.\n",
      "  -0.   0.1  0.   0.   0.   0.   0.   1.   0.   0.   0.   0.   0.   0.\n",
      "   0.   0. ]\n",
      " [ 0.   0.   0.   0.   0.   0.   0.   0.   0.   0.   0.   0.  -0.   0.\n",
      "   0.1  0.1  0.  -0.   0.   0.1  0.   0.   1.   0.   0.   0.   0.   0.\n",
      "   0.   0. ]\n",
      " [ 0.   0.   0.   0.   0.   0.   0.   0.   0.   0.  -0.   0.   0.  -0.\n",
      "   0.   0.   0.   0.  -0.   0.1  0.   0.   0.   1.   0.   0.   0.   0.\n",
      "   0.   0. ]\n",
      " [ 0.   0.   0.   0.   0.   0.   0.   0.   0.   0.   0.   0.   0.   0.\n",
      "  -0.5  0.   0.   0.   0.  -0.   0.   0.   0.   0.   1.   0.   0.   0.\n",
      "   0.   0. ]\n",
      " [ 0.   0.   0.   0.   0.   0.   0.   0.   0.   0.  -0.   0.   0.   0.\n",
      "   0.  -0.5  0.   0.   0.   0.   0.   0.   0.   0.   0.   1.   0.   0.\n",
      "   0.   0. ]\n",
      " [ 0.   0.   0.   0.   0.   0.   0.   0.   0.   0.   0.   0.   0.1  0.\n",
      "  -0.   0.  -0.   0.   0.   0.   0.   0.   0.   0.   0.   0.   1.   0.\n",
      "   0.   0. ]\n",
      " [ 0.   0.   0.   0.   0.   0.   0.   0.   0.   0.   0.1  0.   0.   0.\n",
      "   0.   0.   0.  -0.   0.   0.   0.   0.   0.   0.   0.   0.   0.   1.\n",
      "   0.   0. ]\n",
      " [ 0.   0.   0.   0.   0.   0.   0.   0.   0.   0.   0.   0.   0.   0.\n",
      "   0.   0.  -0.  -0.  -0.5 -0.   0.   0.   0.   0.   0.   0.   0.   0.\n",
      "   1.   0. ]\n",
      " [ 0.   0.   0.   0.   0.   0.   0.   0.   0.   0.   0.   0.   0.   0.\n",
      "   0.   0.   0.  -0.  -0.  -0.5  0.   0.   0.   0.   0.   0.   0.   0.\n",
      "   0.   1. ]]\n",
      "h vector\n",
      "[[ 0.01406321]\n",
      " [ 0.04623057]\n",
      " [ 0.07963662]\n",
      " [ 0.02262606]\n",
      " [ 0.04197967]\n",
      " [ 0.0282514 ]\n",
      " [-0.0093479 ]\n",
      " [ 0.08270677]\n",
      " [ 0.02634515]\n",
      " [ 0.04529282]\n",
      " [ 0.01406321]\n",
      " [ 0.04623057]\n",
      " [ 0.07963662]\n",
      " [ 0.02262606]\n",
      " [ 0.04197967]\n",
      " [ 0.0282514 ]\n",
      " [-0.0093479 ]\n",
      " [ 0.08270677]\n",
      " [ 0.02634515]\n",
      " [ 0.04529282]\n",
      " [ 0.01406321]\n",
      " [ 0.04623057]\n",
      " [ 0.07963662]\n",
      " [ 0.02262606]\n",
      " [ 0.04197967]\n",
      " [ 0.0282514 ]\n",
      " [-0.0093479 ]\n",
      " [ 0.08270677]\n",
      " [ 0.02634515]\n",
      " [ 0.04529282]]\n"
     ]
    }
   ],
   "source": [
    "# Perform U iteration\n",
    "# Construct U and h\n",
    "U= Umatrix_additive(D,n,K,iprint)\n",
    "h= hvector_additive(g,n,K,iprint)"
   ]
  },
  {
   "cell_type": "code",
   "execution_count": 96,
   "id": "0a1b7eac",
   "metadata": {
    "id": "5d2478a0"
   },
   "outputs": [
    {
     "name": "stdout",
     "output_type": "stream",
     "text": [
      "Uhsolve_additive: z at iteration 0\n",
      "[ 0.01406321  0.04623057  0.07963662  0.02262606  0.04197967  0.0282514\n",
      " -0.0093479   0.08270677  0.02634515  0.04529282]\n",
      "Uhsolve_additive: z at iteration 1\n",
      "[ 0.01767509  0.03881777  0.06914326  0.01140214  0.05996826  0.038255\n",
      " -0.01861866  0.07756918  0.03334546  0.06282098]\n",
      "Uhsolve_additive: z at iteration 2\n",
      "[ 0.01903506  0.03889105  0.06554565  0.01078518  0.06905644  0.04282024\n",
      " -0.01849901  0.07660322  0.03678929  0.07193951]\n"
     ]
    }
   ],
   "source": [
    "# Solve using Uz= h\n",
    "zstore= Uhsolve_additive(U,h,n,K,iprint)"
   ]
  },
  {
   "cell_type": "code",
   "execution_count": 97,
   "id": "eb6c1223",
   "metadata": {
    "id": "5d2478a0"
   },
   "outputs": [
    {
     "name": "stdout",
     "output_type": "stream",
     "text": [
      "zstore\n",
      "[[ 0.01406321]\n",
      " [ 0.04623057]\n",
      " [ 0.07963662]\n",
      " [ 0.02262606]\n",
      " [ 0.04197967]\n",
      " [ 0.0282514 ]\n",
      " [-0.0093479 ]\n",
      " [ 0.08270677]\n",
      " [ 0.02634515]\n",
      " [ 0.04529282]\n",
      " [ 0.01767509]\n",
      " [ 0.03881777]\n",
      " [ 0.06914326]\n",
      " [ 0.01140214]\n",
      " [ 0.05996826]\n",
      " [ 0.038255  ]\n",
      " [-0.01861866]\n",
      " [ 0.07756918]\n",
      " [ 0.03334546]\n",
      " [ 0.06282098]\n",
      " [ 0.01903506]\n",
      " [ 0.03889105]\n",
      " [ 0.06554565]\n",
      " [ 0.01078518]\n",
      " [ 0.06905644]\n",
      " [ 0.04282024]\n",
      " [-0.01849901]\n",
      " [ 0.07660322]\n",
      " [ 0.03678929]\n",
      " [ 0.07193951]]\n"
     ]
    }
   ],
   "source": [
    "if iprint >= 4:\n",
    "    print('zstore')\n",
    "    print(zstore)"
   ]
  },
  {
   "cell_type": "markdown",
   "id": "1aa8b066",
   "metadata": {},
   "source": [
    "#### Compare Solutions from all three methods"
   ]
  },
  {
   "cell_type": "code",
   "execution_count": 98,
   "id": "ad3e2be2",
   "metadata": {
    "id": "5d2478a0",
    "scrolled": true
   },
   "outputs": [
    {
     "name": "stdout",
     "output_type": "stream",
     "text": [
      "norm(exact - iterative) solutions    =  1.386302e-02\n",
      "Difference between vstore and wstore =  7.906816e-01\n",
      "Difference between wstore and zstore =  7.906816e-01\n",
      "Difference between vstore and zstore =  3.327777e-17\n"
     ]
    }
   ],
   "source": [
    "solution_compare(xstore,vstore,wstore,zstore,iprint)"
   ]
  },
  {
   "cell_type": "markdown",
   "id": "83d9d8ca",
   "metadata": {},
   "source": [
    "### Add discretization error and compute error estimate"
   ]
  },
  {
   "cell_type": "markdown",
   "id": "02dde6e0",
   "metadata": {},
   "source": [
    "#### C iteration with error"
   ]
  },
  {
   "cell_type": "code",
   "execution_count": 99,
   "id": "561904df",
   "metadata": {
    "scrolled": true
   },
   "outputs": [
    {
     "name": "stdout",
     "output_type": "stream",
     "text": [
      "Citeration_additive_approx: Outer iteration 0\n",
      "Difference = 6.4823e-02\n",
      "dmatrix_additive:  matrix\n",
      "[[ 5.00e-01 -0.00e+00 -0.00e+00 -1.17e-02 -7.00e-03 -2.30e-03 -7.60e-03\n",
      "  -1.48e-02 -1.86e-02 -2.53e-02]\n",
      " [-1.89e-02  0.00e+00  0.00e+00 -4.01e-02  1.70e-03 -6.03e-02 -3.61e-02\n",
      "  -4.86e-02 -1.21e-02 -1.34e-02]\n",
      " [-3.70e-02 -0.00e+00  0.00e+00 -2.89e-02 -8.26e-02 -8.02e-02 -2.10e-03\n",
      "   4.50e-03 -1.39e-02 -7.98e-02]\n",
      " [ 1.30e-03 -1.56e-02 -4.28e-02  0.00e+00 -2.92e-02 -1.02e-02 -3.19e-02\n",
      "  -3.90e-02  5.80e-03 -6.25e-02]\n",
      " [-4.77e-02 -3.29e-02 -7.50e-03 -0.00e+00  5.00e-01 -0.00e+00 -0.00e+00\n",
      "  -0.00e+00 -8.90e-03  4.00e-04]\n",
      " [ 2.10e-03 -3.07e-02 -7.30e-03 -0.00e+00 -0.00e+00  5.00e-01 -0.00e+00\n",
      "  -0.00e+00 -2.62e-02 -3.22e-02]\n",
      " [-2.10e-03 -3.17e-02 -5.91e-02 -1.54e-02  4.00e-04 -2.09e-02  0.00e+00\n",
      "  -0.00e+00 -4.16e-02 -2.32e-02]\n",
      " [-8.25e-02 -2.50e-03 -7.00e-04 -3.51e-02 -1.72e-02 -2.50e-03 -0.00e+00\n",
      "   0.00e+00 -3.22e-02 -3.01e-02]\n",
      " [-3.76e-02 -2.61e-02 -3.29e-02 -1.12e-02 -1.00e-02 -4.04e-02  0.00e+00\n",
      "   0.00e+00  5.00e-01  0.00e+00]\n",
      " [-3.20e-03 -4.34e-02 -1.87e-02 -2.40e-02 -1.83e-02 -9.20e-03 -0.00e+00\n",
      "   0.00e+00  0.00e+00  5.00e-01]]\n",
      "Print g vector\n",
      "[[ 0.01406321]\n",
      " [ 0.04623057]\n",
      " [ 0.07963662]\n",
      " [ 0.02262606]\n",
      " [ 0.04197967]\n",
      " [ 0.0282514 ]\n",
      " [-0.0093479 ]\n",
      " [ 0.08270677]\n",
      " [ 0.02634515]\n",
      " [ 0.04529282]]\n",
      "Citeration_additive_approx: Outer iteration 1\n",
      "Difference = 8.8154e-02\n",
      "dmatrix_additive:  matrix\n",
      "[[ 5.00e-01 -0.00e+00 -0.00e+00 -1.17e-02 -7.00e-03 -2.30e-03 -7.60e-03\n",
      "  -1.48e-02 -1.86e-02 -2.53e-02]\n",
      " [-1.89e-02  0.00e+00  0.00e+00 -4.01e-02  1.70e-03 -6.03e-02 -3.61e-02\n",
      "  -4.86e-02 -1.21e-02 -1.34e-02]\n",
      " [-3.70e-02 -0.00e+00  0.00e+00 -2.89e-02 -8.26e-02 -8.02e-02 -2.10e-03\n",
      "   4.50e-03 -1.39e-02 -7.98e-02]\n",
      " [ 1.30e-03 -1.56e-02 -4.28e-02  0.00e+00 -2.92e-02 -1.02e-02 -3.19e-02\n",
      "  -3.90e-02  5.80e-03 -6.25e-02]\n",
      " [-4.77e-02 -3.29e-02 -7.50e-03 -0.00e+00  5.00e-01 -0.00e+00 -0.00e+00\n",
      "  -0.00e+00 -8.90e-03  4.00e-04]\n",
      " [ 2.10e-03 -3.07e-02 -7.30e-03 -0.00e+00 -0.00e+00  5.00e-01 -0.00e+00\n",
      "  -0.00e+00 -2.62e-02 -3.22e-02]\n",
      " [-2.10e-03 -3.17e-02 -5.91e-02 -1.54e-02  4.00e-04 -2.09e-02  0.00e+00\n",
      "  -0.00e+00 -4.16e-02 -2.32e-02]\n",
      " [-8.25e-02 -2.50e-03 -7.00e-04 -3.51e-02 -1.72e-02 -2.50e-03 -0.00e+00\n",
      "   0.00e+00 -3.22e-02 -3.01e-02]\n",
      " [-3.76e-02 -2.61e-02 -3.29e-02 -1.12e-02 -1.00e-02 -4.04e-02  0.00e+00\n",
      "   0.00e+00  5.00e-01  0.00e+00]\n",
      " [-3.20e-03 -4.34e-02 -1.87e-02 -2.40e-02 -1.83e-02 -9.20e-03 -0.00e+00\n",
      "   0.00e+00  0.00e+00  5.00e-01]]\n",
      "Print g vector\n",
      "[[ 0.01406321]\n",
      " [ 0.04623057]\n",
      " [ 0.07963662]\n",
      " [ 0.02262606]\n",
      " [ 0.04197967]\n",
      " [ 0.0282514 ]\n",
      " [-0.0093479 ]\n",
      " [ 0.08270677]\n",
      " [ 0.02634515]\n",
      " [ 0.04529282]]\n",
      "Citeration_additive_approx: Outer iteration 2\n",
      "Difference = 6.2964e-02\n",
      "dmatrix_additive:  matrix\n",
      "[[ 5.00e-01 -0.00e+00 -0.00e+00 -1.17e-02 -7.00e-03 -2.30e-03 -7.60e-03\n",
      "  -1.48e-02 -1.86e-02 -2.53e-02]\n",
      " [-1.89e-02  0.00e+00  0.00e+00 -4.01e-02  1.70e-03 -6.03e-02 -3.61e-02\n",
      "  -4.86e-02 -1.21e-02 -1.34e-02]\n",
      " [-3.70e-02 -0.00e+00  0.00e+00 -2.89e-02 -8.26e-02 -8.02e-02 -2.10e-03\n",
      "   4.50e-03 -1.39e-02 -7.98e-02]\n",
      " [ 1.30e-03 -1.56e-02 -4.28e-02  0.00e+00 -2.92e-02 -1.02e-02 -3.19e-02\n",
      "  -3.90e-02  5.80e-03 -6.25e-02]\n",
      " [-4.77e-02 -3.29e-02 -7.50e-03 -0.00e+00  5.00e-01 -0.00e+00 -0.00e+00\n",
      "  -0.00e+00 -8.90e-03  4.00e-04]\n",
      " [ 2.10e-03 -3.07e-02 -7.30e-03 -0.00e+00 -0.00e+00  5.00e-01 -0.00e+00\n",
      "  -0.00e+00 -2.62e-02 -3.22e-02]\n",
      " [-2.10e-03 -3.17e-02 -5.91e-02 -1.54e-02  4.00e-04 -2.09e-02  0.00e+00\n",
      "  -0.00e+00 -4.16e-02 -2.32e-02]\n",
      " [-8.25e-02 -2.50e-03 -7.00e-04 -3.51e-02 -1.72e-02 -2.50e-03 -0.00e+00\n",
      "   0.00e+00 -3.22e-02 -3.01e-02]\n",
      " [-3.76e-02 -2.61e-02 -3.29e-02 -1.12e-02 -1.00e-02 -4.04e-02  0.00e+00\n",
      "   0.00e+00  5.00e-01  0.00e+00]\n",
      " [-3.20e-03 -4.34e-02 -1.87e-02 -2.40e-02 -1.83e-02 -9.20e-03 -0.00e+00\n",
      "   0.00e+00  0.00e+00  5.00e-01]]\n",
      "Print g vector\n",
      "[[ 0.01406321]\n",
      " [ 0.04623057]\n",
      " [ 0.07963662]\n",
      " [ 0.02262606]\n",
      " [ 0.04197967]\n",
      " [ 0.0282514 ]\n",
      " [-0.0093479 ]\n",
      " [ 0.08270677]\n",
      " [ 0.02634515]\n",
      " [ 0.04529282]]\n",
      "vglobal_store\n",
      "[[ 0.01406321]\n",
      " [ 0.04623057]\n",
      " [ 0.07963662]\n",
      " [ 0.02262606]\n",
      " [ 0.04197967]\n",
      " [ 0.0282514 ]\n",
      " [-0.0093479 ]\n",
      " [ 0.08270677]\n",
      " [ 0.02634515]\n",
      " [ 0.04529282]\n",
      " [ 0.01767509]\n",
      " [ 0.03881777]\n",
      " [ 0.06914326]\n",
      " [ 0.01140214]\n",
      " [ 0.05996826]\n",
      " [ 0.038255  ]\n",
      " [-0.01861866]\n",
      " [ 0.07756918]\n",
      " [ 0.03334546]\n",
      " [ 0.06282098]\n",
      " [ 0.01903506]\n",
      " [ 0.03889105]\n",
      " [ 0.06554565]\n",
      " [ 0.01078518]\n",
      " [ 0.06905644]\n",
      " [ 0.04282024]\n",
      " [-0.01849901]\n",
      " [ 0.07660322]\n",
      " [ 0.03678929]\n",
      " [ 0.07193951]]\n",
      "vaglobal_store\n",
      "[[ 0.        ]\n",
      " [ 0.        ]\n",
      " [ 0.        ]\n",
      " [ 0.        ]\n",
      " [ 0.        ]\n",
      " [ 0.        ]\n",
      " [ 0.        ]\n",
      " [ 0.        ]\n",
      " [ 0.        ]\n",
      " [ 0.        ]\n",
      " [ 0.02700494]\n",
      " [ 0.0269913 ]\n",
      " [ 0.07327491]\n",
      " [ 0.00462872]\n",
      " [ 0.06426754]\n",
      " [-0.01272683]\n",
      " [-0.00602607]\n",
      " [ 0.05930258]\n",
      " [ 0.04387682]\n",
      " [ 0.06135126]\n",
      " [ 0.00298152]\n",
      " [ 0.03747736]\n",
      " [ 0.05682475]\n",
      " [ 0.03087387]\n",
      " [ 0.07748542]\n",
      " [-0.00402756]\n",
      " [ 0.00093439]\n",
      " [ 0.12964966]\n",
      " [ 0.07218315]\n",
      " [ 0.08084405]\n",
      " [ 0.00089663]\n",
      " [ 0.05225738]\n",
      " [ 0.0762984 ]\n",
      " [ 0.00273266]\n",
      " [ 0.07708916]\n",
      " [ 0.01071582]\n",
      " [-0.02226836]\n",
      " [ 0.05367133]\n",
      " [ 0.06208587]\n",
      " [ 0.10357967]]\n",
      "rglobal_store\n",
      "[[-0.01294173]\n",
      " [ 0.01923927]\n",
      " [ 0.00636171]\n",
      " [ 0.01799734]\n",
      " [-0.02228787]\n",
      " [ 0.04097822]\n",
      " [-0.00332183]\n",
      " [ 0.02340419]\n",
      " [-0.01753167]\n",
      " [-0.01605844]\n",
      " [ 0.02090177]\n",
      " [ 0.00491477]\n",
      " [ 0.0121671 ]\n",
      " [-0.01921188]\n",
      " [-0.00646067]\n",
      " [ 0.02148145]\n",
      " [-0.01855324]\n",
      " [-0.05379149]\n",
      " [-0.02821416]\n",
      " [-0.00867859]\n",
      " [ 0.00843656]\n",
      " [-0.01524065]\n",
      " [-0.01060929]\n",
      " [ 0.00494616]\n",
      " [ 0.00122572]\n",
      " [ 0.00946552]\n",
      " [ 0.00312655]\n",
      " [ 0.02148312]\n",
      " [-0.0035702 ]\n",
      " [-0.02269031]]\n"
     ]
    }
   ],
   "source": [
    "psi= np.ones((n,1))\n",
    "\n",
    "# Solve system with \"numerical error\" for every solve\n",
    "vglobal_store,vaglobal_store,rglobal_store= Citeration_additive_approx(C,f,alpha,n,p,K,mpert,wpert,iprint)\n",
    "\n",
    "if iprint >= 4:\n",
    "    print('vglobal_store')\n",
    "    print(vglobal_store)\n",
    "    print('vaglobal_store')\n",
    "    print(vaglobal_store)\n",
    "    print('rglobal_store')\n",
    "    print(rglobal_store)    "
   ]
  },
  {
   "cell_type": "markdown",
   "id": "b691867c",
   "metadata": {
    "scrolled": true
   },
   "source": [
    "#### Calculate the discretization error and effectivity ratio"
   ]
  },
  {
   "cell_type": "code",
   "execution_count": 100,
   "id": "2c76b51c",
   "metadata": {},
   "outputs": [
    {
     "data": {
      "text/plain": [
       "array([[ 0.01406321],\n",
       "       [ 0.04623057],\n",
       "       [ 0.07963662],\n",
       "       [ 0.02262606],\n",
       "       [ 0.04197967],\n",
       "       [ 0.0282514 ],\n",
       "       [-0.0093479 ],\n",
       "       [ 0.08270677],\n",
       "       [ 0.02634515],\n",
       "       [ 0.04529282],\n",
       "       [ 0.01767509],\n",
       "       [ 0.03881777],\n",
       "       [ 0.06914326],\n",
       "       [ 0.01140214],\n",
       "       [ 0.05996826],\n",
       "       [ 0.038255  ],\n",
       "       [-0.01861866],\n",
       "       [ 0.07756918],\n",
       "       [ 0.03334546],\n",
       "       [ 0.06282098],\n",
       "       [ 0.01903506],\n",
       "       [ 0.03889105],\n",
       "       [ 0.06554565],\n",
       "       [ 0.01078518],\n",
       "       [ 0.06905644],\n",
       "       [ 0.04282024],\n",
       "       [-0.01849901],\n",
       "       [ 0.07660322],\n",
       "       [ 0.03678929],\n",
       "       [ 0.07193951]])"
      ]
     },
     "execution_count": 100,
     "metadata": {},
     "output_type": "execute_result"
    }
   ],
   "source": [
    "vglobal_store"
   ]
  },
  {
   "cell_type": "code",
   "execution_count": 101,
   "id": "69a92664",
   "metadata": {
    "scrolled": true
   },
   "outputs": [
    {
     "name": "stdout",
     "output_type": "stream",
     "text": [
      "10 4 3\n",
      "Citeration_additive_adjoint: k= 2, i= 3\n",
      "[0.16179776 0.16920738 0.16141054 0.17147101 0.09042594 0.14617614\n",
      " 1.         1.         1.         1.        ]\n",
      "Citeration_additive_adjoint: k= 2, i= 2\n",
      "[0.17646575 0.196746   0.17649974 1.         1.         1.\n",
      " 1.         1.         0.20622522 0.23195479]\n",
      "Citeration_additive_adjoint: k= 2, i= 1\n",
      "[0.1128471  1.         1.         1.         0.13604672 0.15965584\n",
      " 0.09834497 0.11815382 0.0279641  0.15506265]\n",
      "Citeration_additive_adjoint: k= 2, i= 0\n",
      "[1.         1.         1.         0.16141379 0.09831205 0.146318\n",
      " 0.05707609 0.0775008  0.06123098 0.14550909]\n",
      "Citeration_additive_adjoint: k= 1, i= 3\n",
      "[ 0.02011835  0.03632593  0.02741914  0.009825    0.01232904  0.02903463\n",
      " -0.07771053 -0.09782731  0.35228986  0.23373673]\n",
      "Citeration_additive_adjoint: k= 1, i= 2\n",
      "[ 0.02311214  0.03075559 -0.00998715 -0.1664424   0.33760765  0.27392501\n",
      " -0.07771053 -0.09782731  0.00946667 -0.00232289]\n",
      "Citeration_additive_adjoint: k= 1, i= 1\n",
      "[-0.0195923  -0.18297669 -0.16895514 -0.1664424  -0.02278573 -0.02775862\n",
      " -0.01692963 -0.02041178 -0.00490541 -0.02620449]\n",
      "Citeration_additive_adjoint: k= 1, i= 0\n",
      "[ 0.2744447  -0.18297669 -0.16895514 -0.01798465 -0.01038228 -0.02351777\n",
      " -0.00343055 -0.00067253  0.00603204 -0.00232152]\n",
      "phiglobal_store\n",
      "[[ 0.12540326 -0.03354076 -0.008716    0.00407982  0.17922331  0.14808338\n",
      "   0.01018009  0.01054215  0.17084828  0.13229282  0.2744447  -0.18297669\n",
      "  -0.16895514 -0.1664424   0.33760765  0.27392501 -0.07771053 -0.09782731\n",
      "   0.35228986  0.23373673  1.          1.          1.          1.\n",
      "   1.          1.          1.          1.          1.          1.        ]]\n",
      "norm(r_store) =  1.064093e-01, norm(phi_store)=  3.265932e+00\n",
      "QoI_discretization_error          = -4.091942e-03\n",
      "QoI_discretization_error_estimate = -4.091942e-03\n",
      "Effectivity ratio                 =         1.000\n"
     ]
    }
   ],
   "source": [
    "# Adjoint solve\n",
    "phiglobal_store= Citeration_additive_adjoint(C,psi,alpha,n,p,K,iprint)\n",
    "if iprint >= 4:\n",
    "    print('phiglobal_store')\n",
    "    print(phiglobal_store.T)\n",
    "\n",
    "# Error estimate= (r,\\phi)\n",
    "qoi_discretization_error_estimate= (rglobal_store.T @ phiglobal_store)[0,0]\n",
    "\n",
    "if iprint >= 4:\n",
    "    print(f'norm(r_store) = {np.linalg.norm(rglobal_store):13.6e}, norm(phi_store)= {np.linalg.norm(phiglobal_store):13.6e}')\n",
    "\n",
    "# Compute error and error in QoI directly\n",
    "vsoln= vglobal_store[n * (K-1): n * K, 0]\n",
    "vasoln= vaglobal_store[n * K: n * (K+1), 0]\n",
    "verror= vsoln.T-vasoln\n",
    "qoi_discretization_error= (psi.T @ verror.T)[0]\n",
    "\n",
    "# Calculate effectivity ratio\n",
    "effectivity_ratio_disc= qoi_discretization_error_estimate/ qoi_discretization_error\n",
    "print(f'QoI_discretization_error          = {qoi_discretization_error:13.6e}')\n",
    "print(f'QoI_discretization_error_estimate = {qoi_discretization_error_estimate:13.6e}')\n",
    "print(f'Effectivity ratio                 = {effectivity_ratio_disc:13.3f}')"
   ]
  },
  {
   "cell_type": "markdown",
   "id": "e6bb7e69",
   "metadata": {},
   "source": [
    "##### Calculate the total error and effectivity ratio"
   ]
  },
  {
   "cell_type": "code",
   "execution_count": 102,
   "id": "b57080a7",
   "metadata": {
    "scrolled": true
   },
   "outputs": [
    {
     "name": "stdout",
     "output_type": "stream",
     "text": [
      "QoI_total_error                   =  1.278721e-02\n",
      "QoI_total_error_estimate          =  1.278721e-02\n",
      "Effectivity ratio                 =  1.000000e+00\n"
     ]
    }
   ],
   "source": [
    "# Adjoint solve\n",
    "phi= np.linalg.solve(M.T,psi)\n",
    "\n",
    "# Residual\n",
    "r= y.T - M @ vasoln\n",
    "\n",
    "# Error estimate= (r,\\phi)\n",
    "qoi_total_error_estimate= (r @ phi)[0,0]\n",
    "\n",
    "# Compute error in QoI directly\n",
    "total_error= xstore.reshape(-1) - vasoln.T\n",
    "qoi_total_error= psi.reshape(-1)@total_error\n",
    "\n",
    "# Calculate effectivity ratio\n",
    "effectivity_ratio_total= qoi_total_error_estimate / qoi_total_error\n",
    "print(f'QoI_total_error                   = {qoi_total_error:13.6e}')\n",
    "print(f'QoI_total_error_estimate          = {qoi_total_error_estimate:13.6e}')\n",
    "print(f'Effectivity ratio                 = {effectivity_ratio_total:13.6e}')"
   ]
  },
  {
   "cell_type": "markdown",
   "id": "500754ce",
   "metadata": {
    "id": "5d2478a0"
   },
   "source": [
    "#### Calculate iteration error as the difference between the total error and the discretization error"
   ]
  },
  {
   "cell_type": "code",
   "execution_count": 103,
   "id": "04e2782e",
   "metadata": {
    "id": "5d2478a0"
   },
   "outputs": [
    {
     "name": "stdout",
     "output_type": "stream",
     "text": [
      "QoI_iteration_error               =  1.687916e-02\n"
     ]
    }
   ],
   "source": [
    "qoi_iteration_error= qoi_total_error-qoi_discretization_error\n",
    "print(f'QoI_iteration_error               = {qoi_iteration_error:13.6e}')"
   ]
  },
  {
   "cell_type": "markdown",
   "id": "2f88dc76",
   "metadata": {},
   "source": [
    "#### D iteration with error"
   ]
  },
  {
   "cell_type": "code",
   "execution_count": 104,
   "id": "28bf5d82",
   "metadata": {},
   "outputs": [
    {
     "name": "stdout",
     "output_type": "stream",
     "text": [
      "Perform D iteration with error\n"
     ]
    }
   ],
   "source": [
    "# Diteration with error as a check on the accumulation of error\n",
    "print('Perform D iteration with error')"
   ]
  },
  {
   "cell_type": "code",
   "execution_count": 105,
   "id": "2cf09754",
   "metadata": {},
   "outputs": [
    {
     "name": "stdout",
     "output_type": "stream",
     "text": [
      "norm(w_store-vglobal_store)=  3.203373e-17\n"
     ]
    }
   ],
   "source": [
    "w_store,wa_store,wr_store= Diteration_additive_approx(D,g,alpha,n,p,K,wpert,mpert,iprint);\n",
    "print(f'norm(w_store-vglobal_store)= {np.linalg.norm(w_store-vglobal_store):13.6e}')"
   ]
  },
  {
   "cell_type": "code",
   "execution_count": 106,
   "id": "10de2f49",
   "metadata": {
    "scrolled": true
   },
   "outputs": [
    {
     "name": "stdout",
     "output_type": "stream",
     "text": [
      "norm(wa_store-vaglobal_store)=  4.320297e-17\n"
     ]
    }
   ],
   "source": [
    "print(f'norm(wa_store-vaglobal_store)= {np.linalg.norm(wa_store-vaglobal_store):13.6e}')"
   ]
  },
  {
   "cell_type": "code",
   "execution_count": 107,
   "id": "168eab70",
   "metadata": {},
   "outputs": [
    {
     "name": "stdout",
     "output_type": "stream",
     "text": [
      "norm(wr_store-rglobal_store)=  4.131593e-17\n"
     ]
    }
   ],
   "source": [
    "print(f'norm(wr_store-rglobal_store)= {np.linalg.norm(wr_store-rglobal_store):13.6e}')"
   ]
  },
  {
   "cell_type": "markdown",
   "id": "bfff0e57",
   "metadata": {},
   "source": [
    "### U iteration with error"
   ]
  },
  {
   "cell_type": "code",
   "execution_count": 108,
   "id": "b25ed8aa",
   "metadata": {
    "scrolled": true
   },
   "outputs": [
    {
     "name": "stdout",
     "output_type": "stream",
     "text": [
      "Solving U system with error\n"
     ]
    }
   ],
   "source": [
    "print('Solving U system with error')"
   ]
  },
  {
   "cell_type": "code",
   "execution_count": 109,
   "id": "4b4f483a",
   "metadata": {
    "scrolled": true
   },
   "outputs": [],
   "source": [
    "zexact,zapprox,zresid= Uhsolve_additive_approx(U,h,n,p,K,alpha,wpert,mpert,iprint)"
   ]
  },
  {
   "cell_type": "code",
   "execution_count": 110,
   "id": "f0c6cf7b",
   "metadata": {},
   "outputs": [
    {
     "name": "stdout",
     "output_type": "stream",
     "text": [
      "zexact\n",
      "[[ 0.01406321  0.04623057  0.07963662  0.02262606  0.04197967  0.0282514\n",
      "  -0.0093479   0.08270677  0.02634515  0.04529282  0.01767509  0.03881777\n",
      "   0.06914326  0.01140214  0.05996826  0.038255   -0.01861866  0.07756918\n",
      "   0.03334546  0.06282098  0.01903506  0.03889105  0.06554565  0.01078518\n",
      "   0.06905644  0.04282024 -0.01849901  0.07660322  0.03678929  0.07193951]]\n",
      "zapprox\n",
      "[[ 2.70049389e-02  2.69913008e-02  7.32749101e-02  4.62872078e-03\n",
      "   6.42675395e-02 -1.27268260e-02 -6.02606606e-03  5.93025833e-02\n",
      "   4.38768235e-02  6.13512623e-02 -3.22668405e-03  3.39030082e-02\n",
      "   5.69761641e-02  3.06140174e-02  6.64289253e-02  1.67735413e-02\n",
      "  -6.54220890e-05  1.31360668e-01  6.15596292e-02  7.14995746e-02\n",
      "   1.05984996e-02  5.41317009e-02  7.61549347e-02  5.83901529e-03\n",
      "   6.78307206e-02  3.33547217e-02 -2.16255573e-02  5.51200966e-02\n",
      "   4.03594818e-02  9.46298164e-02]]\n",
      "zresid\n",
      "[[-0.01294173  0.01923927  0.00636171  0.01799734 -0.02228787  0.04097822\n",
      "  -0.00332183  0.02340419 -0.01753167 -0.01605844  0.02710998  0.00848912\n",
      "   0.01201568 -0.01895203  0.00459583  0.00068035 -0.01755343 -0.05550249\n",
      "  -0.01759064  0.00066589 -0.00391975 -0.0180529  -0.01008065  0.00247985\n",
      "   0.00545911 -0.00209758  0.00282457  0.02132625  0.01243951 -0.0182234 ]]\n"
     ]
    }
   ],
   "source": [
    "if iprint >= 4:\n",
    "    print('zexact')\n",
    "    print(zexact.T)\n",
    "    print('zapprox')\n",
    "    print(zapprox.T)\n",
    "    print('zresid')\n",
    "    print(zresid.T)"
   ]
  },
  {
   "cell_type": "code",
   "execution_count": 111,
   "id": "39acf293",
   "metadata": {},
   "outputs": [
    {
     "name": "stdout",
     "output_type": "stream",
     "text": [
      "Norm of difference between zexact   and vglobal_store   3.327777e-17\n",
      "Norm of difference between zapprox  and vaglobal_store  4.550431e-02\n",
      "Norm of difference between zresid   and rglobal_store   3.748869e-02\n"
     ]
    }
   ],
   "source": [
    "if iprint >= 2:\n",
    "    print(f'Norm of difference between zexact   and vglobal_store  {np.linalg.norm(zexact-vglobal_store):13.6e}')\n",
    "    print(f'Norm of difference between zapprox  and vaglobal_store {np.linalg.norm(zapprox-vaglobal_store[n:]):13.6e}')\n",
    "    print(f'Norm of difference between zresid   and rglobal_store  {np.linalg.norm(zresid-rglobal_store):13.6e}')"
   ]
  },
  {
   "cell_type": "markdown",
   "id": "beed203e",
   "metadata": {},
   "source": [
    "#### Calculate the discretization error and effectivity ratio"
   ]
  },
  {
   "cell_type": "code",
   "execution_count": 112,
   "id": "22f784a4",
   "metadata": {},
   "outputs": [
    {
     "name": "stdout",
     "output_type": "stream",
     "text": [
      "Norm of difference between phi_nK and phiglobal_store  2.652723e-16\n"
     ]
    }
   ],
   "source": [
    "# Adjoint data (Adjoint system is of size nK)\n",
    "psi_nK= np.zeros((n*K,1))\n",
    "psi_nK[n * (K-1):n * K,0:1]= psi\n",
    "\n",
    "# Solve adjoint equation\n",
    "phi_nK= np.linalg.solve(U.T,psi_nK)\n",
    "if iprint >= 2:\n",
    "    print(f'Norm of difference between phi_nK and phiglobal_store {np.linalg.norm(phi_nK-phiglobal_store):13.6e}')"
   ]
  },
  {
   "cell_type": "code",
   "execution_count": 113,
   "id": "00a87eed",
   "metadata": {
    "id": "5d2478a0"
   },
   "outputs": [],
   "source": [
    "# Compute error estimate\n",
    "qoi_discretization_error_estimate= (phi_nK.T @ zresid)[0,0]\n",
    "\n",
    "# Compute error and error in QoI directly\n",
    "zsoln= zexact[-n:,0:1]\n",
    "zasoln= zapprox[-n:,0:1]\n",
    "zerror= zsoln - zasoln\n",
    "qoi_discretization_error= (psi.T @ zerror)[0,0]"
   ]
  },
  {
   "cell_type": "markdown",
   "id": "854e5888",
   "metadata": {},
   "source": [
    "#### Calculate the effectivity ratio"
   ]
  },
  {
   "cell_type": "code",
   "execution_count": 114,
   "id": "ebabd28d",
   "metadata": {
    "id": "5d2478a0"
   },
   "outputs": [
    {
     "name": "stdout",
     "output_type": "stream",
     "text": [
      "QoI_discretization_error          = -3.426811e-03\n",
      "QoI_discretization_error_estimate = -3.426811e-03\n",
      "Effectivity ratio                 =         1.000\n"
     ]
    }
   ],
   "source": [
    "effectivity_ratio_disc= qoi_discretization_error_estimate / qoi_discretization_error\n",
    "print(f'QoI_discretization_error          = {qoi_discretization_error:13.6e}' )\n",
    "print(f'QoI_discretization_error_estimate = {qoi_discretization_error_estimate:13.6e}')\n",
    "print(f'Effectivity ratio                 = {effectivity_ratio_disc:13.3f}')"
   ]
  },
  {
   "cell_type": "markdown",
   "id": "11bd9b28",
   "metadata": {},
   "source": [
    "#### Calculate the total error and effectivity ratio"
   ]
  },
  {
   "cell_type": "code",
   "execution_count": 115,
   "id": "f5034f19",
   "metadata": {
    "id": "5d2478a0"
   },
   "outputs": [
    {
     "name": "stdout",
     "output_type": "stream",
     "text": [
      "QoI_total_error                   =  1.345234e-02\n",
      "QoI_total_error_estimate          =  1.345234e-02\n",
      "Effectivity ratio                 =         1.000\n"
     ]
    }
   ],
   "source": [
    "# Residual\n",
    "r= y - M @ zasoln\n",
    "\n",
    "# Error estimate= (r,\\phi)\n",
    "qoi_total_error_estimate= r.T @ phi\n",
    "\n",
    "# Compute error in QoI directly\n",
    "total_error= xstore - zasoln\n",
    "qoi_total_error= psi.T @ total_error\n",
    "\n",
    "#Effectivity ratio\n",
    "effectivity_ratio_total= qoi_total_error_estimate / qoi_total_error\n",
    "print(f'QoI_total_error                   = {qoi_total_error[0,0]:13.6e}')\n",
    "print(f'QoI_total_error_estimate          = {qoi_total_error_estimate[0,0]:13.6e}')\n",
    "print(f'Effectivity ratio                 = {effectivity_ratio_total[0,0]:13.3f}')"
   ]
  },
  {
   "cell_type": "markdown",
   "id": "b32c256b",
   "metadata": {
    "id": "5d2478a0"
   },
   "source": [
    "#### Calculate the iteration error as the difference between the total error and the discretization error"
   ]
  },
  {
   "cell_type": "code",
   "execution_count": 116,
   "id": "483210e7",
   "metadata": {
    "id": "5d2478a0"
   },
   "outputs": [
    {
     "name": "stdout",
     "output_type": "stream",
     "text": [
      "QoI_iteration_error               =  1.687916e-02\n"
     ]
    }
   ],
   "source": [
    "qoi_iteration_error= qoi_total_error - qoi_discretization_error\n",
    "print(f'QoI_iteration_error               = {qoi_iteration_error[0,0]:13.6e}')"
   ]
  },
  {
   "cell_type": "code",
   "execution_count": null,
   "id": "a80537c5",
   "metadata": {},
   "outputs": [],
   "source": []
  },
  {
   "cell_type": "code",
   "execution_count": null,
   "id": "0833809e",
   "metadata": {},
   "outputs": [],
   "source": []
  }
 ],
 "metadata": {
  "colab": {
   "collapsed_sections": [
    "Pm69IKhJhkAi",
    "P8_qLIJNb6cv",
    "6ljxw4sXnjLo",
    "W6kJj2bf-Swy",
    "f8Apbo74_sx_",
    "jxzyQwB-cDTl",
    "p384sqSucH9m",
    "5maDvWnGbq_U",
    "R_asHpZcob70",
    "mJm01yDDcTHi",
    "m6vPGA3pMpMv",
    "dhcWJFRooNQw"
   ],
   "name": "Multiplicative Schwarz.ipynb",
   "provenance": []
  },
  "kernelspec": {
   "display_name": "Python 3",
   "language": "python",
   "name": "python3"
  },
  "language_info": {
   "codemirror_mode": {
    "name": "ipython",
    "version": 3
   },
   "file_extension": ".py",
   "mimetype": "text/x-python",
   "name": "python",
   "nbconvert_exporter": "python",
   "pygments_lexer": "ipython3",
   "version": "3.8.8"
  }
 },
 "nbformat": 4,
 "nbformat_minor": 5
}
